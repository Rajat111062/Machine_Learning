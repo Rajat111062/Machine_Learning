{
 "cells": [
  {
   "cell_type": "markdown",
   "metadata": {},
   "source": [
    "#### Scikit-learn is a very popular Machine Learning library for Python. In this kernel let us use it to build a machine learning model using k-Nearest Neighbors algorithm to predict whether the patients in the \"Pima Indians Diabetes Dataset\" have diabetes or not."
   ]
  },
  {
   "cell_type": "code",
   "execution_count": 112,
   "metadata": {},
   "outputs": [],
   "source": [
    "import pandas as pd\n",
    "import numpy as np\n",
    "import matplotlib.pyplot as plt\n",
    "import seaborn as sns"
   ]
  },
  {
   "cell_type": "code",
   "execution_count": 113,
   "metadata": {},
   "outputs": [
    {
     "data": {
      "text/html": [
       "<div>\n",
       "<style scoped>\n",
       "    .dataframe tbody tr th:only-of-type {\n",
       "        vertical-align: middle;\n",
       "    }\n",
       "\n",
       "    .dataframe tbody tr th {\n",
       "        vertical-align: top;\n",
       "    }\n",
       "\n",
       "    .dataframe thead th {\n",
       "        text-align: right;\n",
       "    }\n",
       "</style>\n",
       "<table border=\"1\" class=\"dataframe\">\n",
       "  <thead>\n",
       "    <tr style=\"text-align: right;\">\n",
       "      <th></th>\n",
       "      <th>Pregnancies</th>\n",
       "      <th>Glucose</th>\n",
       "      <th>BloodPressure</th>\n",
       "      <th>SkinThickness</th>\n",
       "      <th>Insulin</th>\n",
       "      <th>BMI</th>\n",
       "      <th>DiabetesPedigreeFunction</th>\n",
       "      <th>Age</th>\n",
       "      <th>Outcome</th>\n",
       "    </tr>\n",
       "  </thead>\n",
       "  <tbody>\n",
       "    <tr>\n",
       "      <th>0</th>\n",
       "      <td>6</td>\n",
       "      <td>148</td>\n",
       "      <td>72</td>\n",
       "      <td>35</td>\n",
       "      <td>0</td>\n",
       "      <td>33.6</td>\n",
       "      <td>0.627</td>\n",
       "      <td>50</td>\n",
       "      <td>1</td>\n",
       "    </tr>\n",
       "    <tr>\n",
       "      <th>1</th>\n",
       "      <td>1</td>\n",
       "      <td>85</td>\n",
       "      <td>66</td>\n",
       "      <td>29</td>\n",
       "      <td>0</td>\n",
       "      <td>26.6</td>\n",
       "      <td>0.351</td>\n",
       "      <td>31</td>\n",
       "      <td>0</td>\n",
       "    </tr>\n",
       "    <tr>\n",
       "      <th>2</th>\n",
       "      <td>8</td>\n",
       "      <td>183</td>\n",
       "      <td>64</td>\n",
       "      <td>0</td>\n",
       "      <td>0</td>\n",
       "      <td>23.3</td>\n",
       "      <td>0.672</td>\n",
       "      <td>32</td>\n",
       "      <td>1</td>\n",
       "    </tr>\n",
       "    <tr>\n",
       "      <th>3</th>\n",
       "      <td>1</td>\n",
       "      <td>89</td>\n",
       "      <td>66</td>\n",
       "      <td>23</td>\n",
       "      <td>94</td>\n",
       "      <td>28.1</td>\n",
       "      <td>0.167</td>\n",
       "      <td>21</td>\n",
       "      <td>0</td>\n",
       "    </tr>\n",
       "    <tr>\n",
       "      <th>4</th>\n",
       "      <td>0</td>\n",
       "      <td>137</td>\n",
       "      <td>40</td>\n",
       "      <td>35</td>\n",
       "      <td>168</td>\n",
       "      <td>43.1</td>\n",
       "      <td>2.288</td>\n",
       "      <td>33</td>\n",
       "      <td>1</td>\n",
       "    </tr>\n",
       "  </tbody>\n",
       "</table>\n",
       "</div>"
      ],
      "text/plain": [
       "   Pregnancies  Glucose  BloodPressure  SkinThickness  Insulin   BMI  \\\n",
       "0            6      148             72             35        0  33.6   \n",
       "1            1       85             66             29        0  26.6   \n",
       "2            8      183             64              0        0  23.3   \n",
       "3            1       89             66             23       94  28.1   \n",
       "4            0      137             40             35      168  43.1   \n",
       "\n",
       "   DiabetesPedigreeFunction  Age  Outcome  \n",
       "0                     0.627   50        1  \n",
       "1                     0.351   31        0  \n",
       "2                     0.672   32        1  \n",
       "3                     0.167   21        0  \n",
       "4                     2.288   33        1  "
      ]
     },
     "execution_count": 113,
     "metadata": {},
     "output_type": "execute_result"
    }
   ],
   "source": [
    "df = pd.read_csv(r'E:\\InnoDaat\\KNN_proejct\\diabetes.csv')\n",
    "df.head()"
   ]
  },
  {
   "cell_type": "code",
   "execution_count": 114,
   "metadata": {},
   "outputs": [
    {
     "data": {
      "text/plain": [
       "Pregnancies                 0\n",
       "Glucose                     0\n",
       "BloodPressure               0\n",
       "SkinThickness               0\n",
       "Insulin                     0\n",
       "BMI                         0\n",
       "DiabetesPedigreeFunction    0\n",
       "Age                         0\n",
       "Outcome                     0\n",
       "dtype: int64"
      ]
     },
     "execution_count": 114,
     "metadata": {},
     "output_type": "execute_result"
    }
   ],
   "source": [
    "df.isnull().sum()"
   ]
  },
  {
   "cell_type": "code",
   "execution_count": 115,
   "metadata": {},
   "outputs": [
    {
     "data": {
      "text/plain": [
       "(768, 9)"
      ]
     },
     "execution_count": 115,
     "metadata": {},
     "output_type": "execute_result"
    }
   ],
   "source": [
    "df.shape"
   ]
  },
  {
   "cell_type": "code",
   "execution_count": 116,
   "metadata": {},
   "outputs": [],
   "source": [
    "X = df.drop('Outcome',axis=1)\n",
    "y = df['Outcome']"
   ]
  },
  {
   "cell_type": "code",
   "execution_count": 119,
   "metadata": {},
   "outputs": [
    {
     "name": "stdout",
     "output_type": "stream",
     "text": [
      "Accuracy : 0.8631921824104235\n"
     ]
    }
   ],
   "source": [
    "from sklearn.model_selection import train_test_split\n",
    "X_train,X_test,y_train,y_test = train_test_split(X,y,test_size=0.2,random_state=50)\n",
    "\n",
    "from sklearn.model_selection import train_test_split\n",
    "from sklearn.neighbors import KNeighborsClassifier\n",
    "\n",
    "X_train,X_test,y_train,y_test = train_test_split(X,y,test_size=0.2,random_state=20)\n",
    "\n",
    "kreg = KNeighborsClassifier(n_neighbors=3)\n",
    "kreg.fit(X_train,y_train)\n",
    "print('Accuracy :',kreg.score(X_train,y_train))"
   ]
  },
  {
   "cell_type": "code",
   "execution_count": 120,
   "metadata": {},
   "outputs": [
    {
     "name": "stdout",
     "output_type": "stream",
     "text": [
      "(614, 8) (154,)\n"
     ]
    }
   ],
   "source": [
    "print(X_train.shape,y_test.shape)"
   ]
  },
  {
   "cell_type": "code",
   "execution_count": 121,
   "metadata": {},
   "outputs": [
    {
     "name": "stdout",
     "output_type": "stream",
     "text": [
      "y_test    y_pred\n",
      "1 \t  1\n",
      "1 \t  1\n",
      "0 \t  0\n",
      "0 \t  0\n",
      "0 \t  0\n",
      "0 \t  1\n",
      "1 \t  1\n",
      "1 \t  0\n",
      "0 \t  0\n",
      "0 \t  0\n",
      "1 \t  1\n",
      "0 \t  0\n",
      "1 \t  0\n",
      "0 \t  0\n",
      "0 \t  0\n",
      "0 \t  0\n",
      "0 \t  0\n",
      "1 \t  0\n",
      "0 \t  0\n",
      "1 \t  0\n",
      "0 \t  0\n",
      "0 \t  1\n",
      "0 \t  0\n",
      "0 \t  0\n",
      "1 \t  1\n",
      "0 \t  0\n",
      "1 \t  0\n",
      "0 \t  0\n",
      "1 \t  1\n",
      "1 \t  1\n",
      "1 \t  1\n",
      "0 \t  1\n",
      "1 \t  1\n",
      "0 \t  0\n",
      "0 \t  1\n",
      "1 \t  1\n",
      "1 \t  0\n",
      "0 \t  0\n",
      "0 \t  0\n",
      "1 \t  0\n",
      "1 \t  0\n",
      "0 \t  0\n",
      "0 \t  1\n",
      "0 \t  0\n",
      "0 \t  0\n",
      "0 \t  1\n",
      "0 \t  0\n",
      "0 \t  0\n",
      "0 \t  1\n",
      "1 \t  0\n",
      "1 \t  1\n",
      "0 \t  0\n",
      "1 \t  0\n",
      "1 \t  1\n",
      "1 \t  1\n",
      "0 \t  0\n",
      "0 \t  0\n",
      "1 \t  0\n",
      "0 \t  0\n",
      "0 \t  1\n",
      "1 \t  0\n",
      "0 \t  0\n",
      "0 \t  0\n",
      "0 \t  1\n",
      "0 \t  0\n",
      "1 \t  1\n",
      "0 \t  0\n",
      "0 \t  0\n",
      "0 \t  0\n",
      "1 \t  1\n",
      "0 \t  0\n",
      "1 \t  0\n",
      "0 \t  0\n",
      "0 \t  0\n",
      "1 \t  1\n",
      "1 \t  0\n",
      "1 \t  0\n",
      "1 \t  1\n",
      "0 \t  1\n",
      "0 \t  0\n",
      "0 \t  1\n",
      "0 \t  0\n",
      "0 \t  1\n",
      "1 \t  1\n",
      "0 \t  1\n",
      "1 \t  0\n",
      "0 \t  0\n",
      "0 \t  0\n",
      "1 \t  0\n",
      "1 \t  1\n",
      "0 \t  1\n",
      "0 \t  1\n",
      "0 \t  1\n",
      "1 \t  0\n",
      "1 \t  0\n",
      "0 \t  0\n",
      "0 \t  0\n",
      "0 \t  0\n",
      "0 \t  0\n",
      "0 \t  0\n",
      "0 \t  0\n",
      "0 \t  1\n",
      "0 \t  0\n",
      "1 \t  0\n",
      "0 \t  0\n",
      "0 \t  0\n",
      "0 \t  1\n",
      "1 \t  1\n",
      "0 \t  0\n",
      "0 \t  0\n",
      "0 \t  0\n",
      "1 \t  1\n",
      "1 \t  1\n",
      "1 \t  1\n",
      "0 \t  0\n",
      "0 \t  0\n",
      "0 \t  0\n",
      "1 \t  1\n",
      "0 \t  0\n",
      "0 \t  0\n",
      "1 \t  0\n",
      "0 \t  1\n",
      "0 \t  0\n",
      "0 \t  0\n",
      "0 \t  0\n",
      "1 \t  0\n",
      "1 \t  1\n",
      "0 \t  0\n",
      "0 \t  0\n",
      "0 \t  0\n",
      "0 \t  1\n",
      "0 \t  1\n",
      "0 \t  0\n",
      "0 \t  1\n",
      "1 \t  1\n",
      "1 \t  1\n",
      "0 \t  0\n",
      "0 \t  0\n",
      "0 \t  0\n",
      "0 \t  0\n",
      "0 \t  1\n",
      "0 \t  0\n",
      "1 \t  1\n",
      "0 \t  0\n",
      "0 \t  0\n",
      "1 \t  1\n",
      "0 \t  0\n",
      "0 \t  0\n",
      "0 \t  1\n",
      "0 \t  0\n",
      "1 \t  0\n",
      "0 \t  0\n",
      "1 \t  0\n",
      "0 \t  0\n"
     ]
    }
   ],
   "source": [
    "##### I get the 86% accuracy score for pred/test.\n",
    "from sklearn.metrics import confusion_matrix\n",
    "y_pred = kreg.predict(X_test)\n",
    "print(\"y_test    y_pred\")\n",
    "for i in range(len(y_pred)):\n",
    "    print(y_pred[i], '\\t ',np.array(y_test)[i])\n"
   ]
  },
  {
   "cell_type": "code",
   "execution_count": 122,
   "metadata": {},
   "outputs": [
    {
     "data": {
      "text/plain": [
       "array([[77, 24],\n",
       "       [24, 29]], dtype=int64)"
      ]
     },
     "execution_count": 122,
     "metadata": {},
     "output_type": "execute_result"
    }
   ],
   "source": [
    "confusion_matrix(y_test,y_pred)"
   ]
  },
  {
   "cell_type": "code",
   "execution_count": 123,
   "metadata": {},
   "outputs": [
    {
     "data": {
      "text/html": [
       "<div>\n",
       "<style scoped>\n",
       "    .dataframe tbody tr th:only-of-type {\n",
       "        vertical-align: middle;\n",
       "    }\n",
       "\n",
       "    .dataframe tbody tr th {\n",
       "        vertical-align: top;\n",
       "    }\n",
       "\n",
       "    .dataframe thead th {\n",
       "        text-align: right;\n",
       "    }\n",
       "</style>\n",
       "<table border=\"1\" class=\"dataframe\">\n",
       "  <thead>\n",
       "    <tr style=\"text-align: right;\">\n",
       "      <th></th>\n",
       "      <th>Pregnancies</th>\n",
       "      <th>Glucose</th>\n",
       "      <th>BloodPressure</th>\n",
       "      <th>SkinThickness</th>\n",
       "      <th>Insulin</th>\n",
       "      <th>BMI</th>\n",
       "      <th>DiabetesPedigreeFunction</th>\n",
       "      <th>Age</th>\n",
       "      <th>Outcome</th>\n",
       "    </tr>\n",
       "  </thead>\n",
       "  <tbody>\n",
       "    <tr>\n",
       "      <th>0</th>\n",
       "      <td>6</td>\n",
       "      <td>148</td>\n",
       "      <td>72</td>\n",
       "      <td>35</td>\n",
       "      <td>0</td>\n",
       "      <td>33.6</td>\n",
       "      <td>0.627</td>\n",
       "      <td>50</td>\n",
       "      <td>1</td>\n",
       "    </tr>\n",
       "  </tbody>\n",
       "</table>\n",
       "</div>"
      ],
      "text/plain": [
       "   Pregnancies  Glucose  BloodPressure  SkinThickness  Insulin   BMI  \\\n",
       "0            6      148             72             35        0  33.6   \n",
       "\n",
       "   DiabetesPedigreeFunction  Age  Outcome  \n",
       "0                     0.627   50        1  "
      ]
     },
     "execution_count": 123,
     "metadata": {},
     "output_type": "execute_result"
    }
   ],
   "source": [
    "df.head(1)"
   ]
  },
  {
   "cell_type": "markdown",
   "metadata": {},
   "source": [
    "### We want to predict if some full fill the below mentioned tech.\n",
    "    Pregnancies : 7\n",
    "    Glucose : 138\n",
    "    BlooPressure : 75\n",
    "    SKinThickness: 31\n",
    "    Insulin : 0\n",
    "    BMI : 32.9\n",
    "    Diabetes : 0.543\n",
    "    Age : 48"
   ]
  },
  {
   "cell_type": "code",
   "execution_count": 124,
   "metadata": {},
   "outputs": [
    {
     "name": "stdout",
     "output_type": "stream",
     "text": [
      "              precision    recall  f1-score   support\n",
      "\n",
      "           0       0.76      0.76      0.76       101\n",
      "           1       0.55      0.55      0.55        53\n",
      "\n",
      "    accuracy                           0.69       154\n",
      "   macro avg       0.65      0.65      0.65       154\n",
      "weighted avg       0.69      0.69      0.69       154\n",
      "\n",
      "According to the data, Diabetes may be or not in the user : 86% chance yes/No [1,0] :  1\n"
     ]
    }
   ],
   "source": [
    "from sklearn.metrics import classification_report\n",
    "print(classification_report(y_test,y_pred))\n",
    "\n",
    "UserPredict = kreg.predict([[7,138,75,31,0,32.9,0.543,48]])\n",
    "print(\"According to the data, Diabetes may be or not in the user : 86% chance yes/No [1,0] : \",UserPredict[0])"
   ]
  },
  {
   "cell_type": "markdown",
   "metadata": {},
   "source": [
    "### ROC (Reciever Operating Charecteristic) curve\n",
    "### Two diagnostic tools that help in the interpretation of probabilistic forecast for binary (two-class) classification predictive modeling problems are ROC Curves and Precision-Recall curves.\n",
    "    In this tutorial, you will discover ROC Curves, Precision-Recall Curves, and when to use each to interpret the prediction of probabilities for binary classification problems.\n",
    "    After completing this tutorial, you will know:\n",
    "    > ROC Curves summarize the trade-off between the true positive rate and false positive rate for a predictive model using different probability thresholds.\n",
    "       : Precision-Recall curves summarize the trade-off between the true positive rate and the positive predictive value for a predictive model using different probability thresholds.\n",
    "      : ROC curves are appropriate when the observations are balanced between each class, whereas precision-recall curves are appropriate for imbalanced datasets."
   ]
  },
  {
   "cell_type": "code",
   "execution_count": 125,
   "metadata": {},
   "outputs": [],
   "source": [
    "from sklearn.metrics import roc_curve\n",
    "kreg_pred_proba = kreg.predict_proba(X_test)[:,1]\n",
    "fpr , tpr, thresold = roc_curve(y_test,kreg_pred_proba)"
   ]
  },
  {
   "cell_type": "code",
   "execution_count": 126,
   "metadata": {},
   "outputs": [
    {
     "data": {
      "image/png": "[encoded data removed]",
      "text/plain": [
       "<Figure size 432x288 with 1 Axes>"
      ]
     },
     "metadata": {
      "needs_background": "light"
     },
     "output_type": "display_data"
    }
   ],
   "source": [
    "plt.plot([0,1],[0,1],'k--')\n",
    "plt.plot(fpr,tpr,label='knn')\n",
    "plt.xlabel('fpr')\n",
    "plt.ylabel('tpr')\n",
    "plt.title('knn(k=3)')\n",
    "plt.show()"
   ]
  },
  {
   "cell_type": "code",
   "execution_count": 127,
   "metadata": {},
   "outputs": [
    {
     "data": {
      "text/plain": [
       "0.7038109471324492"
      ]
     },
     "execution_count": 127,
     "metadata": {},
     "output_type": "execute_result"
    }
   ],
   "source": [
    "# area of ROC curve\n",
    "from sklearn.metrics import roc_auc_score\n",
    "roc_auc_score(y_test,kreg_pred_proba)\n"
   ]
  },
  {
   "cell_type": "markdown",
   "metadata": {},
   "source": [
    "# Cross Validation \n",
    "\n",
    "#### the training performance totally depend on the who percentage data split in the model. \n",
    "    Tehcnique:\n",
    "        1. K-fold cross validation technique.\n",
    "            process :  1. we have to shuffle the dataset randomly.\n",
    "                       2. split dataset into K groups.\n",
    "            This approach involves randomly dividing the set of observations into k groups, or folds, of approximately equal size. The first fold is treated as a validation set, and the method is fit on the remaining k − 1 folds.\n",
    "\n",
    "# Technique use like : GridSearchCV"
   ]
  },
  {
   "cell_type": "code",
   "execution_count": 130,
   "metadata": {},
   "outputs": [
    {
     "name": "stdout",
     "output_type": "stream",
     "text": [
      "0.7578558696205755 , {'n_neighbors': 14}\n"
     ]
    }
   ],
   "source": [
    "from sklearn.model_selection import GridSearchCV\n",
    "\n",
    "# Tunning a N-neighbour.\n",
    "#param_grid = np.arange(1,50)\n",
    "param_grid = {'n_neighbors':np.arange(1,30)}\n",
    "# K-Neighbors calling\n",
    "knn = KNeighborsClassifier()\n",
    "knn_cv  = GridSearchCV(knn,param_grid,cv=5)\n",
    "knn_cv.fit(X,y)\n",
    "\n",
    "print(knn_cv.best_score_,',',knn_cv.best_params_)"
   ]
  },
  {
   "cell_type": "markdown",
   "metadata": {},
   "source": [
    "#### Thus a knn classifier with number of neighbors as 14 achieves the best score/accuracy of 0.7578 i.e about 76%"
   ]
  },
  {
   "cell_type": "code",
   "execution_count": null,
   "metadata": {},
   "outputs": [],
   "source": []
  }
 ],
 "metadata": {
  "kernelspec": {
   "display_name": "Python 3",
   "language": "python",
   "name": "python3"
  },
  "language_info": {
   "codemirror_mode": {
    "name": "ipython",
    "version": 3
   },
   "file_extension": ".py",
   "mimetype": "text/x-python",
   "name": "python",
   "nbconvert_exporter": "python",
   "pygments_lexer": "ipython3",
   "version": "3.8.5"
  }
 },
 "nbformat": 4,
 "nbformat_minor": 4
}
