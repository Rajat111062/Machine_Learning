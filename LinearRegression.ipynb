{
 "cells": [
  {
   "attachments": {
    "size%204.png": {
     "image/png": "[encoded data removed]"
    }
   },
   "cell_type": "markdown",
   "metadata": {},
   "source": [
    "![size%204.png](attachment:size%204.png)"
   ]
  },
  {
   "cell_type": "markdown",
   "metadata": {},
   "source": [
    "### 1. Importing the relevant libraries"
   ]
  },
  {
   "cell_type": "code",
   "execution_count": 2,
   "metadata": {},
   "outputs": [],
   "source": [
    "import pandas as pd\n",
    "import numpy as np\n",
    "import matplotlib.pyplot as plt\n",
    "import seaborn as sns\n",
    "from sklearn.linear_model import LinearRegression"
   ]
  },
  {
   "cell_type": "markdown",
   "metadata": {},
   "source": [
    "### 2. Loading the raw data"
   ]
  },
  {
   "cell_type": "markdown",
   "metadata": {},
   "source": [
    "#### Load the data from a .csv in the same folder"
   ]
  },
  {
   "cell_type": "code",
   "execution_count": 3,
   "metadata": {},
   "outputs": [],
   "source": [
    "df = pd.read_csv(r'E:\\InnoDaat\\Assignment\\Ass\\AssLinear.csv')"
   ]
  },
  {
   "cell_type": "markdown",
   "metadata": {},
   "source": [
    "#### Let's explore the top 5 rows of the df\n"
   ]
  },
  {
   "cell_type": "code",
   "execution_count": 4,
   "metadata": {},
   "outputs": [
    {
     "data": {
      "text/html": [
       "<div>\n",
       "<style scoped>\n",
       "    .dataframe tbody tr th:only-of-type {\n",
       "        vertical-align: middle;\n",
       "    }\n",
       "\n",
       "    .dataframe tbody tr th {\n",
       "        vertical-align: top;\n",
       "    }\n",
       "\n",
       "    .dataframe thead th {\n",
       "        text-align: right;\n",
       "    }\n",
       "</style>\n",
       "<table border=\"1\" class=\"dataframe\">\n",
       "  <thead>\n",
       "    <tr style=\"text-align: right;\">\n",
       "      <th></th>\n",
       "      <th>Brand</th>\n",
       "      <th>Price</th>\n",
       "      <th>Body</th>\n",
       "      <th>Mileage</th>\n",
       "      <th>EngineV</th>\n",
       "      <th>Engine Type</th>\n",
       "      <th>Registration</th>\n",
       "      <th>Year</th>\n",
       "      <th>Model</th>\n",
       "    </tr>\n",
       "  </thead>\n",
       "  <tbody>\n",
       "    <tr>\n",
       "      <th>0</th>\n",
       "      <td>BMW</td>\n",
       "      <td>4200.0</td>\n",
       "      <td>sedan</td>\n",
       "      <td>277</td>\n",
       "      <td>2.0</td>\n",
       "      <td>Petrol</td>\n",
       "      <td>yes</td>\n",
       "      <td>1991</td>\n",
       "      <td>320</td>\n",
       "    </tr>\n",
       "    <tr>\n",
       "      <th>1</th>\n",
       "      <td>Mercedes-Benz</td>\n",
       "      <td>7900.0</td>\n",
       "      <td>van</td>\n",
       "      <td>427</td>\n",
       "      <td>2.9</td>\n",
       "      <td>Diesel</td>\n",
       "      <td>yes</td>\n",
       "      <td>1999</td>\n",
       "      <td>Sprinter 212</td>\n",
       "    </tr>\n",
       "    <tr>\n",
       "      <th>2</th>\n",
       "      <td>Mercedes-Benz</td>\n",
       "      <td>13300.0</td>\n",
       "      <td>sedan</td>\n",
       "      <td>358</td>\n",
       "      <td>5.0</td>\n",
       "      <td>Gas</td>\n",
       "      <td>yes</td>\n",
       "      <td>2003</td>\n",
       "      <td>S 500</td>\n",
       "    </tr>\n",
       "    <tr>\n",
       "      <th>3</th>\n",
       "      <td>Audi</td>\n",
       "      <td>23000.0</td>\n",
       "      <td>crossover</td>\n",
       "      <td>240</td>\n",
       "      <td>4.2</td>\n",
       "      <td>Petrol</td>\n",
       "      <td>yes</td>\n",
       "      <td>2007</td>\n",
       "      <td>Q7</td>\n",
       "    </tr>\n",
       "    <tr>\n",
       "      <th>4</th>\n",
       "      <td>Toyota</td>\n",
       "      <td>18300.0</td>\n",
       "      <td>crossover</td>\n",
       "      <td>120</td>\n",
       "      <td>2.0</td>\n",
       "      <td>Petrol</td>\n",
       "      <td>yes</td>\n",
       "      <td>2011</td>\n",
       "      <td>Rav 4</td>\n",
       "    </tr>\n",
       "  </tbody>\n",
       "</table>\n",
       "</div>"
      ],
      "text/plain": [
       "           Brand    Price       Body  Mileage  EngineV Engine Type  \\\n",
       "0            BMW   4200.0      sedan      277      2.0      Petrol   \n",
       "1  Mercedes-Benz   7900.0        van      427      2.9      Diesel   \n",
       "2  Mercedes-Benz  13300.0      sedan      358      5.0         Gas   \n",
       "3           Audi  23000.0  crossover      240      4.2      Petrol   \n",
       "4         Toyota  18300.0  crossover      120      2.0      Petrol   \n",
       "\n",
       "  Registration  Year         Model  \n",
       "0          yes  1991           320  \n",
       "1          yes  1999  Sprinter 212  \n",
       "2          yes  2003         S 500  \n",
       "3          yes  2007            Q7  \n",
       "4          yes  2011         Rav 4  "
      ]
     },
     "execution_count": 4,
     "metadata": {},
     "output_type": "execute_result"
    }
   ],
   "source": [
    "df.head()"
   ]
  },
  {
   "cell_type": "markdown",
   "metadata": {},
   "source": [
    "## Preprocessing"
   ]
  },
  {
   "cell_type": "markdown",
   "metadata": {},
   "source": [
    "### 3. Exploring the descriptive statistics of the variables\n",
    "-  Descriptive statistics are very useful for initial exploration of the variables\n",
    "- By default, only descriptives for the numerical variables are shown\n",
    "- To include the categorical ones, you should specify this with an argument"
   ]
  },
  {
   "cell_type": "code",
   "execution_count": 5,
   "metadata": {},
   "outputs": [
    {
     "data": {
      "text/plain": [
       "array(['BMW', 'Mercedes-Benz', 'Audi', 'Toyota', 'Renault', 'Volkswagen',\n",
       "       'Mitsubishi'], dtype=object)"
      ]
     },
     "execution_count": 5,
     "metadata": {},
     "output_type": "execute_result"
    }
   ],
   "source": [
    "df['Brand'].unique()"
   ]
  },
  {
   "cell_type": "code",
   "execution_count": 6,
   "metadata": {},
   "outputs": [
    {
     "data": {
      "text/plain": [
       "array(['sedan', 'van', 'crossover', 'vagon', 'other', 'hatch'],\n",
       "      dtype=object)"
      ]
     },
     "execution_count": 6,
     "metadata": {},
     "output_type": "execute_result"
    }
   ],
   "source": [
    "df['Body'].unique()"
   ]
  },
  {
   "cell_type": "code",
   "execution_count": 7,
   "metadata": {},
   "outputs": [
    {
     "data": {
      "text/plain": [
       "array(['Petrol', 'Diesel', 'Gas', 'Other'], dtype=object)"
      ]
     },
     "execution_count": 7,
     "metadata": {},
     "output_type": "execute_result"
    }
   ],
   "source": [
    "df['Engine Type'].unique()"
   ]
  },
  {
   "cell_type": "code",
   "execution_count": 8,
   "metadata": {},
   "outputs": [
    {
     "data": {
      "text/plain": [
       "array(['yes', 'no'], dtype=object)"
      ]
     },
     "execution_count": 8,
     "metadata": {},
     "output_type": "execute_result"
    }
   ],
   "source": [
    "df['Registration'].unique()"
   ]
  },
  {
   "cell_type": "code",
   "execution_count": 9,
   "metadata": {},
   "outputs": [
    {
     "data": {
      "text/plain": [
       "(4345, 9)"
      ]
     },
     "execution_count": 9,
     "metadata": {},
     "output_type": "execute_result"
    }
   ],
   "source": [
    "df.shape"
   ]
  },
  {
   "cell_type": "code",
   "execution_count": 10,
   "metadata": {},
   "outputs": [
    {
     "name": "stdout",
     "output_type": "stream",
     "text": [
      "<class 'pandas.core.frame.DataFrame'>\n",
      "RangeIndex: 4345 entries, 0 to 4344\n",
      "Data columns (total 9 columns):\n",
      " #   Column        Non-Null Count  Dtype  \n",
      "---  ------        --------------  -----  \n",
      " 0   Brand         4345 non-null   object \n",
      " 1   Price         4173 non-null   float64\n",
      " 2   Body          4345 non-null   object \n",
      " 3   Mileage       4345 non-null   int64  \n",
      " 4   EngineV       4195 non-null   float64\n",
      " 5   Engine Type   4345 non-null   object \n",
      " 6   Registration  4345 non-null   object \n",
      " 7   Year          4345 non-null   int64  \n",
      " 8   Model         4345 non-null   object \n",
      "dtypes: float64(2), int64(2), object(5)\n",
      "memory usage: 305.6+ KB\n"
     ]
    }
   ],
   "source": [
    "df.info()"
   ]
  },
  {
   "cell_type": "code",
   "execution_count": 11,
   "metadata": {},
   "outputs": [
    {
     "data": {
      "text/plain": [
       "Index(['Brand', 'Price', 'Body', 'Mileage', 'EngineV', 'Engine Type',\n",
       "       'Registration', 'Year', 'Model'],\n",
       "      dtype='object')"
      ]
     },
     "execution_count": 11,
     "metadata": {},
     "output_type": "execute_result"
    }
   ],
   "source": [
    "df.columns"
   ]
  },
  {
   "cell_type": "code",
   "execution_count": 12,
   "metadata": {},
   "outputs": [
    {
     "data": {
      "text/html": [
       "<div>\n",
       "<style scoped>\n",
       "    .dataframe tbody tr th:only-of-type {\n",
       "        vertical-align: middle;\n",
       "    }\n",
       "\n",
       "    .dataframe tbody tr th {\n",
       "        vertical-align: top;\n",
       "    }\n",
       "\n",
       "    .dataframe thead th {\n",
       "        text-align: right;\n",
       "    }\n",
       "</style>\n",
       "<table border=\"1\" class=\"dataframe\">\n",
       "  <thead>\n",
       "    <tr style=\"text-align: right;\">\n",
       "      <th></th>\n",
       "      <th>Price</th>\n",
       "      <th>Mileage</th>\n",
       "      <th>EngineV</th>\n",
       "      <th>Year</th>\n",
       "    </tr>\n",
       "  </thead>\n",
       "  <tbody>\n",
       "    <tr>\n",
       "      <th>count</th>\n",
       "      <td>4173.000000</td>\n",
       "      <td>4345.000000</td>\n",
       "      <td>4195.000000</td>\n",
       "      <td>4345.000000</td>\n",
       "    </tr>\n",
       "    <tr>\n",
       "      <th>mean</th>\n",
       "      <td>19418.746935</td>\n",
       "      <td>161.237284</td>\n",
       "      <td>2.790734</td>\n",
       "      <td>2006.550058</td>\n",
       "    </tr>\n",
       "    <tr>\n",
       "      <th>std</th>\n",
       "      <td>25584.242620</td>\n",
       "      <td>105.705797</td>\n",
       "      <td>5.066437</td>\n",
       "      <td>6.719097</td>\n",
       "    </tr>\n",
       "    <tr>\n",
       "      <th>min</th>\n",
       "      <td>600.000000</td>\n",
       "      <td>0.000000</td>\n",
       "      <td>0.600000</td>\n",
       "      <td>1969.000000</td>\n",
       "    </tr>\n",
       "    <tr>\n",
       "      <th>25%</th>\n",
       "      <td>6999.000000</td>\n",
       "      <td>86.000000</td>\n",
       "      <td>1.800000</td>\n",
       "      <td>2003.000000</td>\n",
       "    </tr>\n",
       "    <tr>\n",
       "      <th>50%</th>\n",
       "      <td>11500.000000</td>\n",
       "      <td>155.000000</td>\n",
       "      <td>2.200000</td>\n",
       "      <td>2008.000000</td>\n",
       "    </tr>\n",
       "    <tr>\n",
       "      <th>75%</th>\n",
       "      <td>21700.000000</td>\n",
       "      <td>230.000000</td>\n",
       "      <td>3.000000</td>\n",
       "      <td>2012.000000</td>\n",
       "    </tr>\n",
       "    <tr>\n",
       "      <th>max</th>\n",
       "      <td>300000.000000</td>\n",
       "      <td>980.000000</td>\n",
       "      <td>99.990000</td>\n",
       "      <td>2016.000000</td>\n",
       "    </tr>\n",
       "  </tbody>\n",
       "</table>\n",
       "</div>"
      ],
      "text/plain": [
       "               Price      Mileage      EngineV         Year\n",
       "count    4173.000000  4345.000000  4195.000000  4345.000000\n",
       "mean    19418.746935   161.237284     2.790734  2006.550058\n",
       "std     25584.242620   105.705797     5.066437     6.719097\n",
       "min       600.000000     0.000000     0.600000  1969.000000\n",
       "25%      6999.000000    86.000000     1.800000  2003.000000\n",
       "50%     11500.000000   155.000000     2.200000  2008.000000\n",
       "75%     21700.000000   230.000000     3.000000  2012.000000\n",
       "max    300000.000000   980.000000    99.990000  2016.000000"
      ]
     },
     "execution_count": 12,
     "metadata": {},
     "output_type": "execute_result"
    }
   ],
   "source": [
    "df.describe()"
   ]
  },
  {
   "cell_type": "code",
   "execution_count": 13,
   "metadata": {},
   "outputs": [
    {
     "data": {
      "text/html": [
       "<div>\n",
       "<style scoped>\n",
       "    .dataframe tbody tr th:only-of-type {\n",
       "        vertical-align: middle;\n",
       "    }\n",
       "\n",
       "    .dataframe tbody tr th {\n",
       "        vertical-align: top;\n",
       "    }\n",
       "\n",
       "    .dataframe thead th {\n",
       "        text-align: right;\n",
       "    }\n",
       "</style>\n",
       "<table border=\"1\" class=\"dataframe\">\n",
       "  <thead>\n",
       "    <tr style=\"text-align: right;\">\n",
       "      <th></th>\n",
       "      <th>Brand</th>\n",
       "      <th>Price</th>\n",
       "      <th>Body</th>\n",
       "      <th>Mileage</th>\n",
       "      <th>EngineV</th>\n",
       "      <th>Engine Type</th>\n",
       "      <th>Registration</th>\n",
       "      <th>Year</th>\n",
       "      <th>Model</th>\n",
       "    </tr>\n",
       "  </thead>\n",
       "  <tbody>\n",
       "    <tr>\n",
       "      <th>count</th>\n",
       "      <td>4345</td>\n",
       "      <td>4173.000000</td>\n",
       "      <td>4345</td>\n",
       "      <td>4345.000000</td>\n",
       "      <td>4195.000000</td>\n",
       "      <td>4345</td>\n",
       "      <td>4345</td>\n",
       "      <td>4345.000000</td>\n",
       "      <td>4345</td>\n",
       "    </tr>\n",
       "    <tr>\n",
       "      <th>unique</th>\n",
       "      <td>7</td>\n",
       "      <td>NaN</td>\n",
       "      <td>6</td>\n",
       "      <td>NaN</td>\n",
       "      <td>NaN</td>\n",
       "      <td>4</td>\n",
       "      <td>2</td>\n",
       "      <td>NaN</td>\n",
       "      <td>312</td>\n",
       "    </tr>\n",
       "    <tr>\n",
       "      <th>top</th>\n",
       "      <td>Volkswagen</td>\n",
       "      <td>NaN</td>\n",
       "      <td>sedan</td>\n",
       "      <td>NaN</td>\n",
       "      <td>NaN</td>\n",
       "      <td>Diesel</td>\n",
       "      <td>yes</td>\n",
       "      <td>NaN</td>\n",
       "      <td>E-Class</td>\n",
       "    </tr>\n",
       "    <tr>\n",
       "      <th>freq</th>\n",
       "      <td>936</td>\n",
       "      <td>NaN</td>\n",
       "      <td>1649</td>\n",
       "      <td>NaN</td>\n",
       "      <td>NaN</td>\n",
       "      <td>2019</td>\n",
       "      <td>3947</td>\n",
       "      <td>NaN</td>\n",
       "      <td>199</td>\n",
       "    </tr>\n",
       "    <tr>\n",
       "      <th>mean</th>\n",
       "      <td>NaN</td>\n",
       "      <td>19418.746935</td>\n",
       "      <td>NaN</td>\n",
       "      <td>161.237284</td>\n",
       "      <td>2.790734</td>\n",
       "      <td>NaN</td>\n",
       "      <td>NaN</td>\n",
       "      <td>2006.550058</td>\n",
       "      <td>NaN</td>\n",
       "    </tr>\n",
       "    <tr>\n",
       "      <th>std</th>\n",
       "      <td>NaN</td>\n",
       "      <td>25584.242620</td>\n",
       "      <td>NaN</td>\n",
       "      <td>105.705797</td>\n",
       "      <td>5.066437</td>\n",
       "      <td>NaN</td>\n",
       "      <td>NaN</td>\n",
       "      <td>6.719097</td>\n",
       "      <td>NaN</td>\n",
       "    </tr>\n",
       "    <tr>\n",
       "      <th>min</th>\n",
       "      <td>NaN</td>\n",
       "      <td>600.000000</td>\n",
       "      <td>NaN</td>\n",
       "      <td>0.000000</td>\n",
       "      <td>0.600000</td>\n",
       "      <td>NaN</td>\n",
       "      <td>NaN</td>\n",
       "      <td>1969.000000</td>\n",
       "      <td>NaN</td>\n",
       "    </tr>\n",
       "    <tr>\n",
       "      <th>25%</th>\n",
       "      <td>NaN</td>\n",
       "      <td>6999.000000</td>\n",
       "      <td>NaN</td>\n",
       "      <td>86.000000</td>\n",
       "      <td>1.800000</td>\n",
       "      <td>NaN</td>\n",
       "      <td>NaN</td>\n",
       "      <td>2003.000000</td>\n",
       "      <td>NaN</td>\n",
       "    </tr>\n",
       "    <tr>\n",
       "      <th>50%</th>\n",
       "      <td>NaN</td>\n",
       "      <td>11500.000000</td>\n",
       "      <td>NaN</td>\n",
       "      <td>155.000000</td>\n",
       "      <td>2.200000</td>\n",
       "      <td>NaN</td>\n",
       "      <td>NaN</td>\n",
       "      <td>2008.000000</td>\n",
       "      <td>NaN</td>\n",
       "    </tr>\n",
       "    <tr>\n",
       "      <th>75%</th>\n",
       "      <td>NaN</td>\n",
       "      <td>21700.000000</td>\n",
       "      <td>NaN</td>\n",
       "      <td>230.000000</td>\n",
       "      <td>3.000000</td>\n",
       "      <td>NaN</td>\n",
       "      <td>NaN</td>\n",
       "      <td>2012.000000</td>\n",
       "      <td>NaN</td>\n",
       "    </tr>\n",
       "    <tr>\n",
       "      <th>max</th>\n",
       "      <td>NaN</td>\n",
       "      <td>300000.000000</td>\n",
       "      <td>NaN</td>\n",
       "      <td>980.000000</td>\n",
       "      <td>99.990000</td>\n",
       "      <td>NaN</td>\n",
       "      <td>NaN</td>\n",
       "      <td>2016.000000</td>\n",
       "      <td>NaN</td>\n",
       "    </tr>\n",
       "  </tbody>\n",
       "</table>\n",
       "</div>"
      ],
      "text/plain": [
       "             Brand          Price   Body      Mileage      EngineV  \\\n",
       "count         4345    4173.000000   4345  4345.000000  4195.000000   \n",
       "unique           7            NaN      6          NaN          NaN   \n",
       "top     Volkswagen            NaN  sedan          NaN          NaN   \n",
       "freq           936            NaN   1649          NaN          NaN   \n",
       "mean           NaN   19418.746935    NaN   161.237284     2.790734   \n",
       "std            NaN   25584.242620    NaN   105.705797     5.066437   \n",
       "min            NaN     600.000000    NaN     0.000000     0.600000   \n",
       "25%            NaN    6999.000000    NaN    86.000000     1.800000   \n",
       "50%            NaN   11500.000000    NaN   155.000000     2.200000   \n",
       "75%            NaN   21700.000000    NaN   230.000000     3.000000   \n",
       "max            NaN  300000.000000    NaN   980.000000    99.990000   \n",
       "\n",
       "       Engine Type Registration         Year    Model  \n",
       "count         4345         4345  4345.000000     4345  \n",
       "unique           4            2          NaN      312  \n",
       "top         Diesel          yes          NaN  E-Class  \n",
       "freq          2019         3947          NaN      199  \n",
       "mean           NaN          NaN  2006.550058      NaN  \n",
       "std            NaN          NaN     6.719097      NaN  \n",
       "min            NaN          NaN  1969.000000      NaN  \n",
       "25%            NaN          NaN  2003.000000      NaN  \n",
       "50%            NaN          NaN  2008.000000      NaN  \n",
       "75%            NaN          NaN  2012.000000      NaN  \n",
       "max            NaN          NaN  2016.000000      NaN  "
      ]
     },
     "execution_count": 13,
     "metadata": {},
     "output_type": "execute_result"
    }
   ],
   "source": [
    "df.describe(include='all')"
   ]
  },
  {
   "cell_type": "markdown",
   "metadata": {},
   "source": [
    "### Dealing with missing values"
   ]
  },
  {
   "cell_type": "markdown",
   "metadata": {},
   "source": [
    "#### 4. Find the missing values from the data if any\n",
    "- data.isnull() # shows a df with the information whether a data point is null. \n",
    "- Since True = the data point is missing, while False = the data point is not missing, we can sum them.\n",
    "- This will give us the total number of missing values feature-wise."
   ]
  },
  {
   "cell_type": "code",
   "execution_count": 14,
   "metadata": {
    "scrolled": true
   },
   "outputs": [
    {
     "data": {
      "text/html": [
       "<div>\n",
       "<style scoped>\n",
       "    .dataframe tbody tr th:only-of-type {\n",
       "        vertical-align: middle;\n",
       "    }\n",
       "\n",
       "    .dataframe tbody tr th {\n",
       "        vertical-align: top;\n",
       "    }\n",
       "\n",
       "    .dataframe thead th {\n",
       "        text-align: right;\n",
       "    }\n",
       "</style>\n",
       "<table border=\"1\" class=\"dataframe\">\n",
       "  <thead>\n",
       "    <tr style=\"text-align: right;\">\n",
       "      <th></th>\n",
       "      <th>Brand</th>\n",
       "      <th>Price</th>\n",
       "      <th>Body</th>\n",
       "      <th>Mileage</th>\n",
       "      <th>EngineV</th>\n",
       "      <th>Engine Type</th>\n",
       "      <th>Registration</th>\n",
       "      <th>Year</th>\n",
       "      <th>Model</th>\n",
       "    </tr>\n",
       "  </thead>\n",
       "  <tbody>\n",
       "    <tr>\n",
       "      <th>0</th>\n",
       "      <td>False</td>\n",
       "      <td>False</td>\n",
       "      <td>False</td>\n",
       "      <td>False</td>\n",
       "      <td>False</td>\n",
       "      <td>False</td>\n",
       "      <td>False</td>\n",
       "      <td>False</td>\n",
       "      <td>False</td>\n",
       "    </tr>\n",
       "    <tr>\n",
       "      <th>1</th>\n",
       "      <td>False</td>\n",
       "      <td>False</td>\n",
       "      <td>False</td>\n",
       "      <td>False</td>\n",
       "      <td>False</td>\n",
       "      <td>False</td>\n",
       "      <td>False</td>\n",
       "      <td>False</td>\n",
       "      <td>False</td>\n",
       "    </tr>\n",
       "    <tr>\n",
       "      <th>2</th>\n",
       "      <td>False</td>\n",
       "      <td>False</td>\n",
       "      <td>False</td>\n",
       "      <td>False</td>\n",
       "      <td>False</td>\n",
       "      <td>False</td>\n",
       "      <td>False</td>\n",
       "      <td>False</td>\n",
       "      <td>False</td>\n",
       "    </tr>\n",
       "    <tr>\n",
       "      <th>3</th>\n",
       "      <td>False</td>\n",
       "      <td>False</td>\n",
       "      <td>False</td>\n",
       "      <td>False</td>\n",
       "      <td>False</td>\n",
       "      <td>False</td>\n",
       "      <td>False</td>\n",
       "      <td>False</td>\n",
       "      <td>False</td>\n",
       "    </tr>\n",
       "    <tr>\n",
       "      <th>4</th>\n",
       "      <td>False</td>\n",
       "      <td>False</td>\n",
       "      <td>False</td>\n",
       "      <td>False</td>\n",
       "      <td>False</td>\n",
       "      <td>False</td>\n",
       "      <td>False</td>\n",
       "      <td>False</td>\n",
       "      <td>False</td>\n",
       "    </tr>\n",
       "    <tr>\n",
       "      <th>...</th>\n",
       "      <td>...</td>\n",
       "      <td>...</td>\n",
       "      <td>...</td>\n",
       "      <td>...</td>\n",
       "      <td>...</td>\n",
       "      <td>...</td>\n",
       "      <td>...</td>\n",
       "      <td>...</td>\n",
       "      <td>...</td>\n",
       "    </tr>\n",
       "    <tr>\n",
       "      <th>4340</th>\n",
       "      <td>False</td>\n",
       "      <td>False</td>\n",
       "      <td>False</td>\n",
       "      <td>False</td>\n",
       "      <td>False</td>\n",
       "      <td>False</td>\n",
       "      <td>False</td>\n",
       "      <td>False</td>\n",
       "      <td>False</td>\n",
       "    </tr>\n",
       "    <tr>\n",
       "      <th>4341</th>\n",
       "      <td>False</td>\n",
       "      <td>False</td>\n",
       "      <td>False</td>\n",
       "      <td>False</td>\n",
       "      <td>False</td>\n",
       "      <td>False</td>\n",
       "      <td>False</td>\n",
       "      <td>False</td>\n",
       "      <td>False</td>\n",
       "    </tr>\n",
       "    <tr>\n",
       "      <th>4342</th>\n",
       "      <td>False</td>\n",
       "      <td>False</td>\n",
       "      <td>False</td>\n",
       "      <td>False</td>\n",
       "      <td>False</td>\n",
       "      <td>False</td>\n",
       "      <td>False</td>\n",
       "      <td>False</td>\n",
       "      <td>False</td>\n",
       "    </tr>\n",
       "    <tr>\n",
       "      <th>4343</th>\n",
       "      <td>False</td>\n",
       "      <td>False</td>\n",
       "      <td>False</td>\n",
       "      <td>False</td>\n",
       "      <td>True</td>\n",
       "      <td>False</td>\n",
       "      <td>False</td>\n",
       "      <td>False</td>\n",
       "      <td>False</td>\n",
       "    </tr>\n",
       "    <tr>\n",
       "      <th>4344</th>\n",
       "      <td>False</td>\n",
       "      <td>False</td>\n",
       "      <td>False</td>\n",
       "      <td>False</td>\n",
       "      <td>False</td>\n",
       "      <td>False</td>\n",
       "      <td>False</td>\n",
       "      <td>False</td>\n",
       "      <td>False</td>\n",
       "    </tr>\n",
       "  </tbody>\n",
       "</table>\n",
       "<p>4345 rows × 9 columns</p>\n",
       "</div>"
      ],
      "text/plain": [
       "      Brand  Price   Body  Mileage  EngineV  Engine Type  Registration   Year  \\\n",
       "0     False  False  False    False    False        False         False  False   \n",
       "1     False  False  False    False    False        False         False  False   \n",
       "2     False  False  False    False    False        False         False  False   \n",
       "3     False  False  False    False    False        False         False  False   \n",
       "4     False  False  False    False    False        False         False  False   \n",
       "...     ...    ...    ...      ...      ...          ...           ...    ...   \n",
       "4340  False  False  False    False    False        False         False  False   \n",
       "4341  False  False  False    False    False        False         False  False   \n",
       "4342  False  False  False    False    False        False         False  False   \n",
       "4343  False  False  False    False     True        False         False  False   \n",
       "4344  False  False  False    False    False        False         False  False   \n",
       "\n",
       "      Model  \n",
       "0     False  \n",
       "1     False  \n",
       "2     False  \n",
       "3     False  \n",
       "4     False  \n",
       "...     ...  \n",
       "4340  False  \n",
       "4341  False  \n",
       "4342  False  \n",
       "4343  False  \n",
       "4344  False  \n",
       "\n",
       "[4345 rows x 9 columns]"
      ]
     },
     "execution_count": 14,
     "metadata": {},
     "output_type": "execute_result"
    }
   ],
   "source": [
    "#Null values info True: Null value is present and False: there is null value not present in the DataFrame\n",
    "df.isnull()"
   ]
  },
  {
   "cell_type": "code",
   "execution_count": 15,
   "metadata": {},
   "outputs": [
    {
     "data": {
      "text/plain": [
       "Brand             0\n",
       "Price           172\n",
       "Body              0\n",
       "Mileage           0\n",
       "EngineV         150\n",
       "Engine Type       0\n",
       "Registration      0\n",
       "Year              0\n",
       "Model             0\n",
       "dtype: int64"
      ]
     },
     "execution_count": 15,
     "metadata": {},
     "output_type": "execute_result"
    }
   ],
   "source": [
    "# total null value features wise.\n",
    "df.isnull().sum()"
   ]
  },
  {
   "cell_type": "code",
   "execution_count": 16,
   "metadata": {},
   "outputs": [
    {
     "data": {
      "text/plain": [
       "322"
      ]
     },
     "execution_count": 16,
     "metadata": {},
     "output_type": "execute_result"
    }
   ],
   "source": [
    "# total null values in the df.\n",
    "df.isnull().sum().sum()"
   ]
  },
  {
   "cell_type": "markdown",
   "metadata": {},
   "source": [
    "#### 5. Let's simply drop all missing values\n",
    "Note: This is not always recommended, however, when we remove less than 5% of the data, it is okay"
   ]
  },
  {
   "cell_type": "code",
   "execution_count": 17,
   "metadata": {},
   "outputs": [
    {
     "data": {
      "text/plain": [
       "Brand           0.000000\n",
       "Price           0.039586\n",
       "Body            0.000000\n",
       "Mileage         0.000000\n",
       "EngineV         0.034522\n",
       "Engine Type     0.000000\n",
       "Registration    0.000000\n",
       "Year            0.000000\n",
       "Model           0.000000\n",
       "dtype: float64"
      ]
     },
     "execution_count": 17,
     "metadata": {},
     "output_type": "execute_result"
    }
   ],
   "source": [
    "NullValues=df.isnull().sum()/len(df)\n",
    "NullValues"
   ]
  },
  {
   "cell_type": "markdown",
   "metadata": {},
   "source": [
    "##### NOTE: only ~4% of null values present in the df Price column and ~3% null value present in the EngineV column. as per the standred condition. if Null value present less then to the 5%, then we can remove it. otherwise we have to replace with the center stastics method."
   ]
  },
  {
   "cell_type": "code",
   "execution_count": 18,
   "metadata": {},
   "outputs": [
    {
     "data": {
      "text/plain": [
       "(4345, 9)"
      ]
     },
     "execution_count": 18,
     "metadata": {},
     "output_type": "execute_result"
    }
   ],
   "source": [
    "# Before remove/process the data shape of the data\n",
    "df.shape"
   ]
  },
  {
   "cell_type": "code",
   "execution_count": 19,
   "metadata": {},
   "outputs": [
    {
     "data": {
      "text/html": [
       "<div>\n",
       "<style scoped>\n",
       "    .dataframe tbody tr th:only-of-type {\n",
       "        vertical-align: middle;\n",
       "    }\n",
       "\n",
       "    .dataframe tbody tr th {\n",
       "        vertical-align: top;\n",
       "    }\n",
       "\n",
       "    .dataframe thead th {\n",
       "        text-align: right;\n",
       "    }\n",
       "</style>\n",
       "<table border=\"1\" class=\"dataframe\">\n",
       "  <thead>\n",
       "    <tr style=\"text-align: right;\">\n",
       "      <th></th>\n",
       "      <th>Brand</th>\n",
       "      <th>Price</th>\n",
       "      <th>Body</th>\n",
       "      <th>Mileage</th>\n",
       "      <th>EngineV</th>\n",
       "      <th>Engine Type</th>\n",
       "      <th>Registration</th>\n",
       "      <th>Year</th>\n",
       "      <th>Model</th>\n",
       "    </tr>\n",
       "  </thead>\n",
       "  <tbody>\n",
       "    <tr>\n",
       "      <th>0</th>\n",
       "      <td>BMW</td>\n",
       "      <td>4200.0</td>\n",
       "      <td>sedan</td>\n",
       "      <td>277</td>\n",
       "      <td>2.0</td>\n",
       "      <td>Petrol</td>\n",
       "      <td>yes</td>\n",
       "      <td>1991</td>\n",
       "      <td>320</td>\n",
       "    </tr>\n",
       "    <tr>\n",
       "      <th>1</th>\n",
       "      <td>Mercedes-Benz</td>\n",
       "      <td>7900.0</td>\n",
       "      <td>van</td>\n",
       "      <td>427</td>\n",
       "      <td>2.9</td>\n",
       "      <td>Diesel</td>\n",
       "      <td>yes</td>\n",
       "      <td>1999</td>\n",
       "      <td>Sprinter 212</td>\n",
       "    </tr>\n",
       "    <tr>\n",
       "      <th>2</th>\n",
       "      <td>Mercedes-Benz</td>\n",
       "      <td>13300.0</td>\n",
       "      <td>sedan</td>\n",
       "      <td>358</td>\n",
       "      <td>5.0</td>\n",
       "      <td>Gas</td>\n",
       "      <td>yes</td>\n",
       "      <td>2003</td>\n",
       "      <td>S 500</td>\n",
       "    </tr>\n",
       "    <tr>\n",
       "      <th>3</th>\n",
       "      <td>Audi</td>\n",
       "      <td>23000.0</td>\n",
       "      <td>crossover</td>\n",
       "      <td>240</td>\n",
       "      <td>4.2</td>\n",
       "      <td>Petrol</td>\n",
       "      <td>yes</td>\n",
       "      <td>2007</td>\n",
       "      <td>Q7</td>\n",
       "    </tr>\n",
       "    <tr>\n",
       "      <th>4</th>\n",
       "      <td>Toyota</td>\n",
       "      <td>18300.0</td>\n",
       "      <td>crossover</td>\n",
       "      <td>120</td>\n",
       "      <td>2.0</td>\n",
       "      <td>Petrol</td>\n",
       "      <td>yes</td>\n",
       "      <td>2011</td>\n",
       "      <td>Rav 4</td>\n",
       "    </tr>\n",
       "    <tr>\n",
       "      <th>...</th>\n",
       "      <td>...</td>\n",
       "      <td>...</td>\n",
       "      <td>...</td>\n",
       "      <td>...</td>\n",
       "      <td>...</td>\n",
       "      <td>...</td>\n",
       "      <td>...</td>\n",
       "      <td>...</td>\n",
       "      <td>...</td>\n",
       "    </tr>\n",
       "    <tr>\n",
       "      <th>4340</th>\n",
       "      <td>Mercedes-Benz</td>\n",
       "      <td>125000.0</td>\n",
       "      <td>sedan</td>\n",
       "      <td>9</td>\n",
       "      <td>3.0</td>\n",
       "      <td>Diesel</td>\n",
       "      <td>yes</td>\n",
       "      <td>2014</td>\n",
       "      <td>S 350</td>\n",
       "    </tr>\n",
       "    <tr>\n",
       "      <th>4341</th>\n",
       "      <td>BMW</td>\n",
       "      <td>6500.0</td>\n",
       "      <td>sedan</td>\n",
       "      <td>1</td>\n",
       "      <td>3.5</td>\n",
       "      <td>Petrol</td>\n",
       "      <td>yes</td>\n",
       "      <td>1999</td>\n",
       "      <td>535</td>\n",
       "    </tr>\n",
       "    <tr>\n",
       "      <th>4342</th>\n",
       "      <td>BMW</td>\n",
       "      <td>8000.0</td>\n",
       "      <td>sedan</td>\n",
       "      <td>194</td>\n",
       "      <td>2.0</td>\n",
       "      <td>Petrol</td>\n",
       "      <td>yes</td>\n",
       "      <td>1985</td>\n",
       "      <td>520</td>\n",
       "    </tr>\n",
       "    <tr>\n",
       "      <th>4343</th>\n",
       "      <td>Toyota</td>\n",
       "      <td>14200.0</td>\n",
       "      <td>sedan</td>\n",
       "      <td>31</td>\n",
       "      <td>NaN</td>\n",
       "      <td>Petrol</td>\n",
       "      <td>yes</td>\n",
       "      <td>2014</td>\n",
       "      <td>Corolla</td>\n",
       "    </tr>\n",
       "    <tr>\n",
       "      <th>4344</th>\n",
       "      <td>Volkswagen</td>\n",
       "      <td>13500.0</td>\n",
       "      <td>van</td>\n",
       "      <td>124</td>\n",
       "      <td>2.0</td>\n",
       "      <td>Diesel</td>\n",
       "      <td>yes</td>\n",
       "      <td>2013</td>\n",
       "      <td>T5 (Transporter)</td>\n",
       "    </tr>\n",
       "  </tbody>\n",
       "</table>\n",
       "<p>4272 rows × 9 columns</p>\n",
       "</div>"
      ],
      "text/plain": [
       "              Brand     Price       Body  Mileage  EngineV Engine Type  \\\n",
       "0               BMW    4200.0      sedan      277      2.0      Petrol   \n",
       "1     Mercedes-Benz    7900.0        van      427      2.9      Diesel   \n",
       "2     Mercedes-Benz   13300.0      sedan      358      5.0         Gas   \n",
       "3              Audi   23000.0  crossover      240      4.2      Petrol   \n",
       "4            Toyota   18300.0  crossover      120      2.0      Petrol   \n",
       "...             ...       ...        ...      ...      ...         ...   \n",
       "4340  Mercedes-Benz  125000.0      sedan        9      3.0      Diesel   \n",
       "4341            BMW    6500.0      sedan        1      3.5      Petrol   \n",
       "4342            BMW    8000.0      sedan      194      2.0      Petrol   \n",
       "4343         Toyota   14200.0      sedan       31      NaN      Petrol   \n",
       "4344     Volkswagen   13500.0        van      124      2.0      Diesel   \n",
       "\n",
       "     Registration  Year              Model  \n",
       "0             yes  1991                320  \n",
       "1             yes  1999       Sprinter 212  \n",
       "2             yes  2003              S 500  \n",
       "3             yes  2007                 Q7  \n",
       "4             yes  2011              Rav 4  \n",
       "...           ...   ...                ...  \n",
       "4340          yes  2014              S 350  \n",
       "4341          yes  1999                535  \n",
       "4342          yes  1985                520  \n",
       "4343          yes  2014            Corolla  \n",
       "4344          yes  2013  T5 (Transporter)   \n",
       "\n",
       "[4272 rows x 9 columns]"
      ]
     },
     "execution_count": 19,
     "metadata": {},
     "output_type": "execute_result"
    }
   ],
   "source": [
    "# check the duplicasi in the data\n",
    "df.drop_duplicates()"
   ]
  },
  {
   "cell_type": "code",
   "execution_count": 20,
   "metadata": {},
   "outputs": [],
   "source": [
    "# Delete the Null value, because null value is less then the 5% of the complete dataFrames.\n",
    "df = df.dropna()"
   ]
  },
  {
   "cell_type": "code",
   "execution_count": 21,
   "metadata": {},
   "outputs": [
    {
     "name": "stdout",
     "output_type": "stream",
     "text": [
      "<class 'pandas.core.frame.DataFrame'>\n",
      "Int64Index: 4025 entries, 0 to 4344\n",
      "Data columns (total 9 columns):\n",
      " #   Column        Non-Null Count  Dtype  \n",
      "---  ------        --------------  -----  \n",
      " 0   Brand         4025 non-null   object \n",
      " 1   Price         4025 non-null   float64\n",
      " 2   Body          4025 non-null   object \n",
      " 3   Mileage       4025 non-null   int64  \n",
      " 4   EngineV       4025 non-null   float64\n",
      " 5   Engine Type   4025 non-null   object \n",
      " 6   Registration  4025 non-null   object \n",
      " 7   Year          4025 non-null   int64  \n",
      " 8   Model         4025 non-null   object \n",
      "dtypes: float64(2), int64(2), object(5)\n",
      "memory usage: 314.5+ KB\n"
     ]
    }
   ],
   "source": [
    "# After null value replace. Non-null value is similar count.\n",
    "df.info()"
   ]
  },
  {
   "cell_type": "markdown",
   "metadata": {},
   "source": [
    "#### 6. Let's check the descriptives without the missing values\n"
   ]
  },
  {
   "cell_type": "code",
   "execution_count": 22,
   "metadata": {},
   "outputs": [
    {
     "data": {
      "text/html": [
       "<div>\n",
       "<style scoped>\n",
       "    .dataframe tbody tr th:only-of-type {\n",
       "        vertical-align: middle;\n",
       "    }\n",
       "\n",
       "    .dataframe tbody tr th {\n",
       "        vertical-align: top;\n",
       "    }\n",
       "\n",
       "    .dataframe thead th {\n",
       "        text-align: right;\n",
       "    }\n",
       "</style>\n",
       "<table border=\"1\" class=\"dataframe\">\n",
       "  <thead>\n",
       "    <tr style=\"text-align: right;\">\n",
       "      <th></th>\n",
       "      <th>Price</th>\n",
       "      <th>Mileage</th>\n",
       "      <th>EngineV</th>\n",
       "      <th>Year</th>\n",
       "    </tr>\n",
       "  </thead>\n",
       "  <tbody>\n",
       "    <tr>\n",
       "      <th>count</th>\n",
       "      <td>4025.000000</td>\n",
       "      <td>4025.000000</td>\n",
       "      <td>4025.000000</td>\n",
       "      <td>4025.000000</td>\n",
       "    </tr>\n",
       "    <tr>\n",
       "      <th>mean</th>\n",
       "      <td>19552.308065</td>\n",
       "      <td>163.572174</td>\n",
       "      <td>2.764586</td>\n",
       "      <td>2006.379627</td>\n",
       "    </tr>\n",
       "    <tr>\n",
       "      <th>std</th>\n",
       "      <td>25815.734988</td>\n",
       "      <td>103.394703</td>\n",
       "      <td>4.935941</td>\n",
       "      <td>6.695595</td>\n",
       "    </tr>\n",
       "    <tr>\n",
       "      <th>min</th>\n",
       "      <td>600.000000</td>\n",
       "      <td>0.000000</td>\n",
       "      <td>0.600000</td>\n",
       "      <td>1969.000000</td>\n",
       "    </tr>\n",
       "    <tr>\n",
       "      <th>25%</th>\n",
       "      <td>6999.000000</td>\n",
       "      <td>90.000000</td>\n",
       "      <td>1.800000</td>\n",
       "      <td>2003.000000</td>\n",
       "    </tr>\n",
       "    <tr>\n",
       "      <th>50%</th>\n",
       "      <td>11500.000000</td>\n",
       "      <td>158.000000</td>\n",
       "      <td>2.200000</td>\n",
       "      <td>2007.000000</td>\n",
       "    </tr>\n",
       "    <tr>\n",
       "      <th>75%</th>\n",
       "      <td>21900.000000</td>\n",
       "      <td>230.000000</td>\n",
       "      <td>3.000000</td>\n",
       "      <td>2012.000000</td>\n",
       "    </tr>\n",
       "    <tr>\n",
       "      <th>max</th>\n",
       "      <td>300000.000000</td>\n",
       "      <td>980.000000</td>\n",
       "      <td>99.990000</td>\n",
       "      <td>2016.000000</td>\n",
       "    </tr>\n",
       "  </tbody>\n",
       "</table>\n",
       "</div>"
      ],
      "text/plain": [
       "               Price      Mileage      EngineV         Year\n",
       "count    4025.000000  4025.000000  4025.000000  4025.000000\n",
       "mean    19552.308065   163.572174     2.764586  2006.379627\n",
       "std     25815.734988   103.394703     4.935941     6.695595\n",
       "min       600.000000     0.000000     0.600000  1969.000000\n",
       "25%      6999.000000    90.000000     1.800000  2003.000000\n",
       "50%     11500.000000   158.000000     2.200000  2007.000000\n",
       "75%     21900.000000   230.000000     3.000000  2012.000000\n",
       "max    300000.000000   980.000000    99.990000  2016.000000"
      ]
     },
     "execution_count": 22,
     "metadata": {},
     "output_type": "execute_result"
    }
   ],
   "source": [
    "# Now frequecy has been changed from old dataFrame data to NewDataFrame .\n",
    "df.describe()"
   ]
  },
  {
   "cell_type": "markdown",
   "metadata": {},
   "source": [
    "### Exploring the PDFs for Numerical Variables in the DataFrame"
   ]
  },
  {
   "cell_type": "markdown",
   "metadata": {},
   "source": [
    "#### 7. A great step in the data exploration is to display the probability distribution function (PDF) of a variable\n",
    "- The PDF will show us how that variable is distributed \n",
    "- This makes it very easy to spot anomalies, such as outliers\n",
    "- The PDF is often the basis on which we decide whether we want to transform a feature"
   ]
  },
  {
   "cell_type": "code",
   "execution_count": 23,
   "metadata": {},
   "outputs": [
    {
     "name": "stderr",
     "output_type": "stream",
     "text": [
      "C:\\Users\\RAJAT SAHU\\anaconda3\\lib\\site-packages\\seaborn\\distributions.py:2551: FutureWarning: `distplot` is a deprecated function and will be removed in a future version. Please adapt your code to use either `displot` (a figure-level function with similar flexibility) or `histplot` (an axes-level function for histograms).\n",
      "  warnings.warn(msg, FutureWarning)\n",
      "C:\\Users\\RAJAT SAHU\\anaconda3\\lib\\site-packages\\seaborn\\distributions.py:2551: FutureWarning: `distplot` is a deprecated function and will be removed in a future version. Please adapt your code to use either `displot` (a figure-level function with similar flexibility) or `histplot` (an axes-level function for histograms).\n",
      "  warnings.warn(msg, FutureWarning)\n"
     ]
    },
    {
     "data": {
      "image/png": "[encoded data removed]",
      "text/plain": [
       "<Figure size 720x360 with 2 Axes>"
      ]
     },
     "metadata": {
      "needs_background": "light"
     },
     "output_type": "display_data"
    }
   ],
   "source": [
    "plt.figure(figsize=(10,5))\n",
    "\n",
    "plt.subplot(121)\n",
    "plt.title('Car Price')\n",
    "sns.distplot(df.Price)\n",
    "\n",
    "plt.subplot(122)\n",
    "plt.title('car Mileage')\n",
    "sns.distplot(df.Mileage)\n",
    "plt.show()"
   ]
  },
  {
   "cell_type": "code",
   "execution_count": 24,
   "metadata": {},
   "outputs": [
    {
     "data": {
      "text/plain": [
       "<Figure size 720x576 with 0 Axes>"
      ]
     },
     "metadata": {},
     "output_type": "display_data"
    },
    {
     "data": {
      "image/png": "[encoded data removed]",
      "text/plain": [
       "<Figure size 720x720 with 20 Axes>"
      ]
     },
     "metadata": {
      "needs_background": "light"
     },
     "output_type": "display_data"
    }
   ],
   "source": [
    "plt.figure(figsize=(10,8))\n",
    "sns.pairplot(df)\n",
    "plt.show()"
   ]
  },
  {
   "cell_type": "code",
   "execution_count": 25,
   "metadata": {},
   "outputs": [
    {
     "name": "stderr",
     "output_type": "stream",
     "text": [
      "C:\\Users\\RAJAT SAHU\\anaconda3\\lib\\site-packages\\seaborn\\_decorators.py:36: FutureWarning: Pass the following variable as a keyword arg: x. From version 0.12, the only valid positional argument will be `data`, and passing other arguments without an explicit keyword will result in an error or misinterpretation.\n",
      "  warnings.warn(\n",
      "C:\\Users\\RAJAT SAHU\\anaconda3\\lib\\site-packages\\seaborn\\_decorators.py:36: FutureWarning: Pass the following variable as a keyword arg: x. From version 0.12, the only valid positional argument will be `data`, and passing other arguments without an explicit keyword will result in an error or misinterpretation.\n",
      "  warnings.warn(\n",
      "C:\\Users\\RAJAT SAHU\\anaconda3\\lib\\site-packages\\seaborn\\_decorators.py:36: FutureWarning: Pass the following variable as a keyword arg: x. From version 0.12, the only valid positional argument will be `data`, and passing other arguments without an explicit keyword will result in an error or misinterpretation.\n",
      "  warnings.warn(\n"
     ]
    },
    {
     "data": {
      "image/png": "[encoded data removed]",
      "text/plain": [
       "<Figure size 720x360 with 3 Axes>"
      ]
     },
     "metadata": {
      "needs_background": "light"
     },
     "output_type": "display_data"
    }
   ],
   "source": [
    "plt.figure(figsize=(10,5))\n",
    "plt.subplot(131)\n",
    "sns.boxplot(df.Price)\n",
    "plt.subplot(132)\n",
    "sns.boxplot(df.Mileage)\n",
    "plt.subplot(133)\n",
    "sns.boxplot(df.EngineV)\n",
    "plt.show()"
   ]
  },
  {
   "cell_type": "code",
   "execution_count": 26,
   "metadata": {},
   "outputs": [],
   "source": [
    "#df.drop(df[ (df.Price > up) | (df.Price < lw) ].index , inplace=True)"
   ]
  },
  {
   "cell_type": "code",
   "execution_count": 27,
   "metadata": {},
   "outputs": [
    {
     "name": "stderr",
     "output_type": "stream",
     "text": [
      "C:\\Users\\RAJAT SAHU\\anaconda3\\lib\\site-packages\\seaborn\\distributions.py:2551: FutureWarning: `distplot` is a deprecated function and will be removed in a future version. Please adapt your code to use either `displot` (a figure-level function with similar flexibility) or `histplot` (an axes-level function for histograms).\n",
      "  warnings.warn(msg, FutureWarning)\n",
      "C:\\Users\\RAJAT SAHU\\anaconda3\\lib\\site-packages\\seaborn\\distributions.py:2551: FutureWarning: `distplot` is a deprecated function and will be removed in a future version. Please adapt your code to use either `displot` (a figure-level function with similar flexibility) or `histplot` (an axes-level function for histograms).\n",
      "  warnings.warn(msg, FutureWarning)\n",
      "C:\\Users\\RAJAT SAHU\\anaconda3\\lib\\site-packages\\seaborn\\distributions.py:2551: FutureWarning: `distplot` is a deprecated function and will be removed in a future version. Please adapt your code to use either `displot` (a figure-level function with similar flexibility) or `histplot` (an axes-level function for histograms).\n",
      "  warnings.warn(msg, FutureWarning)\n"
     ]
    },
    {
     "data": {
      "image/png": "[encoded data removed]",
      "text/plain": [
       "<Figure size 1080x576 with 3 Axes>"
      ]
     },
     "metadata": {
      "needs_background": "light"
     },
     "output_type": "display_data"
    }
   ],
   "source": [
    "plt.figure(figsize=(15,8))\n",
    "plt.subplot(131)\n",
    "plt.title('Car Price')\n",
    "sns.distplot(df.Price)\n",
    "plt.subplot(132)\n",
    "plt.title('Car Mileage')\n",
    "sns.distplot(df.Mileage)\n",
    "plt.subplot(133)\n",
    "plt.title('Car EngineV')\n",
    "sns.distplot(df.EngineV)\n",
    "plt.show()"
   ]
  },
  {
   "cell_type": "markdown",
   "metadata": {},
   "source": [
    "### Dealing with outliers\n",
    "Hint: Use IQR or Z Score"
   ]
  },
  {
   "cell_type": "markdown",
   "metadata": {},
   "source": [
    "#### 8A. Identify the Outliers which are presented in `Price` Column"
   ]
  },
  {
   "cell_type": "code",
   "execution_count": 28,
   "metadata": {},
   "outputs": [
    {
     "data": {
      "image/png": "[encoded data removed]",
      "text/plain": [
       "<Figure size 720x576 with 1 Axes>"
      ]
     },
     "metadata": {
      "needs_background": "light"
     },
     "output_type": "display_data"
    }
   ],
   "source": [
    "plt.figure(figsize=(10,8))\n",
    "plt.boxplot(df.Price)\n",
    "plt.show()"
   ]
  },
  {
   "cell_type": "markdown",
   "metadata": {},
   "source": [
    "#### 8B. Remove the Outliers which are presented in `Price` Column"
   ]
  },
  {
   "cell_type": "code",
   "execution_count": 31,
   "metadata": {},
   "outputs": [
    {
     "name": "stdout",
     "output_type": "stream",
     "text": [
      "-6600.0 19200.0\n",
      "473\n"
     ]
    },
    {
     "name": "stderr",
     "output_type": "stream",
     "text": [
      "C:\\Users\\RAJAT SAHU\\anaconda3\\lib\\site-packages\\seaborn\\_decorators.py:36: FutureWarning: Pass the following variable as a keyword arg: x. From version 0.12, the only valid positional argument will be `data`, and passing other arguments without an explicit keyword will result in an error or misinterpretation.\n",
      "  warnings.warn(\n"
     ]
    },
    {
     "data": {
      "image/png": "[encoded data removed]",
      "text/plain": [
       "<Figure size 432x288 with 1 Axes>"
      ]
     },
     "metadata": {
      "needs_background": "light"
     },
     "output_type": "display_data"
    }
   ],
   "source": [
    "# Using IQR - interquntile Range \n",
    "\n",
    "Q1 = df['Price'].quantile(.25)\n",
    "Q2 = df['Price'].quantile(.5)\n",
    "Q3 = df['Price'].quantile(.75)\n",
    "IQR = Q3-Q1\n",
    "\n",
    "# Upper limit and Lower limit\n",
    "lw = Q1-1.5*IQR\n",
    "up = Q1+1.5*IQR\n",
    "print(lw,up)\n",
    "\n",
    "print(df['Price'][df['Price']>up].count())\n",
    "\n",
    "sns.boxplot(df.Mileage)\n",
    "plt.show()\n",
    "\n",
    "df.drop(df[df['Price'] > up ].index, inplace = True)"
   ]
  },
  {
   "cell_type": "markdown",
   "metadata": {},
   "source": [
    "#### 8C. Again Check the Distribution for `Price` Column and say something about distribution plot"
   ]
  },
  {
   "cell_type": "code",
   "execution_count": 32,
   "metadata": {},
   "outputs": [
    {
     "name": "stderr",
     "output_type": "stream",
     "text": [
      "C:\\Users\\RAJAT SAHU\\anaconda3\\lib\\site-packages\\seaborn\\_decorators.py:36: FutureWarning: Pass the following variable as a keyword arg: x. From version 0.12, the only valid positional argument will be `data`, and passing other arguments without an explicit keyword will result in an error or misinterpretation.\n",
      "  warnings.warn(\n",
      "C:\\Users\\RAJAT SAHU\\anaconda3\\lib\\site-packages\\seaborn\\distributions.py:2551: FutureWarning: `distplot` is a deprecated function and will be removed in a future version. Please adapt your code to use either `displot` (a figure-level function with similar flexibility) or `histplot` (an axes-level function for histograms).\n",
      "  warnings.warn(msg, FutureWarning)\n"
     ]
    },
    {
     "data": {
      "text/plain": [
       "<AxesSubplot:title={'center':'Car Price'}, xlabel='Price', ylabel='Density'>"
      ]
     },
     "execution_count": 32,
     "metadata": {},
     "output_type": "execute_result"
    },
    {
     "data": {
      "image/png": "[encoded data removed]",
      "text/plain": [
       "<Figure size 864x360 with 2 Axes>"
      ]
     },
     "metadata": {
      "needs_background": "light"
     },
     "output_type": "display_data"
    }
   ],
   "source": [
    "plt.figure(figsize=(12,5))\n",
    "plt.subplot(121)\n",
    "sns.boxplot(df.Price)\n",
    "\n",
    "plt.subplot(122)\n",
    "plt.title('Car Price')\n",
    "sns.distplot(df.Price)"
   ]
  },
  {
   "cell_type": "markdown",
   "metadata": {},
   "source": [
    "#### 9A. Same identify and remove the outliers in `Milage` column"
   ]
  },
  {
   "cell_type": "code",
   "execution_count": 33,
   "metadata": {},
   "outputs": [
    {
     "data": {
      "image/png": "[encoded data removed]",
      "text/plain": [
       "<Figure size 720x576 with 1 Axes>"
      ]
     },
     "metadata": {
      "needs_background": "light"
     },
     "output_type": "display_data"
    }
   ],
   "source": [
    "plt.figure(figsize=(10,8))\n",
    "plt.boxplot(df.Mileage)\n",
    "plt.show()"
   ]
  },
  {
   "cell_type": "markdown",
   "metadata": {},
   "source": [
    "#### 9B. Check the distribution after deleting the outliers in `milage` column and say something about distribution."
   ]
  },
  {
   "cell_type": "code",
   "execution_count": 34,
   "metadata": {},
   "outputs": [
    {
     "name": "stdout",
     "output_type": "stream",
     "text": [
      "-52.0 314.0\n"
     ]
    }
   ],
   "source": [
    "# Using IQR - interquntile Range \n",
    "\n",
    "Q1 = df['Mileage'].quantile(.25)\n",
    "Q2 = df['Mileage'].quantile(.5)\n",
    "Q3 = df['Mileage'].quantile(.75)\n",
    "IQR = Q3-Q1\n",
    "\n",
    "# Upper limit and Lower limit\n",
    "lw = Q1-1.5*IQR\n",
    "up = Q1+1.5*IQR\n",
    "print(lw,up)\n",
    "\n",
    "df.drop(df[df['Mileage'] > up ].index, inplace = True)"
   ]
  },
  {
   "cell_type": "code",
   "execution_count": 35,
   "metadata": {},
   "outputs": [
    {
     "name": "stderr",
     "output_type": "stream",
     "text": [
      "C:\\Users\\RAJAT SAHU\\anaconda3\\lib\\site-packages\\seaborn\\_decorators.py:36: FutureWarning: Pass the following variable as a keyword arg: x. From version 0.12, the only valid positional argument will be `data`, and passing other arguments without an explicit keyword will result in an error or misinterpretation.\n",
      "  warnings.warn(\n",
      "C:\\Users\\RAJAT SAHU\\anaconda3\\lib\\site-packages\\seaborn\\distributions.py:2551: FutureWarning: `distplot` is a deprecated function and will be removed in a future version. Please adapt your code to use either `displot` (a figure-level function with similar flexibility) or `histplot` (an axes-level function for histograms).\n",
      "  warnings.warn(msg, FutureWarning)\n"
     ]
    },
    {
     "data": {
      "text/plain": [
       "<AxesSubplot:title={'center':'Car Mileage'}, xlabel='Mileage', ylabel='Density'>"
      ]
     },
     "execution_count": 35,
     "metadata": {},
     "output_type": "execute_result"
    },
    {
     "data": {
      "image/png": "[encoded data removed]",
      "text/plain": [
       "<Figure size 864x360 with 2 Axes>"
      ]
     },
     "metadata": {
      "needs_background": "light"
     },
     "output_type": "display_data"
    }
   ],
   "source": [
    "plt.figure(figsize=(12,5))\n",
    "plt.subplot(121)\n",
    "sns.boxplot(df.Mileage)\n",
    "\n",
    "plt.subplot(122)\n",
    "plt.title('Car Mileage')\n",
    "sns.distplot(df.Mileage)"
   ]
  },
  {
   "cell_type": "markdown",
   "metadata": {},
   "source": [
    "#### 10A. Identify and remove the outliers from `EngineV` column\n",
    "\n"
   ]
  },
  {
   "cell_type": "code",
   "execution_count": 36,
   "metadata": {},
   "outputs": [
    {
     "data": {
      "image/png": "[encoded data removed]",
      "text/plain": [
       "<Figure size 720x576 with 1 Axes>"
      ]
     },
     "metadata": {
      "needs_background": "light"
     },
     "output_type": "display_data"
    }
   ],
   "source": [
    "plt.figure(figsize=(10,8))\n",
    "plt.boxplot(df.EngineV)\n",
    "plt.show()"
   ]
  },
  {
   "cell_type": "code",
   "execution_count": 37,
   "metadata": {},
   "outputs": [
    {
     "name": "stdout",
     "output_type": "stream",
     "text": [
      "0.2500000000000002 2.95\n"
     ]
    }
   ],
   "source": [
    "# Using IQR - interquntile Range \n",
    "\n",
    "Q1 = df['EngineV'].quantile(.25)\n",
    "Q2 = df['EngineV'].quantile(.5)\n",
    "Q3 = df['EngineV'].quantile(.75)\n",
    "IQR = Q3-Q1\n",
    "\n",
    "# Upper limit and Lower limit\n",
    "lw = Q1-1.5*IQR\n",
    "up = Q1+1.5*IQR\n",
    "print(lw,up)\n",
    "\n",
    "df.drop(df[df['EngineV'] > up ].index, inplace = True)"
   ]
  },
  {
   "cell_type": "markdown",
   "metadata": {},
   "source": [
    "#### 10B. Ckeck the distribution plot after deleting the outliers and say something about it."
   ]
  },
  {
   "cell_type": "code",
   "execution_count": 38,
   "metadata": {},
   "outputs": [
    {
     "name": "stderr",
     "output_type": "stream",
     "text": [
      "C:\\Users\\RAJAT SAHU\\anaconda3\\lib\\site-packages\\seaborn\\_decorators.py:36: FutureWarning: Pass the following variable as a keyword arg: x. From version 0.12, the only valid positional argument will be `data`, and passing other arguments without an explicit keyword will result in an error or misinterpretation.\n",
      "  warnings.warn(\n",
      "C:\\Users\\RAJAT SAHU\\anaconda3\\lib\\site-packages\\seaborn\\distributions.py:2551: FutureWarning: `distplot` is a deprecated function and will be removed in a future version. Please adapt your code to use either `displot` (a figure-level function with similar flexibility) or `histplot` (an axes-level function for histograms).\n",
      "  warnings.warn(msg, FutureWarning)\n"
     ]
    },
    {
     "data": {
      "text/plain": [
       "<AxesSubplot:title={'center':'Car EngineV'}, xlabel='EngineV', ylabel='Density'>"
      ]
     },
     "execution_count": 38,
     "metadata": {},
     "output_type": "execute_result"
    },
    {
     "data": {
      "image/png": "[encoded data removed]",
      "text/plain": [
       "<Figure size 864x360 with 2 Axes>"
      ]
     },
     "metadata": {
      "needs_background": "light"
     },
     "output_type": "display_data"
    }
   ],
   "source": [
    "plt.figure(figsize=(12,5))\n",
    "plt.subplot(121)\n",
    "sns.boxplot(df.EngineV)\n",
    "\n",
    "plt.subplot(122)\n",
    "plt.title('Car EngineV')\n",
    "sns.distplot(df.EngineV)"
   ]
  },
  {
   "cell_type": "markdown",
   "metadata": {},
   "source": [
    "#### 10C. Perform Lable & One-Hot Encoding For the Categorical Variable"
   ]
  },
  {
   "cell_type": "code",
   "execution_count": 39,
   "metadata": {},
   "outputs": [
    {
     "name": "stdout",
     "output_type": "stream",
     "text": [
      "<class 'pandas.core.frame.DataFrame'>\n",
      "Int64Index: 2179 entries, 0 to 4344\n",
      "Data columns (total 9 columns):\n",
      " #   Column        Non-Null Count  Dtype  \n",
      "---  ------        --------------  -----  \n",
      " 0   Brand         2179 non-null   object \n",
      " 1   Price         2179 non-null   float64\n",
      " 2   Body          2179 non-null   object \n",
      " 3   Mileage       2179 non-null   int64  \n",
      " 4   EngineV       2179 non-null   float64\n",
      " 5   Engine Type   2179 non-null   object \n",
      " 6   Registration  2179 non-null   object \n",
      " 7   Year          2179 non-null   int64  \n",
      " 8   Model         2179 non-null   object \n",
      "dtypes: float64(2), int64(2), object(5)\n",
      "memory usage: 170.2+ KB\n"
     ]
    }
   ],
   "source": [
    "df.info()"
   ]
  },
  {
   "cell_type": "code",
   "execution_count": 40,
   "metadata": {},
   "outputs": [
    {
     "data": {
      "text/plain": [
       "Index(['Brand', 'Price', 'Body', 'Mileage', 'EngineV', 'Engine Type',\n",
       "       'Registration', 'Year', 'Model'],\n",
       "      dtype='object')"
      ]
     },
     "execution_count": 40,
     "metadata": {},
     "output_type": "execute_result"
    }
   ],
   "source": [
    "df.columns"
   ]
  },
  {
   "cell_type": "code",
   "execution_count": 41,
   "metadata": {},
   "outputs": [],
   "source": [
    "from sklearn.preprocessing import LabelEncoder\n",
    "brand = LabelEncoder()\n",
    "df['Brand'] = brand.fit_transform(df['Brand'])\n",
    "df['Body'] = brand.fit_transform(df['Body'])\n",
    "df['Engine Type'] = brand.fit_transform(df['Engine Type'])\n",
    "df['Registration'] = brand.fit_transform(df['Registration'])\n",
    "df['Model'] = brand.fit_transform(df['Model'])"
   ]
  },
  {
   "cell_type": "markdown",
   "metadata": {},
   "source": [
    "#### NOTE: Labllng is done means we have changed in Numerical dtype, Now we can compare to each other."
   ]
  },
  {
   "cell_type": "code",
   "execution_count": 42,
   "metadata": {},
   "outputs": [
    {
     "data": {
      "text/html": [
       "<div>\n",
       "<style scoped>\n",
       "    .dataframe tbody tr th:only-of-type {\n",
       "        vertical-align: middle;\n",
       "    }\n",
       "\n",
       "    .dataframe tbody tr th {\n",
       "        vertical-align: top;\n",
       "    }\n",
       "\n",
       "    .dataframe thead th {\n",
       "        text-align: right;\n",
       "    }\n",
       "</style>\n",
       "<table border=\"1\" class=\"dataframe\">\n",
       "  <thead>\n",
       "    <tr style=\"text-align: right;\">\n",
       "      <th></th>\n",
       "      <th>Brand</th>\n",
       "      <th>Price</th>\n",
       "      <th>Body</th>\n",
       "      <th>Mileage</th>\n",
       "      <th>EngineV</th>\n",
       "      <th>Engine Type</th>\n",
       "      <th>Registration</th>\n",
       "      <th>Year</th>\n",
       "      <th>Model</th>\n",
       "    </tr>\n",
       "  </thead>\n",
       "  <tbody>\n",
       "    <tr>\n",
       "      <th>0</th>\n",
       "      <td>1</td>\n",
       "      <td>4200.0</td>\n",
       "      <td>3</td>\n",
       "      <td>277</td>\n",
       "      <td>2.0</td>\n",
       "      <td>3</td>\n",
       "      <td>1</td>\n",
       "      <td>1991</td>\n",
       "      <td>16</td>\n",
       "    </tr>\n",
       "    <tr>\n",
       "      <th>4</th>\n",
       "      <td>5</td>\n",
       "      <td>18300.0</td>\n",
       "      <td>0</td>\n",
       "      <td>120</td>\n",
       "      <td>2.0</td>\n",
       "      <td>3</td>\n",
       "      <td>1</td>\n",
       "      <td>2011</td>\n",
       "      <td>129</td>\n",
       "    </tr>\n",
       "    <tr>\n",
       "      <th>7</th>\n",
       "      <td>0</td>\n",
       "      <td>14200.0</td>\n",
       "      <td>4</td>\n",
       "      <td>200</td>\n",
       "      <td>2.7</td>\n",
       "      <td>0</td>\n",
       "      <td>1</td>\n",
       "      <td>2006</td>\n",
       "      <td>36</td>\n",
       "    </tr>\n",
       "    <tr>\n",
       "      <th>8</th>\n",
       "      <td>4</td>\n",
       "      <td>10799.0</td>\n",
       "      <td>4</td>\n",
       "      <td>193</td>\n",
       "      <td>1.5</td>\n",
       "      <td>0</td>\n",
       "      <td>1</td>\n",
       "      <td>2012</td>\n",
       "      <td>109</td>\n",
       "    </tr>\n",
       "    <tr>\n",
       "      <th>9</th>\n",
       "      <td>6</td>\n",
       "      <td>1400.0</td>\n",
       "      <td>2</td>\n",
       "      <td>212</td>\n",
       "      <td>1.8</td>\n",
       "      <td>1</td>\n",
       "      <td>0</td>\n",
       "      <td>1999</td>\n",
       "      <td>79</td>\n",
       "    </tr>\n",
       "  </tbody>\n",
       "</table>\n",
       "</div>"
      ],
      "text/plain": [
       "   Brand    Price  Body  Mileage  EngineV  Engine Type  Registration  Year  \\\n",
       "0      1   4200.0     3      277      2.0            3             1  1991   \n",
       "4      5  18300.0     0      120      2.0            3             1  2011   \n",
       "7      0  14200.0     4      200      2.7            0             1  2006   \n",
       "8      4  10799.0     4      193      1.5            0             1  2012   \n",
       "9      6   1400.0     2      212      1.8            1             0  1999   \n",
       "\n",
       "   Model  \n",
       "0     16  \n",
       "4    129  \n",
       "7     36  \n",
       "8    109  \n",
       "9     79  "
      ]
     },
     "execution_count": 42,
     "metadata": {},
     "output_type": "execute_result"
    }
   ],
   "source": [
    "df.head()"
   ]
  },
  {
   "cell_type": "code",
   "execution_count": 43,
   "metadata": {},
   "outputs": [],
   "source": [
    "# OneHotCoding\n",
    "from sklearn.compose import ColumnTransformer\n",
    "from sklearn.preprocessing import OneHotEncoder"
   ]
  },
  {
   "cell_type": "code",
   "execution_count": 44,
   "metadata": {},
   "outputs": [
    {
     "data": {
      "text/plain": [
       "176"
      ]
     },
     "execution_count": 44,
     "metadata": {},
     "output_type": "execute_result"
    }
   ],
   "source": [
    "df.Model.nunique()"
   ]
  },
  {
   "cell_type": "code",
   "execution_count": 45,
   "metadata": {},
   "outputs": [
    {
     "data": {
      "text/plain": [
       "38"
      ]
     },
     "execution_count": 45,
     "metadata": {},
     "output_type": "execute_result"
    }
   ],
   "source": [
    "df.Year.nunique()"
   ]
  },
  {
   "cell_type": "markdown",
   "metadata": {},
   "source": [
    "#### Number of Nunique categorical values in DataSet is greater then to the 10 then we can remove them."
   ]
  },
  {
   "cell_type": "code",
   "execution_count": 46,
   "metadata": {},
   "outputs": [],
   "source": [
    "df.drop(['Year','Model'],axis=1,inplace=True)"
   ]
  },
  {
   "cell_type": "code",
   "execution_count": 47,
   "metadata": {},
   "outputs": [
    {
     "data": {
      "text/html": [
       "<div>\n",
       "<style scoped>\n",
       "    .dataframe tbody tr th:only-of-type {\n",
       "        vertical-align: middle;\n",
       "    }\n",
       "\n",
       "    .dataframe tbody tr th {\n",
       "        vertical-align: top;\n",
       "    }\n",
       "\n",
       "    .dataframe thead th {\n",
       "        text-align: right;\n",
       "    }\n",
       "</style>\n",
       "<table border=\"1\" class=\"dataframe\">\n",
       "  <thead>\n",
       "    <tr style=\"text-align: right;\">\n",
       "      <th></th>\n",
       "      <th>Brand</th>\n",
       "      <th>Price</th>\n",
       "      <th>Body</th>\n",
       "      <th>Mileage</th>\n",
       "      <th>EngineV</th>\n",
       "      <th>Engine Type</th>\n",
       "      <th>Registration</th>\n",
       "    </tr>\n",
       "  </thead>\n",
       "  <tbody>\n",
       "    <tr>\n",
       "      <th>0</th>\n",
       "      <td>1</td>\n",
       "      <td>4200.0</td>\n",
       "      <td>3</td>\n",
       "      <td>277</td>\n",
       "      <td>2.0</td>\n",
       "      <td>3</td>\n",
       "      <td>1</td>\n",
       "    </tr>\n",
       "    <tr>\n",
       "      <th>4</th>\n",
       "      <td>5</td>\n",
       "      <td>18300.0</td>\n",
       "      <td>0</td>\n",
       "      <td>120</td>\n",
       "      <td>2.0</td>\n",
       "      <td>3</td>\n",
       "      <td>1</td>\n",
       "    </tr>\n",
       "    <tr>\n",
       "      <th>7</th>\n",
       "      <td>0</td>\n",
       "      <td>14200.0</td>\n",
       "      <td>4</td>\n",
       "      <td>200</td>\n",
       "      <td>2.7</td>\n",
       "      <td>0</td>\n",
       "      <td>1</td>\n",
       "    </tr>\n",
       "    <tr>\n",
       "      <th>8</th>\n",
       "      <td>4</td>\n",
       "      <td>10799.0</td>\n",
       "      <td>4</td>\n",
       "      <td>193</td>\n",
       "      <td>1.5</td>\n",
       "      <td>0</td>\n",
       "      <td>1</td>\n",
       "    </tr>\n",
       "    <tr>\n",
       "      <th>9</th>\n",
       "      <td>6</td>\n",
       "      <td>1400.0</td>\n",
       "      <td>2</td>\n",
       "      <td>212</td>\n",
       "      <td>1.8</td>\n",
       "      <td>1</td>\n",
       "      <td>0</td>\n",
       "    </tr>\n",
       "  </tbody>\n",
       "</table>\n",
       "</div>"
      ],
      "text/plain": [
       "   Brand    Price  Body  Mileage  EngineV  Engine Type  Registration\n",
       "0      1   4200.0     3      277      2.0            3             1\n",
       "4      5  18300.0     0      120      2.0            3             1\n",
       "7      0  14200.0     4      200      2.7            0             1\n",
       "8      4  10799.0     4      193      1.5            0             1\n",
       "9      6   1400.0     2      212      1.8            1             0"
      ]
     },
     "execution_count": 47,
     "metadata": {},
     "output_type": "execute_result"
    }
   ],
   "source": [
    "df.head()"
   ]
  },
  {
   "cell_type": "code",
   "execution_count": 48,
   "metadata": {},
   "outputs": [
    {
     "name": "stdout",
     "output_type": "stream",
     "text": [
      "Brand Number of unique values - 7 || Body Number of unique values - 6\n"
     ]
    }
   ],
   "source": [
    "print(\"Brand Number of unique values - \"+str(df['Brand'].nunique())+\" || Body Number of unique values - \"+str(df['Body'].nunique())+\"\")"
   ]
  },
  {
   "cell_type": "code",
   "execution_count": 49,
   "metadata": {},
   "outputs": [
    {
     "name": "stdout",
     "output_type": "stream",
     "text": [
      "EngineType Number of unique values - 4 || Registration Number of unique values - 2\n"
     ]
    }
   ],
   "source": [
    "print(\"EngineType Number of unique values - \"+str(df['Engine Type'].nunique())+\" || Registration Number of unique values - \"+str(df['Registration'].nunique())+\"\")"
   ]
  },
  {
   "cell_type": "code",
   "execution_count": 50,
   "metadata": {},
   "outputs": [
    {
     "data": {
      "text/html": [
       "<div>\n",
       "<style scoped>\n",
       "    .dataframe tbody tr th:only-of-type {\n",
       "        vertical-align: middle;\n",
       "    }\n",
       "\n",
       "    .dataframe tbody tr th {\n",
       "        vertical-align: top;\n",
       "    }\n",
       "\n",
       "    .dataframe thead th {\n",
       "        text-align: right;\n",
       "    }\n",
       "</style>\n",
       "<table border=\"1\" class=\"dataframe\">\n",
       "  <thead>\n",
       "    <tr style=\"text-align: right;\">\n",
       "      <th></th>\n",
       "      <th>Brand</th>\n",
       "      <th>Price</th>\n",
       "      <th>Body</th>\n",
       "      <th>Mileage</th>\n",
       "      <th>EngineV</th>\n",
       "      <th>Engine Type</th>\n",
       "      <th>Registration</th>\n",
       "    </tr>\n",
       "  </thead>\n",
       "  <tbody>\n",
       "    <tr>\n",
       "      <th>0</th>\n",
       "      <td>1</td>\n",
       "      <td>4200.0</td>\n",
       "      <td>3</td>\n",
       "      <td>277</td>\n",
       "      <td>2.0</td>\n",
       "      <td>3</td>\n",
       "      <td>1</td>\n",
       "    </tr>\n",
       "    <tr>\n",
       "      <th>4</th>\n",
       "      <td>5</td>\n",
       "      <td>18300.0</td>\n",
       "      <td>0</td>\n",
       "      <td>120</td>\n",
       "      <td>2.0</td>\n",
       "      <td>3</td>\n",
       "      <td>1</td>\n",
       "    </tr>\n",
       "  </tbody>\n",
       "</table>\n",
       "</div>"
      ],
      "text/plain": [
       "   Brand    Price  Body  Mileage  EngineV  Engine Type  Registration\n",
       "0      1   4200.0     3      277      2.0            3             1\n",
       "4      5  18300.0     0      120      2.0            3             1"
      ]
     },
     "execution_count": 50,
     "metadata": {},
     "output_type": "execute_result"
    }
   ],
   "source": [
    "df.head(2)"
   ]
  },
  {
   "cell_type": "code",
   "execution_count": 51,
   "metadata": {},
   "outputs": [],
   "source": [
    "df = df[['Brand','Body','Mileage','EngineV','Engine Type','Registration','Price']]"
   ]
  },
  {
   "cell_type": "code",
   "execution_count": 52,
   "metadata": {},
   "outputs": [
    {
     "data": {
      "text/html": [
       "<div>\n",
       "<style scoped>\n",
       "    .dataframe tbody tr th:only-of-type {\n",
       "        vertical-align: middle;\n",
       "    }\n",
       "\n",
       "    .dataframe tbody tr th {\n",
       "        vertical-align: top;\n",
       "    }\n",
       "\n",
       "    .dataframe thead th {\n",
       "        text-align: right;\n",
       "    }\n",
       "</style>\n",
       "<table border=\"1\" class=\"dataframe\">\n",
       "  <thead>\n",
       "    <tr style=\"text-align: right;\">\n",
       "      <th></th>\n",
       "      <th>Brand</th>\n",
       "      <th>Body</th>\n",
       "      <th>Mileage</th>\n",
       "      <th>EngineV</th>\n",
       "      <th>Engine Type</th>\n",
       "      <th>Registration</th>\n",
       "      <th>Price</th>\n",
       "    </tr>\n",
       "  </thead>\n",
       "  <tbody>\n",
       "    <tr>\n",
       "      <th>0</th>\n",
       "      <td>1</td>\n",
       "      <td>3</td>\n",
       "      <td>277</td>\n",
       "      <td>2.0</td>\n",
       "      <td>3</td>\n",
       "      <td>1</td>\n",
       "      <td>4200.0</td>\n",
       "    </tr>\n",
       "    <tr>\n",
       "      <th>4</th>\n",
       "      <td>5</td>\n",
       "      <td>0</td>\n",
       "      <td>120</td>\n",
       "      <td>2.0</td>\n",
       "      <td>3</td>\n",
       "      <td>1</td>\n",
       "      <td>18300.0</td>\n",
       "    </tr>\n",
       "  </tbody>\n",
       "</table>\n",
       "</div>"
      ],
      "text/plain": [
       "   Brand  Body  Mileage  EngineV  Engine Type  Registration    Price\n",
       "0      1     3      277      2.0            3             1   4200.0\n",
       "4      5     0      120      2.0            3             1  18300.0"
      ]
     },
     "execution_count": 52,
     "metadata": {},
     "output_type": "execute_result"
    }
   ],
   "source": [
    "df.head(2)"
   ]
  },
  {
   "cell_type": "code",
   "execution_count": 53,
   "metadata": {},
   "outputs": [],
   "source": [
    "X = pd.get_dummies(df, columns=['Brand','Body','Engine Type','Registration'])"
   ]
  },
  {
   "cell_type": "code",
   "execution_count": 54,
   "metadata": {},
   "outputs": [
    {
     "name": "stdout",
     "output_type": "stream",
     "text": [
      "<class 'pandas.core.frame.DataFrame'>\n",
      "Int64Index: 2179 entries, 0 to 4344\n",
      "Data columns (total 22 columns):\n",
      " #   Column          Non-Null Count  Dtype  \n",
      "---  ------          --------------  -----  \n",
      " 0   Mileage         2179 non-null   int64  \n",
      " 1   EngineV         2179 non-null   float64\n",
      " 2   Price           2179 non-null   float64\n",
      " 3   Brand_0         2179 non-null   uint8  \n",
      " 4   Brand_1         2179 non-null   uint8  \n",
      " 5   Brand_2         2179 non-null   uint8  \n",
      " 6   Brand_3         2179 non-null   uint8  \n",
      " 7   Brand_4         2179 non-null   uint8  \n",
      " 8   Brand_5         2179 non-null   uint8  \n",
      " 9   Brand_6         2179 non-null   uint8  \n",
      " 10  Body_0          2179 non-null   uint8  \n",
      " 11  Body_1          2179 non-null   uint8  \n",
      " 12  Body_2          2179 non-null   uint8  \n",
      " 13  Body_3          2179 non-null   uint8  \n",
      " 14  Body_4          2179 non-null   uint8  \n",
      " 15  Body_5          2179 non-null   uint8  \n",
      " 16  Engine Type_0   2179 non-null   uint8  \n",
      " 17  Engine Type_1   2179 non-null   uint8  \n",
      " 18  Engine Type_2   2179 non-null   uint8  \n",
      " 19  Engine Type_3   2179 non-null   uint8  \n",
      " 20  Registration_0  2179 non-null   uint8  \n",
      " 21  Registration_1  2179 non-null   uint8  \n",
      "dtypes: float64(2), int64(1), uint8(19)\n",
      "memory usage: 108.5 KB\n"
     ]
    }
   ],
   "source": [
    "X.info()"
   ]
  },
  {
   "cell_type": "code",
   "execution_count": 55,
   "metadata": {},
   "outputs": [],
   "source": [
    "for i in range(7):\n",
    "    X['Brand_'+str(i)+''] = X['Brand_'+str(i)+''].astype('int')\n",
    "for i in range(6):\n",
    "    X['Body_'+str(i)+''] = X['Body_'+str(i)+''].astype('int')\n",
    "for i in range(2):\n",
    "    X['Registration_'+str(i)+''] = X['Registration_'+str(i)+''].astype('int')\n",
    "for i in range(4):\n",
    "    X['Engine Type_'+str(i)+''] = X['Engine Type_'+str(i)+''].astype('int')"
   ]
  },
  {
   "cell_type": "code",
   "execution_count": 56,
   "metadata": {},
   "outputs": [],
   "source": [
    "y = df.iloc[:,-1]"
   ]
  },
  {
   "cell_type": "code",
   "execution_count": 57,
   "metadata": {},
   "outputs": [
    {
     "data": {
      "text/html": [
       "<div>\n",
       "<style scoped>\n",
       "    .dataframe tbody tr th:only-of-type {\n",
       "        vertical-align: middle;\n",
       "    }\n",
       "\n",
       "    .dataframe tbody tr th {\n",
       "        vertical-align: top;\n",
       "    }\n",
       "\n",
       "    .dataframe thead th {\n",
       "        text-align: right;\n",
       "    }\n",
       "</style>\n",
       "<table border=\"1\" class=\"dataframe\">\n",
       "  <thead>\n",
       "    <tr style=\"text-align: right;\">\n",
       "      <th></th>\n",
       "      <th>Mileage</th>\n",
       "      <th>EngineV</th>\n",
       "      <th>Price</th>\n",
       "      <th>Brand_0</th>\n",
       "      <th>Brand_1</th>\n",
       "      <th>Brand_2</th>\n",
       "      <th>Brand_3</th>\n",
       "      <th>Brand_4</th>\n",
       "      <th>Brand_5</th>\n",
       "      <th>Brand_6</th>\n",
       "      <th>...</th>\n",
       "      <th>Body_2</th>\n",
       "      <th>Body_3</th>\n",
       "      <th>Body_4</th>\n",
       "      <th>Body_5</th>\n",
       "      <th>Engine Type_0</th>\n",
       "      <th>Engine Type_1</th>\n",
       "      <th>Engine Type_2</th>\n",
       "      <th>Engine Type_3</th>\n",
       "      <th>Registration_0</th>\n",
       "      <th>Registration_1</th>\n",
       "    </tr>\n",
       "  </thead>\n",
       "  <tbody>\n",
       "    <tr>\n",
       "      <th>0</th>\n",
       "      <td>277</td>\n",
       "      <td>2.0</td>\n",
       "      <td>4200.0</td>\n",
       "      <td>0</td>\n",
       "      <td>1</td>\n",
       "      <td>0</td>\n",
       "      <td>0</td>\n",
       "      <td>0</td>\n",
       "      <td>0</td>\n",
       "      <td>0</td>\n",
       "      <td>...</td>\n",
       "      <td>0</td>\n",
       "      <td>1</td>\n",
       "      <td>0</td>\n",
       "      <td>0</td>\n",
       "      <td>0</td>\n",
       "      <td>0</td>\n",
       "      <td>0</td>\n",
       "      <td>1</td>\n",
       "      <td>0</td>\n",
       "      <td>1</td>\n",
       "    </tr>\n",
       "    <tr>\n",
       "      <th>4</th>\n",
       "      <td>120</td>\n",
       "      <td>2.0</td>\n",
       "      <td>18300.0</td>\n",
       "      <td>0</td>\n",
       "      <td>0</td>\n",
       "      <td>0</td>\n",
       "      <td>0</td>\n",
       "      <td>0</td>\n",
       "      <td>1</td>\n",
       "      <td>0</td>\n",
       "      <td>...</td>\n",
       "      <td>0</td>\n",
       "      <td>0</td>\n",
       "      <td>0</td>\n",
       "      <td>0</td>\n",
       "      <td>0</td>\n",
       "      <td>0</td>\n",
       "      <td>0</td>\n",
       "      <td>1</td>\n",
       "      <td>0</td>\n",
       "      <td>1</td>\n",
       "    </tr>\n",
       "  </tbody>\n",
       "</table>\n",
       "<p>2 rows × 22 columns</p>\n",
       "</div>"
      ],
      "text/plain": [
       "   Mileage  EngineV    Price  Brand_0  Brand_1  Brand_2  Brand_3  Brand_4  \\\n",
       "0      277      2.0   4200.0        0        1        0        0        0   \n",
       "4      120      2.0  18300.0        0        0        0        0        0   \n",
       "\n",
       "   Brand_5  Brand_6  ...  Body_2  Body_3  Body_4  Body_5  Engine Type_0  \\\n",
       "0        0        0  ...       0       1       0       0              0   \n",
       "4        1        0  ...       0       0       0       0              0   \n",
       "\n",
       "   Engine Type_1  Engine Type_2  Engine Type_3  Registration_0  Registration_1  \n",
       "0              0              0              1               0               1  \n",
       "4              0              0              1               0               1  \n",
       "\n",
       "[2 rows x 22 columns]"
      ]
     },
     "execution_count": 57,
     "metadata": {},
     "output_type": "execute_result"
    }
   ],
   "source": [
    "X.Price = y\n",
    "X.head(2)"
   ]
  },
  {
   "cell_type": "markdown",
   "metadata": {},
   "source": [
    "### Multicollinearity"
   ]
  },
  {
   "cell_type": "markdown",
   "metadata": {},
   "source": [
    "#### 11A. Say about Multicollinearity and Find the Multicollinearity variables in the Dataset. \n"
   ]
  },
  {
   "cell_type": "code",
   "execution_count": 58,
   "metadata": {},
   "outputs": [],
   "source": [
    "from statsmodels.stats.outliers_influence import variance_inflation_factor"
   ]
  },
  {
   "cell_type": "code",
   "execution_count": 59,
   "metadata": {},
   "outputs": [
    {
     "data": {
      "text/plain": [
       "Index(['Brand', 'Body', 'Mileage', 'EngineV', 'Engine Type', 'Registration',\n",
       "       'Price'],\n",
       "      dtype='object')"
      ]
     },
     "execution_count": 59,
     "metadata": {},
     "output_type": "execute_result"
    }
   ],
   "source": [
    "df.columns"
   ]
  },
  {
   "cell_type": "code",
   "execution_count": 60,
   "metadata": {},
   "outputs": [],
   "source": [
    "df.rename({'Engine Type' : 'EngineType'},axis=1,inplace=True)"
   ]
  },
  {
   "cell_type": "code",
   "execution_count": 61,
   "metadata": {},
   "outputs": [],
   "source": [
    "df = df[['Brand','Body','Mileage','EngineV','EngineType','Registration','Price']]"
   ]
  },
  {
   "cell_type": "code",
   "execution_count": 62,
   "metadata": {},
   "outputs": [
    {
     "data": {
      "text/html": [
       "<div>\n",
       "<style scoped>\n",
       "    .dataframe tbody tr th:only-of-type {\n",
       "        vertical-align: middle;\n",
       "    }\n",
       "\n",
       "    .dataframe tbody tr th {\n",
       "        vertical-align: top;\n",
       "    }\n",
       "\n",
       "    .dataframe thead th {\n",
       "        text-align: right;\n",
       "    }\n",
       "</style>\n",
       "<table border=\"1\" class=\"dataframe\">\n",
       "  <thead>\n",
       "    <tr style=\"text-align: right;\">\n",
       "      <th></th>\n",
       "      <th>Brand</th>\n",
       "      <th>Body</th>\n",
       "      <th>Mileage</th>\n",
       "      <th>EngineV</th>\n",
       "      <th>EngineType</th>\n",
       "      <th>Registration</th>\n",
       "      <th>Price</th>\n",
       "    </tr>\n",
       "  </thead>\n",
       "  <tbody>\n",
       "    <tr>\n",
       "      <th>0</th>\n",
       "      <td>1</td>\n",
       "      <td>3</td>\n",
       "      <td>277</td>\n",
       "      <td>2.0</td>\n",
       "      <td>3</td>\n",
       "      <td>1</td>\n",
       "      <td>4200.0</td>\n",
       "    </tr>\n",
       "    <tr>\n",
       "      <th>4</th>\n",
       "      <td>5</td>\n",
       "      <td>0</td>\n",
       "      <td>120</td>\n",
       "      <td>2.0</td>\n",
       "      <td>3</td>\n",
       "      <td>1</td>\n",
       "      <td>18300.0</td>\n",
       "    </tr>\n",
       "    <tr>\n",
       "      <th>7</th>\n",
       "      <td>0</td>\n",
       "      <td>4</td>\n",
       "      <td>200</td>\n",
       "      <td>2.7</td>\n",
       "      <td>0</td>\n",
       "      <td>1</td>\n",
       "      <td>14200.0</td>\n",
       "    </tr>\n",
       "    <tr>\n",
       "      <th>8</th>\n",
       "      <td>4</td>\n",
       "      <td>4</td>\n",
       "      <td>193</td>\n",
       "      <td>1.5</td>\n",
       "      <td>0</td>\n",
       "      <td>1</td>\n",
       "      <td>10799.0</td>\n",
       "    </tr>\n",
       "    <tr>\n",
       "      <th>9</th>\n",
       "      <td>6</td>\n",
       "      <td>2</td>\n",
       "      <td>212</td>\n",
       "      <td>1.8</td>\n",
       "      <td>1</td>\n",
       "      <td>0</td>\n",
       "      <td>1400.0</td>\n",
       "    </tr>\n",
       "  </tbody>\n",
       "</table>\n",
       "</div>"
      ],
      "text/plain": [
       "   Brand  Body  Mileage  EngineV  EngineType  Registration    Price\n",
       "0      1     3      277      2.0           3             1   4200.0\n",
       "4      5     0      120      2.0           3             1  18300.0\n",
       "7      0     4      200      2.7           0             1  14200.0\n",
       "8      4     4      193      1.5           0             1  10799.0\n",
       "9      6     2      212      1.8           1             0   1400.0"
      ]
     },
     "execution_count": 62,
     "metadata": {},
     "output_type": "execute_result"
    }
   ],
   "source": [
    "df.head()"
   ]
  },
  {
   "cell_type": "code",
   "execution_count": 63,
   "metadata": {},
   "outputs": [],
   "source": [
    "x = df.drop('Price',axis=1)"
   ]
  },
  {
   "cell_type": "code",
   "execution_count": 64,
   "metadata": {},
   "outputs": [
    {
     "data": {
      "text/plain": [
       "Index(['Brand', 'Body', 'Mileage', 'EngineV', 'EngineType', 'Registration'], dtype='object')"
      ]
     },
     "execution_count": 64,
     "metadata": {},
     "output_type": "execute_result"
    }
   ],
   "source": [
    "x.columns"
   ]
  },
  {
   "cell_type": "code",
   "execution_count": 65,
   "metadata": {},
   "outputs": [],
   "source": [
    "vif_data = pd.DataFrame()\n",
    "vif_data['feature'] = x.columns"
   ]
  },
  {
   "cell_type": "code",
   "execution_count": 66,
   "metadata": {},
   "outputs": [],
   "source": [
    "vif_data['VIF'] = [variance_inflation_factor(x.values,i) for i in range(len(x.columns))]"
   ]
  },
  {
   "cell_type": "code",
   "execution_count": 67,
   "metadata": {},
   "outputs": [
    {
     "data": {
      "text/html": [
       "<div>\n",
       "<style scoped>\n",
       "    .dataframe tbody tr th:only-of-type {\n",
       "        vertical-align: middle;\n",
       "    }\n",
       "\n",
       "    .dataframe tbody tr th {\n",
       "        vertical-align: top;\n",
       "    }\n",
       "\n",
       "    .dataframe thead th {\n",
       "        text-align: right;\n",
       "    }\n",
       "</style>\n",
       "<table border=\"1\" class=\"dataframe\">\n",
       "  <thead>\n",
       "    <tr style=\"text-align: right;\">\n",
       "      <th></th>\n",
       "      <th>feature</th>\n",
       "      <th>VIF</th>\n",
       "    </tr>\n",
       "  </thead>\n",
       "  <tbody>\n",
       "    <tr>\n",
       "      <th>4</th>\n",
       "      <td>EngineType</td>\n",
       "      <td>2.018800</td>\n",
       "    </tr>\n",
       "    <tr>\n",
       "      <th>0</th>\n",
       "      <td>Brand</td>\n",
       "      <td>4.297945</td>\n",
       "    </tr>\n",
       "    <tr>\n",
       "      <th>1</th>\n",
       "      <td>Body</td>\n",
       "      <td>6.169038</td>\n",
       "    </tr>\n",
       "    <tr>\n",
       "      <th>2</th>\n",
       "      <td>Mileage</td>\n",
       "      <td>7.463976</td>\n",
       "    </tr>\n",
       "    <tr>\n",
       "      <th>5</th>\n",
       "      <td>Registration</td>\n",
       "      <td>8.238757</td>\n",
       "    </tr>\n",
       "    <tr>\n",
       "      <th>3</th>\n",
       "      <td>EngineV</td>\n",
       "      <td>14.120425</td>\n",
       "    </tr>\n",
       "  </tbody>\n",
       "</table>\n",
       "</div>"
      ],
      "text/plain": [
       "        feature        VIF\n",
       "4    EngineType   2.018800\n",
       "0         Brand   4.297945\n",
       "1          Body   6.169038\n",
       "2       Mileage   7.463976\n",
       "5  Registration   8.238757\n",
       "3       EngineV  14.120425"
      ]
     },
     "execution_count": 67,
     "metadata": {},
     "output_type": "execute_result"
    }
   ],
   "source": [
    "vif_data.sort_values('VIF',ascending=True)"
   ]
  },
  {
   "cell_type": "code",
   "execution_count": 68,
   "metadata": {},
   "outputs": [
    {
     "data": {
      "text/html": [
       "<div>\n",
       "<style scoped>\n",
       "    .dataframe tbody tr th:only-of-type {\n",
       "        vertical-align: middle;\n",
       "    }\n",
       "\n",
       "    .dataframe tbody tr th {\n",
       "        vertical-align: top;\n",
       "    }\n",
       "\n",
       "    .dataframe thead th {\n",
       "        text-align: right;\n",
       "    }\n",
       "</style>\n",
       "<table border=\"1\" class=\"dataframe\">\n",
       "  <thead>\n",
       "    <tr style=\"text-align: right;\">\n",
       "      <th></th>\n",
       "      <th>feature</th>\n",
       "      <th>VIF</th>\n",
       "    </tr>\n",
       "  </thead>\n",
       "  <tbody>\n",
       "    <tr>\n",
       "      <th>2</th>\n",
       "      <td>Mileage</td>\n",
       "      <td>7.463976</td>\n",
       "    </tr>\n",
       "    <tr>\n",
       "      <th>5</th>\n",
       "      <td>Registration</td>\n",
       "      <td>8.238757</td>\n",
       "    </tr>\n",
       "    <tr>\n",
       "      <th>3</th>\n",
       "      <td>EngineV</td>\n",
       "      <td>14.120425</td>\n",
       "    </tr>\n",
       "  </tbody>\n",
       "</table>\n",
       "</div>"
      ],
      "text/plain": [
       "        feature        VIF\n",
       "2       Mileage   7.463976\n",
       "5  Registration   8.238757\n",
       "3       EngineV  14.120425"
      ]
     },
     "execution_count": 68,
     "metadata": {},
     "output_type": "execute_result"
    }
   ],
   "source": [
    "# we have to remove the top 2 high varience features.\n",
    "vif_data.sort_values('VIF',ascending=True).tail(3)"
   ]
  },
  {
   "cell_type": "code",
   "execution_count": 69,
   "metadata": {},
   "outputs": [],
   "source": [
    "#### i will remove EngineV because fo high varience."
   ]
  },
  {
   "cell_type": "code",
   "execution_count": 70,
   "metadata": {},
   "outputs": [
    {
     "data": {
      "text/plain": [
       "Index(['Brand', 'Body', 'Mileage', 'EngineV', 'EngineType', 'Registration'], dtype='object')"
      ]
     },
     "execution_count": 70,
     "metadata": {},
     "output_type": "execute_result"
    }
   ],
   "source": [
    "x.columns"
   ]
  },
  {
   "cell_type": "code",
   "execution_count": 71,
   "metadata": {},
   "outputs": [],
   "source": [
    "df.drop(['EngineV'],axis=1,inplace=True)"
   ]
  },
  {
   "cell_type": "code",
   "execution_count": 72,
   "metadata": {},
   "outputs": [
    {
     "data": {
      "text/plain": [
       "Index(['Brand', 'Body', 'Mileage', 'EngineType', 'Registration', 'Price'], dtype='object')"
      ]
     },
     "execution_count": 72,
     "metadata": {},
     "output_type": "execute_result"
    }
   ],
   "source": [
    "df.columns"
   ]
  },
  {
   "cell_type": "markdown",
   "metadata": {},
   "source": [
    "#### 11B. Show the variables which are having Multicollinearity.\n",
    "\n",
    "Hint: VIF Score"
   ]
  },
  {
   "cell_type": "markdown",
   "metadata": {},
   "source": [
    "#### VIF means is a measure of the amount of multicolinearity among the independent variable in a set of multiple regression variable. \n",
    "\n",
    "##### - A large VIF (varience inflation factor) means highly correlation between the independ features.\n",
    "##### - A variance inflation factor is a tool to help identify the degree of multicollinearity\n",
    "##### - Multicollinearity creates a problem in the multiple regression because the inputs are all influencing each other. Therefore, they are not actually independent, and it is difficult to test how much the combination of the independent variables affects the dependent variable, or outcome, within the regression model. In statistical terms, a multiple regression model where there is high multicollinearity will make it more difficult to estimate the relationship between each of the independent variables and the dependent variable.\n",
    "\n",
    "#### Note :  For the data, if VIF will greater then to the 10 then we have to remove those column. becuase in these column high Varience or VIF."
   ]
  },
  {
   "cell_type": "markdown",
   "metadata": {},
   "source": [
    "### Model fit"
   ]
  },
  {
   "cell_type": "markdown",
   "metadata": {},
   "source": [
    "#### 12A. Perform The Model fit & Model output using OLS "
   ]
  },
  {
   "cell_type": "code",
   "execution_count": 73,
   "metadata": {},
   "outputs": [],
   "source": [
    "import statsmodels.api as sm\n",
    "import statsmodels.formula.api as smf"
   ]
  },
  {
   "cell_type": "code",
   "execution_count": 74,
   "metadata": {},
   "outputs": [
    {
     "data": {
      "text/html": [
       "<div>\n",
       "<style scoped>\n",
       "    .dataframe tbody tr th:only-of-type {\n",
       "        vertical-align: middle;\n",
       "    }\n",
       "\n",
       "    .dataframe tbody tr th {\n",
       "        vertical-align: top;\n",
       "    }\n",
       "\n",
       "    .dataframe thead th {\n",
       "        text-align: right;\n",
       "    }\n",
       "</style>\n",
       "<table border=\"1\" class=\"dataframe\">\n",
       "  <thead>\n",
       "    <tr style=\"text-align: right;\">\n",
       "      <th></th>\n",
       "      <th>Brand</th>\n",
       "      <th>Body</th>\n",
       "      <th>Mileage</th>\n",
       "      <th>EngineType</th>\n",
       "      <th>Registration</th>\n",
       "      <th>Price</th>\n",
       "    </tr>\n",
       "  </thead>\n",
       "  <tbody>\n",
       "    <tr>\n",
       "      <th>0</th>\n",
       "      <td>1</td>\n",
       "      <td>3</td>\n",
       "      <td>277</td>\n",
       "      <td>3</td>\n",
       "      <td>1</td>\n",
       "      <td>4200.0</td>\n",
       "    </tr>\n",
       "  </tbody>\n",
       "</table>\n",
       "</div>"
      ],
      "text/plain": [
       "   Brand  Body  Mileage  EngineType  Registration   Price\n",
       "0      1     3      277           3             1  4200.0"
      ]
     },
     "execution_count": 74,
     "metadata": {},
     "output_type": "execute_result"
    }
   ],
   "source": [
    "df.head(1)"
   ]
  },
  {
   "cell_type": "code",
   "execution_count": 75,
   "metadata": {},
   "outputs": [
    {
     "data": {
      "text/plain": [
       "Index(['Brand', 'Body', 'Mileage', 'EngineType', 'Registration', 'Price'], dtype='object')"
      ]
     },
     "execution_count": 75,
     "metadata": {},
     "output_type": "execute_result"
    }
   ],
   "source": [
    "df.columns"
   ]
  },
  {
   "cell_type": "code",
   "execution_count": 76,
   "metadata": {},
   "outputs": [
    {
     "data": {
      "text/plain": [
       "(2179, 6)"
      ]
     },
     "execution_count": 76,
     "metadata": {},
     "output_type": "execute_result"
    }
   ],
   "source": [
    "df.shape"
   ]
  },
  {
   "cell_type": "code",
   "execution_count": 77,
   "metadata": {},
   "outputs": [],
   "source": [
    "df.rename(columns={'Engine Type':'EngineType'},inplace=True)"
   ]
  },
  {
   "cell_type": "code",
   "execution_count": 78,
   "metadata": {
    "scrolled": false
   },
   "outputs": [
    {
     "data": {
      "text/html": [
       "<table class=\"simpletable\">\n",
       "<caption>OLS Regression Results</caption>\n",
       "<tr>\n",
       "  <th>Dep. Variable:</th>          <td>Price</td>      <th>  R-squared:         </th> <td>   0.301</td> \n",
       "</tr>\n",
       "<tr>\n",
       "  <th>Model:</th>                   <td>OLS</td>       <th>  Adj. R-squared:    </th> <td>   0.300</td> \n",
       "</tr>\n",
       "<tr>\n",
       "  <th>Method:</th>             <td>Least Squares</td>  <th>  F-statistic:       </th> <td>   187.4</td> \n",
       "</tr>\n",
       "<tr>\n",
       "  <th>Date:</th>             <td>Tue, 20 Jul 2021</td> <th>  Prob (F-statistic):</th> <td>3.02e-166</td>\n",
       "</tr>\n",
       "<tr>\n",
       "  <th>Time:</th>                 <td>15:46:37</td>     <th>  Log-Likelihood:    </th> <td> -20959.</td> \n",
       "</tr>\n",
       "<tr>\n",
       "  <th>No. Observations:</th>      <td>  2179</td>      <th>  AIC:               </th> <td>4.193e+04</td>\n",
       "</tr>\n",
       "<tr>\n",
       "  <th>Df Residuals:</th>          <td>  2173</td>      <th>  BIC:               </th> <td>4.196e+04</td>\n",
       "</tr>\n",
       "<tr>\n",
       "  <th>Df Model:</th>              <td>     5</td>      <th>                     </th>     <td> </td>    \n",
       "</tr>\n",
       "<tr>\n",
       "  <th>Covariance Type:</th>      <td>nonrobust</td>    <th>                     </th>     <td> </td>    \n",
       "</tr>\n",
       "</table>\n",
       "<table class=\"simpletable\">\n",
       "<tr>\n",
       "        <td></td>          <th>coef</th>     <th>std err</th>      <th>t</th>      <th>P>|t|</th>  <th>[0.025</th>    <th>0.975]</th>  \n",
       "</tr>\n",
       "<tr>\n",
       "  <th>Intercept</th>    <td> 8495.3985</td> <td>  411.876</td> <td>   20.626</td> <td> 0.000</td> <td> 7687.686</td> <td> 9303.111</td>\n",
       "</tr>\n",
       "<tr>\n",
       "  <th>Brand</th>        <td>    8.0296</td> <td>   40.851</td> <td>    0.197</td> <td> 0.844</td> <td>  -72.082</td> <td>   88.142</td>\n",
       "</tr>\n",
       "<tr>\n",
       "  <th>Body</th>         <td> -297.3911</td> <td>   59.478</td> <td>   -5.000</td> <td> 0.000</td> <td> -414.032</td> <td> -180.751</td>\n",
       "</tr>\n",
       "<tr>\n",
       "  <th>Mileage</th>      <td>  -16.3906</td> <td>    1.124</td> <td>  -14.587</td> <td> 0.000</td> <td>  -18.594</td> <td>  -14.187</td>\n",
       "</tr>\n",
       "<tr>\n",
       "  <th>EngineType</th>   <td> -509.6255</td> <td>   64.112</td> <td>   -7.949</td> <td> 0.000</td> <td> -635.353</td> <td> -383.898</td>\n",
       "</tr>\n",
       "<tr>\n",
       "  <th>Registration</th> <td> 5457.1256</td> <td>  254.852</td> <td>   21.413</td> <td> 0.000</td> <td> 4957.347</td> <td> 5956.904</td>\n",
       "</tr>\n",
       "</table>\n",
       "<table class=\"simpletable\">\n",
       "<tr>\n",
       "  <th>Omnibus:</th>       <td>15.543</td> <th>  Durbin-Watson:     </th> <td>   1.993</td>\n",
       "</tr>\n",
       "<tr>\n",
       "  <th>Prob(Omnibus):</th> <td> 0.000</td> <th>  Jarque-Bera (JB):  </th> <td>  16.524</td>\n",
       "</tr>\n",
       "<tr>\n",
       "  <th>Skew:</th>          <td> 0.169</td> <th>  Prob(JB):          </th> <td>0.000258</td>\n",
       "</tr>\n",
       "<tr>\n",
       "  <th>Kurtosis:</th>      <td> 3.261</td> <th>  Cond. No.          </th> <td>1.06e+03</td>\n",
       "</tr>\n",
       "</table><br/><br/>Notes:<br/>[1] Standard Errors assume that the covariance matrix of the errors is correctly specified.<br/>[2] The condition number is large, 1.06e+03. This might indicate that there are<br/>strong multicollinearity or other numerical problems."
      ],
      "text/plain": [
       "<class 'statsmodels.iolib.summary.Summary'>\n",
       "\"\"\"\n",
       "                            OLS Regression Results                            \n",
       "==============================================================================\n",
       "Dep. Variable:                  Price   R-squared:                       0.301\n",
       "Model:                            OLS   Adj. R-squared:                  0.300\n",
       "Method:                 Least Squares   F-statistic:                     187.4\n",
       "Date:                Tue, 20 Jul 2021   Prob (F-statistic):          3.02e-166\n",
       "Time:                        15:46:37   Log-Likelihood:                -20959.\n",
       "No. Observations:                2179   AIC:                         4.193e+04\n",
       "Df Residuals:                    2173   BIC:                         4.196e+04\n",
       "Df Model:                           5                                         \n",
       "Covariance Type:            nonrobust                                         \n",
       "================================================================================\n",
       "                   coef    std err          t      P>|t|      [0.025      0.975]\n",
       "--------------------------------------------------------------------------------\n",
       "Intercept     8495.3985    411.876     20.626      0.000    7687.686    9303.111\n",
       "Brand            8.0296     40.851      0.197      0.844     -72.082      88.142\n",
       "Body          -297.3911     59.478     -5.000      0.000    -414.032    -180.751\n",
       "Mileage        -16.3906      1.124    -14.587      0.000     -18.594     -14.187\n",
       "EngineType    -509.6255     64.112     -7.949      0.000    -635.353    -383.898\n",
       "Registration  5457.1256    254.852     21.413      0.000    4957.347    5956.904\n",
       "==============================================================================\n",
       "Omnibus:                       15.543   Durbin-Watson:                   1.993\n",
       "Prob(Omnibus):                  0.000   Jarque-Bera (JB):               16.524\n",
       "Skew:                           0.169   Prob(JB):                     0.000258\n",
       "Kurtosis:                       3.261   Cond. No.                     1.06e+03\n",
       "==============================================================================\n",
       "\n",
       "Notes:\n",
       "[1] Standard Errors assume that the covariance matrix of the errors is correctly specified.\n",
       "[2] The condition number is large, 1.06e+03. This might indicate that there are\n",
       "strong multicollinearity or other numerical problems.\n",
       "\"\"\""
      ]
     },
     "execution_count": 78,
     "metadata": {},
     "output_type": "execute_result"
    }
   ],
   "source": [
    "olsmodel = smf.ols(formula='Price~Brand+Body+Mileage+EngineType+Registration',data=df).fit()\n",
    "olsmodel.summary()"
   ]
  },
  {
   "cell_type": "markdown",
   "metadata": {},
   "source": [
    "#### 12B. Explain the Model Evaluation metrics in OLS method."
   ]
  },
  {
   "cell_type": "markdown",
   "metadata": {},
   "source": [
    "**Note:** Give The Explanation about R-square, Adjusted.R-Square and Explain the P-Value in OLS Table"
   ]
  },
  {
   "cell_type": "markdown",
   "metadata": {},
   "source": [
    "#### R-square :  Any study that attempts to predict human behavior will tend to have R-squared values less than 50%. However, if you analyze a physical process and have very good measurements, you might expect R-squared values over 90%. There is no one-size fits all best answer for how high R-squared should be. we are getting 33% R**2\n",
    "\n",
    "#### Adj. R-square : Adj. R square should be always less to the R-square.\n",
    "\n",
    "#### P-value : if, we will consider alpha is 5% (or significance level), then P-value always greater then to the 0.05. however we are getting p value very less like 0.00..."
   ]
  },
  {
   "cell_type": "markdown",
   "metadata": {},
   "source": [
    "#### 13A. Feature Selection using with Forward Selection"
   ]
  },
  {
   "cell_type": "code",
   "execution_count": 79,
   "metadata": {},
   "outputs": [
    {
     "data": {
      "text/html": [
       "<div>\n",
       "<style scoped>\n",
       "    .dataframe tbody tr th:only-of-type {\n",
       "        vertical-align: middle;\n",
       "    }\n",
       "\n",
       "    .dataframe tbody tr th {\n",
       "        vertical-align: top;\n",
       "    }\n",
       "\n",
       "    .dataframe thead th {\n",
       "        text-align: right;\n",
       "    }\n",
       "</style>\n",
       "<table border=\"1\" class=\"dataframe\">\n",
       "  <thead>\n",
       "    <tr style=\"text-align: right;\">\n",
       "      <th></th>\n",
       "      <th>feature</th>\n",
       "      <th>VIF</th>\n",
       "    </tr>\n",
       "  </thead>\n",
       "  <tbody>\n",
       "    <tr>\n",
       "      <th>3</th>\n",
       "      <td>EngineV</td>\n",
       "      <td>14.120425</td>\n",
       "    </tr>\n",
       "  </tbody>\n",
       "</table>\n",
       "</div>"
      ],
      "text/plain": [
       "   feature        VIF\n",
       "3  EngineV  14.120425"
      ]
     },
     "execution_count": 79,
     "metadata": {},
     "output_type": "execute_result"
    }
   ],
   "source": [
    "#### Most important column we have after drop high VIF values.\n",
    "vif_data.sort_values('VIF',ascending=True).tail(1)"
   ]
  },
  {
   "cell_type": "markdown",
   "metadata": {},
   "source": [
    "# Removed EngineV"
   ]
  },
  {
   "cell_type": "code",
   "execution_count": 80,
   "metadata": {},
   "outputs": [
    {
     "data": {
      "text/plain": [
       "Index(['Brand', 'Body', 'Mileage', 'EngineType', 'Registration', 'Price'], dtype='object')"
      ]
     },
     "execution_count": 80,
     "metadata": {},
     "output_type": "execute_result"
    }
   ],
   "source": [
    "df.columns"
   ]
  },
  {
   "cell_type": "code",
   "execution_count": 81,
   "metadata": {},
   "outputs": [
    {
     "name": "stdout",
     "output_type": "stream",
     "text": [
      "Price~Brand \n",
      "p_value: 1.8942695377483965e-15 \n",
      " \n",
      "Price~Body \n",
      "p_value: 2.0590577985868714e-05 \n",
      " \n",
      "Price~Mileage \n",
      "p_value: 9.267224680360548e-71 \n",
      " \n",
      "Price~EngineType \n",
      "p_value: 0.9182743387427195 \n",
      " \n",
      "Price~Registration \n",
      "p_value: 3.8255465762855946e-114 \n",
      " \n"
     ]
    }
   ],
   "source": [
    "features = ['Brand','Body','Mileage','EngineType','Registration']\n",
    "for var in features:\n",
    "    model = smf.ols(formula='Price~{}'.format(var),data=df).fit()\n",
    "    print('Price~{} {} {} {} '.format(var, '\\np_value:' , model.pvalues[1], '\\n'))"
   ]
  },
  {
   "cell_type": "markdown",
   "metadata": {},
   "source": [
    "#### Note: According to the \"Backward selection method\" : we not getting high P value: so we can't churn the any features."
   ]
  },
  {
   "cell_type": "markdown",
   "metadata": {},
   "source": [
    "#### 13B. Feature Selection using with Backward Selection"
   ]
  },
  {
   "cell_type": "code",
   "execution_count": 82,
   "metadata": {},
   "outputs": [
    {
     "data": {
      "text/plain": [
       "Index(['Brand', 'Body', 'Mileage', 'EngineType', 'Registration', 'Price'], dtype='object')"
      ]
     },
     "execution_count": 82,
     "metadata": {},
     "output_type": "execute_result"
    }
   ],
   "source": [
    "df.columns"
   ]
  },
  {
   "cell_type": "code",
   "execution_count": 83,
   "metadata": {},
   "outputs": [
    {
     "data": {
      "text/html": [
       "<table class=\"simpletable\">\n",
       "<caption>OLS Regression Results</caption>\n",
       "<tr>\n",
       "  <th>Dep. Variable:</th>          <td>Price</td>      <th>  R-squared:         </th> <td>   0.301</td> \n",
       "</tr>\n",
       "<tr>\n",
       "  <th>Model:</th>                   <td>OLS</td>       <th>  Adj. R-squared:    </th> <td>   0.300</td> \n",
       "</tr>\n",
       "<tr>\n",
       "  <th>Method:</th>             <td>Least Squares</td>  <th>  F-statistic:       </th> <td>   187.4</td> \n",
       "</tr>\n",
       "<tr>\n",
       "  <th>Date:</th>             <td>Tue, 20 Jul 2021</td> <th>  Prob (F-statistic):</th> <td>3.02e-166</td>\n",
       "</tr>\n",
       "<tr>\n",
       "  <th>Time:</th>                 <td>15:46:48</td>     <th>  Log-Likelihood:    </th> <td> -20959.</td> \n",
       "</tr>\n",
       "<tr>\n",
       "  <th>No. Observations:</th>      <td>  2179</td>      <th>  AIC:               </th> <td>4.193e+04</td>\n",
       "</tr>\n",
       "<tr>\n",
       "  <th>Df Residuals:</th>          <td>  2173</td>      <th>  BIC:               </th> <td>4.196e+04</td>\n",
       "</tr>\n",
       "<tr>\n",
       "  <th>Df Model:</th>              <td>     5</td>      <th>                     </th>     <td> </td>    \n",
       "</tr>\n",
       "<tr>\n",
       "  <th>Covariance Type:</th>      <td>nonrobust</td>    <th>                     </th>     <td> </td>    \n",
       "</tr>\n",
       "</table>\n",
       "<table class=\"simpletable\">\n",
       "<tr>\n",
       "        <td></td>          <th>coef</th>     <th>std err</th>      <th>t</th>      <th>P>|t|</th>  <th>[0.025</th>    <th>0.975]</th>  \n",
       "</tr>\n",
       "<tr>\n",
       "  <th>Intercept</th>    <td> 8495.3985</td> <td>  411.876</td> <td>   20.626</td> <td> 0.000</td> <td> 7687.686</td> <td> 9303.111</td>\n",
       "</tr>\n",
       "<tr>\n",
       "  <th>Brand</th>        <td>    8.0296</td> <td>   40.851</td> <td>    0.197</td> <td> 0.844</td> <td>  -72.082</td> <td>   88.142</td>\n",
       "</tr>\n",
       "<tr>\n",
       "  <th>Body</th>         <td> -297.3911</td> <td>   59.478</td> <td>   -5.000</td> <td> 0.000</td> <td> -414.032</td> <td> -180.751</td>\n",
       "</tr>\n",
       "<tr>\n",
       "  <th>Mileage</th>      <td>  -16.3906</td> <td>    1.124</td> <td>  -14.587</td> <td> 0.000</td> <td>  -18.594</td> <td>  -14.187</td>\n",
       "</tr>\n",
       "<tr>\n",
       "  <th>EngineType</th>   <td> -509.6255</td> <td>   64.112</td> <td>   -7.949</td> <td> 0.000</td> <td> -635.353</td> <td> -383.898</td>\n",
       "</tr>\n",
       "<tr>\n",
       "  <th>Registration</th> <td> 5457.1256</td> <td>  254.852</td> <td>   21.413</td> <td> 0.000</td> <td> 4957.347</td> <td> 5956.904</td>\n",
       "</tr>\n",
       "</table>\n",
       "<table class=\"simpletable\">\n",
       "<tr>\n",
       "  <th>Omnibus:</th>       <td>15.543</td> <th>  Durbin-Watson:     </th> <td>   1.993</td>\n",
       "</tr>\n",
       "<tr>\n",
       "  <th>Prob(Omnibus):</th> <td> 0.000</td> <th>  Jarque-Bera (JB):  </th> <td>  16.524</td>\n",
       "</tr>\n",
       "<tr>\n",
       "  <th>Skew:</th>          <td> 0.169</td> <th>  Prob(JB):          </th> <td>0.000258</td>\n",
       "</tr>\n",
       "<tr>\n",
       "  <th>Kurtosis:</th>      <td> 3.261</td> <th>  Cond. No.          </th> <td>1.06e+03</td>\n",
       "</tr>\n",
       "</table><br/><br/>Notes:<br/>[1] Standard Errors assume that the covariance matrix of the errors is correctly specified.<br/>[2] The condition number is large, 1.06e+03. This might indicate that there are<br/>strong multicollinearity or other numerical problems."
      ],
      "text/plain": [
       "<class 'statsmodels.iolib.summary.Summary'>\n",
       "\"\"\"\n",
       "                            OLS Regression Results                            \n",
       "==============================================================================\n",
       "Dep. Variable:                  Price   R-squared:                       0.301\n",
       "Model:                            OLS   Adj. R-squared:                  0.300\n",
       "Method:                 Least Squares   F-statistic:                     187.4\n",
       "Date:                Tue, 20 Jul 2021   Prob (F-statistic):          3.02e-166\n",
       "Time:                        15:46:48   Log-Likelihood:                -20959.\n",
       "No. Observations:                2179   AIC:                         4.193e+04\n",
       "Df Residuals:                    2173   BIC:                         4.196e+04\n",
       "Df Model:                           5                                         \n",
       "Covariance Type:            nonrobust                                         \n",
       "================================================================================\n",
       "                   coef    std err          t      P>|t|      [0.025      0.975]\n",
       "--------------------------------------------------------------------------------\n",
       "Intercept     8495.3985    411.876     20.626      0.000    7687.686    9303.111\n",
       "Brand            8.0296     40.851      0.197      0.844     -72.082      88.142\n",
       "Body          -297.3911     59.478     -5.000      0.000    -414.032    -180.751\n",
       "Mileage        -16.3906      1.124    -14.587      0.000     -18.594     -14.187\n",
       "EngineType    -509.6255     64.112     -7.949      0.000    -635.353    -383.898\n",
       "Registration  5457.1256    254.852     21.413      0.000    4957.347    5956.904\n",
       "==============================================================================\n",
       "Omnibus:                       15.543   Durbin-Watson:                   1.993\n",
       "Prob(Omnibus):                  0.000   Jarque-Bera (JB):               16.524\n",
       "Skew:                           0.169   Prob(JB):                     0.000258\n",
       "Kurtosis:                       3.261   Cond. No.                     1.06e+03\n",
       "==============================================================================\n",
       "\n",
       "Notes:\n",
       "[1] Standard Errors assume that the covariance matrix of the errors is correctly specified.\n",
       "[2] The condition number is large, 1.06e+03. This might indicate that there are\n",
       "strong multicollinearity or other numerical problems.\n",
       "\"\"\""
      ]
     },
     "execution_count": 83,
     "metadata": {},
     "output_type": "execute_result"
    }
   ],
   "source": [
    "model = smf.ols(formula='Price~Brand+Body+Mileage+EngineType+Registration'.format(var),data=df).fit()\n",
    "model.summary()"
   ]
  },
  {
   "cell_type": "markdown",
   "metadata": {},
   "source": [
    "#### Note: Same response through Backward method, we are getting 33% accuracy of the R-square. (Interpretation)"
   ]
  },
  {
   "cell_type": "markdown",
   "metadata": {},
   "source": [
    "#### 14A. Explain about Assumption of errors and predictors\n"
   ]
  },
  {
   "cell_type": "markdown",
   "metadata": {},
   "source": [
    "#### Note: After follow the all valuable step like 'Pre-processing and Elimination' method model is \"33%\" accurate."
   ]
  },
  {
   "cell_type": "markdown",
   "metadata": {},
   "source": [
    "#### 14B. Perform Residual Analysis Give The Interpretations."
   ]
  },
  {
   "cell_type": "code",
   "execution_count": 84,
   "metadata": {},
   "outputs": [],
   "source": [
    "import matplotlib.pyplot as plt\n",
    "from sklearn.linear_model import LinearRegression\n",
    "reg = LinearRegression()"
   ]
  },
  {
   "cell_type": "code",
   "execution_count": 85,
   "metadata": {},
   "outputs": [
    {
     "data": {
      "text/plain": [
       "Index(['Mileage', 'EngineV', 'Price', 'Brand_0', 'Brand_1', 'Brand_2',\n",
       "       'Brand_3', 'Brand_4', 'Brand_5', 'Brand_6', 'Body_0', 'Body_1',\n",
       "       'Body_2', 'Body_3', 'Body_4', 'Body_5', 'Engine Type_0',\n",
       "       'Engine Type_1', 'Engine Type_2', 'Engine Type_3', 'Registration_0',\n",
       "       'Registration_1'],\n",
       "      dtype='object')"
      ]
     },
     "execution_count": 85,
     "metadata": {},
     "output_type": "execute_result"
    }
   ],
   "source": [
    "X.columns"
   ]
  },
  {
   "cell_type": "code",
   "execution_count": 87,
   "metadata": {},
   "outputs": [],
   "source": [
    "# shift column Name wise\n",
    "X = X[['Mileage', 'EngineV', 'Brand_0', 'Brand_1', 'Brand_2',\n",
    "       'Brand_3', 'Brand_4', 'Brand_5', 'Brand_6', 'Body_0', 'Body_1',\n",
    "       'Body_2', 'Body_3', 'Body_4', 'Body_5', 'Engine Type_0',\n",
    "       'Engine Type_1', 'Engine Type_2', 'Engine Type_3', 'Registration_0',\n",
    "       'Registration_1','Price']]"
   ]
  },
  {
   "cell_type": "code",
   "execution_count": 88,
   "metadata": {},
   "outputs": [
    {
     "data": {
      "text/plain": [
       "Index(['Mileage', 'EngineV', 'Brand_0', 'Brand_1', 'Brand_2', 'Brand_3',\n",
       "       'Brand_4', 'Brand_5', 'Brand_6', 'Body_0', 'Body_1', 'Body_2', 'Body_3',\n",
       "       'Body_4', 'Body_5', 'Engine Type_0', 'Engine Type_1', 'Engine Type_2',\n",
       "       'Engine Type_3', 'Registration_0', 'Registration_1', 'Price'],\n",
       "      dtype='object')"
      ]
     },
     "execution_count": 88,
     "metadata": {},
     "output_type": "execute_result"
    }
   ],
   "source": [
    "X.columns"
   ]
  },
  {
   "cell_type": "code",
   "execution_count": 89,
   "metadata": {},
   "outputs": [],
   "source": [
    "In = X.iloc[:,:-1]\n",
    "dep = df.iloc[:,-1]"
   ]
  },
  {
   "cell_type": "code",
   "execution_count": 90,
   "metadata": {},
   "outputs": [
    {
     "data": {
      "text/html": [
       "<div>\n",
       "<style scoped>\n",
       "    .dataframe tbody tr th:only-of-type {\n",
       "        vertical-align: middle;\n",
       "    }\n",
       "\n",
       "    .dataframe tbody tr th {\n",
       "        vertical-align: top;\n",
       "    }\n",
       "\n",
       "    .dataframe thead th {\n",
       "        text-align: right;\n",
       "    }\n",
       "</style>\n",
       "<table border=\"1\" class=\"dataframe\">\n",
       "  <thead>\n",
       "    <tr style=\"text-align: right;\">\n",
       "      <th></th>\n",
       "      <th>Mileage</th>\n",
       "      <th>EngineV</th>\n",
       "      <th>Brand_0</th>\n",
       "      <th>Brand_1</th>\n",
       "      <th>Brand_2</th>\n",
       "      <th>Brand_3</th>\n",
       "      <th>Brand_4</th>\n",
       "      <th>Brand_5</th>\n",
       "      <th>Brand_6</th>\n",
       "      <th>Body_0</th>\n",
       "      <th>...</th>\n",
       "      <th>Body_2</th>\n",
       "      <th>Body_3</th>\n",
       "      <th>Body_4</th>\n",
       "      <th>Body_5</th>\n",
       "      <th>Engine Type_0</th>\n",
       "      <th>Engine Type_1</th>\n",
       "      <th>Engine Type_2</th>\n",
       "      <th>Engine Type_3</th>\n",
       "      <th>Registration_0</th>\n",
       "      <th>Registration_1</th>\n",
       "    </tr>\n",
       "  </thead>\n",
       "  <tbody>\n",
       "    <tr>\n",
       "      <th>0</th>\n",
       "      <td>277</td>\n",
       "      <td>2.0</td>\n",
       "      <td>0</td>\n",
       "      <td>1</td>\n",
       "      <td>0</td>\n",
       "      <td>0</td>\n",
       "      <td>0</td>\n",
       "      <td>0</td>\n",
       "      <td>0</td>\n",
       "      <td>0</td>\n",
       "      <td>...</td>\n",
       "      <td>0</td>\n",
       "      <td>1</td>\n",
       "      <td>0</td>\n",
       "      <td>0</td>\n",
       "      <td>0</td>\n",
       "      <td>0</td>\n",
       "      <td>0</td>\n",
       "      <td>1</td>\n",
       "      <td>0</td>\n",
       "      <td>1</td>\n",
       "    </tr>\n",
       "    <tr>\n",
       "      <th>4</th>\n",
       "      <td>120</td>\n",
       "      <td>2.0</td>\n",
       "      <td>0</td>\n",
       "      <td>0</td>\n",
       "      <td>0</td>\n",
       "      <td>0</td>\n",
       "      <td>0</td>\n",
       "      <td>1</td>\n",
       "      <td>0</td>\n",
       "      <td>1</td>\n",
       "      <td>...</td>\n",
       "      <td>0</td>\n",
       "      <td>0</td>\n",
       "      <td>0</td>\n",
       "      <td>0</td>\n",
       "      <td>0</td>\n",
       "      <td>0</td>\n",
       "      <td>0</td>\n",
       "      <td>1</td>\n",
       "      <td>0</td>\n",
       "      <td>1</td>\n",
       "    </tr>\n",
       "    <tr>\n",
       "      <th>7</th>\n",
       "      <td>200</td>\n",
       "      <td>2.7</td>\n",
       "      <td>1</td>\n",
       "      <td>0</td>\n",
       "      <td>0</td>\n",
       "      <td>0</td>\n",
       "      <td>0</td>\n",
       "      <td>0</td>\n",
       "      <td>0</td>\n",
       "      <td>0</td>\n",
       "      <td>...</td>\n",
       "      <td>0</td>\n",
       "      <td>0</td>\n",
       "      <td>1</td>\n",
       "      <td>0</td>\n",
       "      <td>1</td>\n",
       "      <td>0</td>\n",
       "      <td>0</td>\n",
       "      <td>0</td>\n",
       "      <td>0</td>\n",
       "      <td>1</td>\n",
       "    </tr>\n",
       "    <tr>\n",
       "      <th>8</th>\n",
       "      <td>193</td>\n",
       "      <td>1.5</td>\n",
       "      <td>0</td>\n",
       "      <td>0</td>\n",
       "      <td>0</td>\n",
       "      <td>0</td>\n",
       "      <td>1</td>\n",
       "      <td>0</td>\n",
       "      <td>0</td>\n",
       "      <td>0</td>\n",
       "      <td>...</td>\n",
       "      <td>0</td>\n",
       "      <td>0</td>\n",
       "      <td>1</td>\n",
       "      <td>0</td>\n",
       "      <td>1</td>\n",
       "      <td>0</td>\n",
       "      <td>0</td>\n",
       "      <td>0</td>\n",
       "      <td>0</td>\n",
       "      <td>1</td>\n",
       "    </tr>\n",
       "    <tr>\n",
       "      <th>9</th>\n",
       "      <td>212</td>\n",
       "      <td>1.8</td>\n",
       "      <td>0</td>\n",
       "      <td>0</td>\n",
       "      <td>0</td>\n",
       "      <td>0</td>\n",
       "      <td>0</td>\n",
       "      <td>0</td>\n",
       "      <td>1</td>\n",
       "      <td>0</td>\n",
       "      <td>...</td>\n",
       "      <td>1</td>\n",
       "      <td>0</td>\n",
       "      <td>0</td>\n",
       "      <td>0</td>\n",
       "      <td>0</td>\n",
       "      <td>1</td>\n",
       "      <td>0</td>\n",
       "      <td>0</td>\n",
       "      <td>1</td>\n",
       "      <td>0</td>\n",
       "    </tr>\n",
       "    <tr>\n",
       "      <th>...</th>\n",
       "      <td>...</td>\n",
       "      <td>...</td>\n",
       "      <td>...</td>\n",
       "      <td>...</td>\n",
       "      <td>...</td>\n",
       "      <td>...</td>\n",
       "      <td>...</td>\n",
       "      <td>...</td>\n",
       "      <td>...</td>\n",
       "      <td>...</td>\n",
       "      <td>...</td>\n",
       "      <td>...</td>\n",
       "      <td>...</td>\n",
       "      <td>...</td>\n",
       "      <td>...</td>\n",
       "      <td>...</td>\n",
       "      <td>...</td>\n",
       "      <td>...</td>\n",
       "      <td>...</td>\n",
       "      <td>...</td>\n",
       "      <td>...</td>\n",
       "    </tr>\n",
       "    <tr>\n",
       "      <th>4337</th>\n",
       "      <td>152</td>\n",
       "      <td>1.6</td>\n",
       "      <td>0</td>\n",
       "      <td>0</td>\n",
       "      <td>0</td>\n",
       "      <td>0</td>\n",
       "      <td>1</td>\n",
       "      <td>0</td>\n",
       "      <td>0</td>\n",
       "      <td>0</td>\n",
       "      <td>...</td>\n",
       "      <td>0</td>\n",
       "      <td>1</td>\n",
       "      <td>0</td>\n",
       "      <td>0</td>\n",
       "      <td>0</td>\n",
       "      <td>0</td>\n",
       "      <td>0</td>\n",
       "      <td>1</td>\n",
       "      <td>0</td>\n",
       "      <td>1</td>\n",
       "    </tr>\n",
       "    <tr>\n",
       "      <th>4338</th>\n",
       "      <td>163</td>\n",
       "      <td>2.5</td>\n",
       "      <td>0</td>\n",
       "      <td>0</td>\n",
       "      <td>0</td>\n",
       "      <td>0</td>\n",
       "      <td>0</td>\n",
       "      <td>0</td>\n",
       "      <td>1</td>\n",
       "      <td>0</td>\n",
       "      <td>...</td>\n",
       "      <td>0</td>\n",
       "      <td>0</td>\n",
       "      <td>0</td>\n",
       "      <td>1</td>\n",
       "      <td>1</td>\n",
       "      <td>0</td>\n",
       "      <td>0</td>\n",
       "      <td>0</td>\n",
       "      <td>0</td>\n",
       "      <td>1</td>\n",
       "    </tr>\n",
       "    <tr>\n",
       "      <th>4339</th>\n",
       "      <td>35</td>\n",
       "      <td>1.6</td>\n",
       "      <td>0</td>\n",
       "      <td>0</td>\n",
       "      <td>0</td>\n",
       "      <td>0</td>\n",
       "      <td>0</td>\n",
       "      <td>1</td>\n",
       "      <td>0</td>\n",
       "      <td>0</td>\n",
       "      <td>...</td>\n",
       "      <td>0</td>\n",
       "      <td>1</td>\n",
       "      <td>0</td>\n",
       "      <td>0</td>\n",
       "      <td>0</td>\n",
       "      <td>0</td>\n",
       "      <td>0</td>\n",
       "      <td>1</td>\n",
       "      <td>0</td>\n",
       "      <td>1</td>\n",
       "    </tr>\n",
       "    <tr>\n",
       "      <th>4342</th>\n",
       "      <td>194</td>\n",
       "      <td>2.0</td>\n",
       "      <td>0</td>\n",
       "      <td>1</td>\n",
       "      <td>0</td>\n",
       "      <td>0</td>\n",
       "      <td>0</td>\n",
       "      <td>0</td>\n",
       "      <td>0</td>\n",
       "      <td>0</td>\n",
       "      <td>...</td>\n",
       "      <td>0</td>\n",
       "      <td>1</td>\n",
       "      <td>0</td>\n",
       "      <td>0</td>\n",
       "      <td>0</td>\n",
       "      <td>0</td>\n",
       "      <td>0</td>\n",
       "      <td>1</td>\n",
       "      <td>0</td>\n",
       "      <td>1</td>\n",
       "    </tr>\n",
       "    <tr>\n",
       "      <th>4344</th>\n",
       "      <td>124</td>\n",
       "      <td>2.0</td>\n",
       "      <td>0</td>\n",
       "      <td>0</td>\n",
       "      <td>0</td>\n",
       "      <td>0</td>\n",
       "      <td>0</td>\n",
       "      <td>0</td>\n",
       "      <td>1</td>\n",
       "      <td>0</td>\n",
       "      <td>...</td>\n",
       "      <td>0</td>\n",
       "      <td>0</td>\n",
       "      <td>0</td>\n",
       "      <td>1</td>\n",
       "      <td>1</td>\n",
       "      <td>0</td>\n",
       "      <td>0</td>\n",
       "      <td>0</td>\n",
       "      <td>0</td>\n",
       "      <td>1</td>\n",
       "    </tr>\n",
       "  </tbody>\n",
       "</table>\n",
       "<p>2179 rows × 21 columns</p>\n",
       "</div>"
      ],
      "text/plain": [
       "      Mileage  EngineV  Brand_0  Brand_1  Brand_2  Brand_3  Brand_4  Brand_5  \\\n",
       "0         277      2.0        0        1        0        0        0        0   \n",
       "4         120      2.0        0        0        0        0        0        1   \n",
       "7         200      2.7        1        0        0        0        0        0   \n",
       "8         193      1.5        0        0        0        0        1        0   \n",
       "9         212      1.8        0        0        0        0        0        0   \n",
       "...       ...      ...      ...      ...      ...      ...      ...      ...   \n",
       "4337      152      1.6        0        0        0        0        1        0   \n",
       "4338      163      2.5        0        0        0        0        0        0   \n",
       "4339       35      1.6        0        0        0        0        0        1   \n",
       "4342      194      2.0        0        1        0        0        0        0   \n",
       "4344      124      2.0        0        0        0        0        0        0   \n",
       "\n",
       "      Brand_6  Body_0  ...  Body_2  Body_3  Body_4  Body_5  Engine Type_0  \\\n",
       "0           0       0  ...       0       1       0       0              0   \n",
       "4           0       1  ...       0       0       0       0              0   \n",
       "7           0       0  ...       0       0       1       0              1   \n",
       "8           0       0  ...       0       0       1       0              1   \n",
       "9           1       0  ...       1       0       0       0              0   \n",
       "...       ...     ...  ...     ...     ...     ...     ...            ...   \n",
       "4337        0       0  ...       0       1       0       0              0   \n",
       "4338        1       0  ...       0       0       0       1              1   \n",
       "4339        0       0  ...       0       1       0       0              0   \n",
       "4342        0       0  ...       0       1       0       0              0   \n",
       "4344        1       0  ...       0       0       0       1              1   \n",
       "\n",
       "      Engine Type_1  Engine Type_2  Engine Type_3  Registration_0  \\\n",
       "0                 0              0              1               0   \n",
       "4                 0              0              1               0   \n",
       "7                 0              0              0               0   \n",
       "8                 0              0              0               0   \n",
       "9                 1              0              0               1   \n",
       "...             ...            ...            ...             ...   \n",
       "4337              0              0              1               0   \n",
       "4338              0              0              0               0   \n",
       "4339              0              0              1               0   \n",
       "4342              0              0              1               0   \n",
       "4344              0              0              0               0   \n",
       "\n",
       "      Registration_1  \n",
       "0                  1  \n",
       "4                  1  \n",
       "7                  1  \n",
       "8                  1  \n",
       "9                  0  \n",
       "...              ...  \n",
       "4337               1  \n",
       "4338               1  \n",
       "4339               1  \n",
       "4342               1  \n",
       "4344               1  \n",
       "\n",
       "[2179 rows x 21 columns]"
      ]
     },
     "execution_count": 90,
     "metadata": {},
     "output_type": "execute_result"
    }
   ],
   "source": [
    "In"
   ]
  },
  {
   "cell_type": "code",
   "execution_count": 91,
   "metadata": {},
   "outputs": [
    {
     "data": {
      "text/plain": [
       "0        4200.0\n",
       "4       18300.0\n",
       "7       14200.0\n",
       "8       10799.0\n",
       "9        1400.0\n",
       "         ...   \n",
       "4337     6800.0\n",
       "4338    11500.0\n",
       "4339    17900.0\n",
       "4342     8000.0\n",
       "4344    13500.0\n",
       "Name: Price, Length: 2179, dtype: float64"
      ]
     },
     "execution_count": 91,
     "metadata": {},
     "output_type": "execute_result"
    }
   ],
   "source": [
    "dep"
   ]
  },
  {
   "cell_type": "code",
   "execution_count": 92,
   "metadata": {},
   "outputs": [
    {
     "data": {
      "text/plain": [
       "LinearRegression()"
      ]
     },
     "execution_count": 92,
     "metadata": {},
     "output_type": "execute_result"
    }
   ],
   "source": [
    "reg.fit(In,dep)"
   ]
  },
  {
   "cell_type": "code",
   "execution_count": 93,
   "metadata": {},
   "outputs": [
    {
     "data": {
      "text/plain": [
       "array([ 7155.33059656, 14899.87543054, 11209.65294859, ...,\n",
       "       12791.15072384,  8882.8336147 , 11707.01205918])"
      ]
     },
     "execution_count": 93,
     "metadata": {},
     "output_type": "execute_result"
    }
   ],
   "source": [
    "reg.predict(In)"
   ]
  },
  {
   "cell_type": "code",
   "execution_count": 94,
   "metadata": {},
   "outputs": [
    {
     "data": {
      "text/plain": [
       "array([  -20.81328938,  1046.85448298,   174.83551333,   478.80477614,\n",
       "         834.0037311 , -1605.75734152, -1844.89139821,  1496.55066784,\n",
       "         466.45405132,  2854.41404363, -1669.88152391,   171.0001521 ,\n",
       "        -604.69846676,   -53.78146162,  -697.05274344,  1023.18761069,\n",
       "        -846.06346946,   271.64143782,  -448.76557904, -2905.22152281,\n",
       "        2905.22152281])"
      ]
     },
     "execution_count": 94,
     "metadata": {},
     "output_type": "execute_result"
    }
   ],
   "source": [
    "reg.coef_"
   ]
  },
  {
   "cell_type": "code",
   "execution_count": 95,
   "metadata": {},
   "outputs": [
    {
     "data": {
      "text/plain": [
       "8496.340534356968"
      ]
     },
     "execution_count": 95,
     "metadata": {},
     "output_type": "execute_result"
    }
   ],
   "source": [
    "reg.intercept_"
   ]
  },
  {
   "cell_type": "code",
   "execution_count": 96,
   "metadata": {},
   "outputs": [
    {
     "data": {
      "text/plain": [
       "(2179, 21)"
      ]
     },
     "execution_count": 96,
     "metadata": {},
     "output_type": "execute_result"
    }
   ],
   "source": [
    "In.shape"
   ]
  },
  {
   "cell_type": "code",
   "execution_count": 97,
   "metadata": {},
   "outputs": [
    {
     "data": {
      "text/plain": [
       "(2179,)"
      ]
     },
     "execution_count": 97,
     "metadata": {},
     "output_type": "execute_result"
    }
   ],
   "source": [
    "dep.shape"
   ]
  },
  {
   "cell_type": "code",
   "execution_count": 98,
   "metadata": {},
   "outputs": [],
   "source": [
    "#Intepretations"
   ]
  },
  {
   "cell_type": "markdown",
   "metadata": {},
   "source": [
    "#### 15A. Split The Dataset into Train and Test (80:20) using Sklearn"
   ]
  },
  {
   "cell_type": "code",
   "execution_count": 99,
   "metadata": {},
   "outputs": [],
   "source": [
    "from sklearn.model_selection import train_test_split"
   ]
  },
  {
   "cell_type": "code",
   "execution_count": 100,
   "metadata": {},
   "outputs": [
    {
     "data": {
      "text/html": [
       "<div>\n",
       "<style scoped>\n",
       "    .dataframe tbody tr th:only-of-type {\n",
       "        vertical-align: middle;\n",
       "    }\n",
       "\n",
       "    .dataframe tbody tr th {\n",
       "        vertical-align: top;\n",
       "    }\n",
       "\n",
       "    .dataframe thead th {\n",
       "        text-align: right;\n",
       "    }\n",
       "</style>\n",
       "<table border=\"1\" class=\"dataframe\">\n",
       "  <thead>\n",
       "    <tr style=\"text-align: right;\">\n",
       "      <th></th>\n",
       "      <th>Mileage</th>\n",
       "      <th>EngineV</th>\n",
       "      <th>Brand_0</th>\n",
       "      <th>Brand_1</th>\n",
       "      <th>Brand_2</th>\n",
       "      <th>Brand_3</th>\n",
       "      <th>Brand_4</th>\n",
       "      <th>Brand_5</th>\n",
       "      <th>Brand_6</th>\n",
       "      <th>Body_0</th>\n",
       "      <th>...</th>\n",
       "      <th>Body_3</th>\n",
       "      <th>Body_4</th>\n",
       "      <th>Body_5</th>\n",
       "      <th>Engine Type_0</th>\n",
       "      <th>Engine Type_1</th>\n",
       "      <th>Engine Type_2</th>\n",
       "      <th>Engine Type_3</th>\n",
       "      <th>Registration_0</th>\n",
       "      <th>Registration_1</th>\n",
       "      <th>Price</th>\n",
       "    </tr>\n",
       "  </thead>\n",
       "  <tbody>\n",
       "    <tr>\n",
       "      <th>0</th>\n",
       "      <td>277</td>\n",
       "      <td>2.0</td>\n",
       "      <td>0</td>\n",
       "      <td>1</td>\n",
       "      <td>0</td>\n",
       "      <td>0</td>\n",
       "      <td>0</td>\n",
       "      <td>0</td>\n",
       "      <td>0</td>\n",
       "      <td>0</td>\n",
       "      <td>...</td>\n",
       "      <td>1</td>\n",
       "      <td>0</td>\n",
       "      <td>0</td>\n",
       "      <td>0</td>\n",
       "      <td>0</td>\n",
       "      <td>0</td>\n",
       "      <td>1</td>\n",
       "      <td>0</td>\n",
       "      <td>1</td>\n",
       "      <td>4200.0</td>\n",
       "    </tr>\n",
       "    <tr>\n",
       "      <th>4</th>\n",
       "      <td>120</td>\n",
       "      <td>2.0</td>\n",
       "      <td>0</td>\n",
       "      <td>0</td>\n",
       "      <td>0</td>\n",
       "      <td>0</td>\n",
       "      <td>0</td>\n",
       "      <td>1</td>\n",
       "      <td>0</td>\n",
       "      <td>1</td>\n",
       "      <td>...</td>\n",
       "      <td>0</td>\n",
       "      <td>0</td>\n",
       "      <td>0</td>\n",
       "      <td>0</td>\n",
       "      <td>0</td>\n",
       "      <td>0</td>\n",
       "      <td>1</td>\n",
       "      <td>0</td>\n",
       "      <td>1</td>\n",
       "      <td>18300.0</td>\n",
       "    </tr>\n",
       "  </tbody>\n",
       "</table>\n",
       "<p>2 rows × 22 columns</p>\n",
       "</div>"
      ],
      "text/plain": [
       "   Mileage  EngineV  Brand_0  Brand_1  Brand_2  Brand_3  Brand_4  Brand_5  \\\n",
       "0      277      2.0        0        1        0        0        0        0   \n",
       "4      120      2.0        0        0        0        0        0        1   \n",
       "\n",
       "   Brand_6  Body_0  ...  Body_3  Body_4  Body_5  Engine Type_0  Engine Type_1  \\\n",
       "0        0       0  ...       1       0       0              0              0   \n",
       "4        0       1  ...       0       0       0              0              0   \n",
       "\n",
       "   Engine Type_2  Engine Type_3  Registration_0  Registration_1    Price  \n",
       "0              0              1               0               1   4200.0  \n",
       "4              0              1               0               1  18300.0  \n",
       "\n",
       "[2 rows x 22 columns]"
      ]
     },
     "execution_count": 100,
     "metadata": {},
     "output_type": "execute_result"
    }
   ],
   "source": [
    "X.head(2)"
   ]
  },
  {
   "cell_type": "code",
   "execution_count": 101,
   "metadata": {},
   "outputs": [],
   "source": [
    "In = X.iloc[:,:-1]\n",
    "dep = X.iloc[:,-1]"
   ]
  },
  {
   "cell_type": "code",
   "execution_count": 102,
   "metadata": {},
   "outputs": [
    {
     "data": {
      "text/html": [
       "<div>\n",
       "<style scoped>\n",
       "    .dataframe tbody tr th:only-of-type {\n",
       "        vertical-align: middle;\n",
       "    }\n",
       "\n",
       "    .dataframe tbody tr th {\n",
       "        vertical-align: top;\n",
       "    }\n",
       "\n",
       "    .dataframe thead th {\n",
       "        text-align: right;\n",
       "    }\n",
       "</style>\n",
       "<table border=\"1\" class=\"dataframe\">\n",
       "  <thead>\n",
       "    <tr style=\"text-align: right;\">\n",
       "      <th></th>\n",
       "      <th>Mileage</th>\n",
       "      <th>EngineV</th>\n",
       "      <th>Brand_0</th>\n",
       "      <th>Brand_1</th>\n",
       "      <th>Brand_2</th>\n",
       "      <th>Brand_3</th>\n",
       "      <th>Brand_4</th>\n",
       "      <th>Brand_5</th>\n",
       "      <th>Brand_6</th>\n",
       "      <th>Body_0</th>\n",
       "      <th>...</th>\n",
       "      <th>Body_2</th>\n",
       "      <th>Body_3</th>\n",
       "      <th>Body_4</th>\n",
       "      <th>Body_5</th>\n",
       "      <th>Engine Type_0</th>\n",
       "      <th>Engine Type_1</th>\n",
       "      <th>Engine Type_2</th>\n",
       "      <th>Engine Type_3</th>\n",
       "      <th>Registration_0</th>\n",
       "      <th>Registration_1</th>\n",
       "    </tr>\n",
       "  </thead>\n",
       "  <tbody>\n",
       "    <tr>\n",
       "      <th>0</th>\n",
       "      <td>277</td>\n",
       "      <td>2.0</td>\n",
       "      <td>0</td>\n",
       "      <td>1</td>\n",
       "      <td>0</td>\n",
       "      <td>0</td>\n",
       "      <td>0</td>\n",
       "      <td>0</td>\n",
       "      <td>0</td>\n",
       "      <td>0</td>\n",
       "      <td>...</td>\n",
       "      <td>0</td>\n",
       "      <td>1</td>\n",
       "      <td>0</td>\n",
       "      <td>0</td>\n",
       "      <td>0</td>\n",
       "      <td>0</td>\n",
       "      <td>0</td>\n",
       "      <td>1</td>\n",
       "      <td>0</td>\n",
       "      <td>1</td>\n",
       "    </tr>\n",
       "    <tr>\n",
       "      <th>4</th>\n",
       "      <td>120</td>\n",
       "      <td>2.0</td>\n",
       "      <td>0</td>\n",
       "      <td>0</td>\n",
       "      <td>0</td>\n",
       "      <td>0</td>\n",
       "      <td>0</td>\n",
       "      <td>1</td>\n",
       "      <td>0</td>\n",
       "      <td>1</td>\n",
       "      <td>...</td>\n",
       "      <td>0</td>\n",
       "      <td>0</td>\n",
       "      <td>0</td>\n",
       "      <td>0</td>\n",
       "      <td>0</td>\n",
       "      <td>0</td>\n",
       "      <td>0</td>\n",
       "      <td>1</td>\n",
       "      <td>0</td>\n",
       "      <td>1</td>\n",
       "    </tr>\n",
       "    <tr>\n",
       "      <th>7</th>\n",
       "      <td>200</td>\n",
       "      <td>2.7</td>\n",
       "      <td>1</td>\n",
       "      <td>0</td>\n",
       "      <td>0</td>\n",
       "      <td>0</td>\n",
       "      <td>0</td>\n",
       "      <td>0</td>\n",
       "      <td>0</td>\n",
       "      <td>0</td>\n",
       "      <td>...</td>\n",
       "      <td>0</td>\n",
       "      <td>0</td>\n",
       "      <td>1</td>\n",
       "      <td>0</td>\n",
       "      <td>1</td>\n",
       "      <td>0</td>\n",
       "      <td>0</td>\n",
       "      <td>0</td>\n",
       "      <td>0</td>\n",
       "      <td>1</td>\n",
       "    </tr>\n",
       "    <tr>\n",
       "      <th>8</th>\n",
       "      <td>193</td>\n",
       "      <td>1.5</td>\n",
       "      <td>0</td>\n",
       "      <td>0</td>\n",
       "      <td>0</td>\n",
       "      <td>0</td>\n",
       "      <td>1</td>\n",
       "      <td>0</td>\n",
       "      <td>0</td>\n",
       "      <td>0</td>\n",
       "      <td>...</td>\n",
       "      <td>0</td>\n",
       "      <td>0</td>\n",
       "      <td>1</td>\n",
       "      <td>0</td>\n",
       "      <td>1</td>\n",
       "      <td>0</td>\n",
       "      <td>0</td>\n",
       "      <td>0</td>\n",
       "      <td>0</td>\n",
       "      <td>1</td>\n",
       "    </tr>\n",
       "    <tr>\n",
       "      <th>9</th>\n",
       "      <td>212</td>\n",
       "      <td>1.8</td>\n",
       "      <td>0</td>\n",
       "      <td>0</td>\n",
       "      <td>0</td>\n",
       "      <td>0</td>\n",
       "      <td>0</td>\n",
       "      <td>0</td>\n",
       "      <td>1</td>\n",
       "      <td>0</td>\n",
       "      <td>...</td>\n",
       "      <td>1</td>\n",
       "      <td>0</td>\n",
       "      <td>0</td>\n",
       "      <td>0</td>\n",
       "      <td>0</td>\n",
       "      <td>1</td>\n",
       "      <td>0</td>\n",
       "      <td>0</td>\n",
       "      <td>1</td>\n",
       "      <td>0</td>\n",
       "    </tr>\n",
       "    <tr>\n",
       "      <th>...</th>\n",
       "      <td>...</td>\n",
       "      <td>...</td>\n",
       "      <td>...</td>\n",
       "      <td>...</td>\n",
       "      <td>...</td>\n",
       "      <td>...</td>\n",
       "      <td>...</td>\n",
       "      <td>...</td>\n",
       "      <td>...</td>\n",
       "      <td>...</td>\n",
       "      <td>...</td>\n",
       "      <td>...</td>\n",
       "      <td>...</td>\n",
       "      <td>...</td>\n",
       "      <td>...</td>\n",
       "      <td>...</td>\n",
       "      <td>...</td>\n",
       "      <td>...</td>\n",
       "      <td>...</td>\n",
       "      <td>...</td>\n",
       "      <td>...</td>\n",
       "    </tr>\n",
       "    <tr>\n",
       "      <th>4337</th>\n",
       "      <td>152</td>\n",
       "      <td>1.6</td>\n",
       "      <td>0</td>\n",
       "      <td>0</td>\n",
       "      <td>0</td>\n",
       "      <td>0</td>\n",
       "      <td>1</td>\n",
       "      <td>0</td>\n",
       "      <td>0</td>\n",
       "      <td>0</td>\n",
       "      <td>...</td>\n",
       "      <td>0</td>\n",
       "      <td>1</td>\n",
       "      <td>0</td>\n",
       "      <td>0</td>\n",
       "      <td>0</td>\n",
       "      <td>0</td>\n",
       "      <td>0</td>\n",
       "      <td>1</td>\n",
       "      <td>0</td>\n",
       "      <td>1</td>\n",
       "    </tr>\n",
       "    <tr>\n",
       "      <th>4338</th>\n",
       "      <td>163</td>\n",
       "      <td>2.5</td>\n",
       "      <td>0</td>\n",
       "      <td>0</td>\n",
       "      <td>0</td>\n",
       "      <td>0</td>\n",
       "      <td>0</td>\n",
       "      <td>0</td>\n",
       "      <td>1</td>\n",
       "      <td>0</td>\n",
       "      <td>...</td>\n",
       "      <td>0</td>\n",
       "      <td>0</td>\n",
       "      <td>0</td>\n",
       "      <td>1</td>\n",
       "      <td>1</td>\n",
       "      <td>0</td>\n",
       "      <td>0</td>\n",
       "      <td>0</td>\n",
       "      <td>0</td>\n",
       "      <td>1</td>\n",
       "    </tr>\n",
       "    <tr>\n",
       "      <th>4339</th>\n",
       "      <td>35</td>\n",
       "      <td>1.6</td>\n",
       "      <td>0</td>\n",
       "      <td>0</td>\n",
       "      <td>0</td>\n",
       "      <td>0</td>\n",
       "      <td>0</td>\n",
       "      <td>1</td>\n",
       "      <td>0</td>\n",
       "      <td>0</td>\n",
       "      <td>...</td>\n",
       "      <td>0</td>\n",
       "      <td>1</td>\n",
       "      <td>0</td>\n",
       "      <td>0</td>\n",
       "      <td>0</td>\n",
       "      <td>0</td>\n",
       "      <td>0</td>\n",
       "      <td>1</td>\n",
       "      <td>0</td>\n",
       "      <td>1</td>\n",
       "    </tr>\n",
       "    <tr>\n",
       "      <th>4342</th>\n",
       "      <td>194</td>\n",
       "      <td>2.0</td>\n",
       "      <td>0</td>\n",
       "      <td>1</td>\n",
       "      <td>0</td>\n",
       "      <td>0</td>\n",
       "      <td>0</td>\n",
       "      <td>0</td>\n",
       "      <td>0</td>\n",
       "      <td>0</td>\n",
       "      <td>...</td>\n",
       "      <td>0</td>\n",
       "      <td>1</td>\n",
       "      <td>0</td>\n",
       "      <td>0</td>\n",
       "      <td>0</td>\n",
       "      <td>0</td>\n",
       "      <td>0</td>\n",
       "      <td>1</td>\n",
       "      <td>0</td>\n",
       "      <td>1</td>\n",
       "    </tr>\n",
       "    <tr>\n",
       "      <th>4344</th>\n",
       "      <td>124</td>\n",
       "      <td>2.0</td>\n",
       "      <td>0</td>\n",
       "      <td>0</td>\n",
       "      <td>0</td>\n",
       "      <td>0</td>\n",
       "      <td>0</td>\n",
       "      <td>0</td>\n",
       "      <td>1</td>\n",
       "      <td>0</td>\n",
       "      <td>...</td>\n",
       "      <td>0</td>\n",
       "      <td>0</td>\n",
       "      <td>0</td>\n",
       "      <td>1</td>\n",
       "      <td>1</td>\n",
       "      <td>0</td>\n",
       "      <td>0</td>\n",
       "      <td>0</td>\n",
       "      <td>0</td>\n",
       "      <td>1</td>\n",
       "    </tr>\n",
       "  </tbody>\n",
       "</table>\n",
       "<p>2179 rows × 21 columns</p>\n",
       "</div>"
      ],
      "text/plain": [
       "      Mileage  EngineV  Brand_0  Brand_1  Brand_2  Brand_3  Brand_4  Brand_5  \\\n",
       "0         277      2.0        0        1        0        0        0        0   \n",
       "4         120      2.0        0        0        0        0        0        1   \n",
       "7         200      2.7        1        0        0        0        0        0   \n",
       "8         193      1.5        0        0        0        0        1        0   \n",
       "9         212      1.8        0        0        0        0        0        0   \n",
       "...       ...      ...      ...      ...      ...      ...      ...      ...   \n",
       "4337      152      1.6        0        0        0        0        1        0   \n",
       "4338      163      2.5        0        0        0        0        0        0   \n",
       "4339       35      1.6        0        0        0        0        0        1   \n",
       "4342      194      2.0        0        1        0        0        0        0   \n",
       "4344      124      2.0        0        0        0        0        0        0   \n",
       "\n",
       "      Brand_6  Body_0  ...  Body_2  Body_3  Body_4  Body_5  Engine Type_0  \\\n",
       "0           0       0  ...       0       1       0       0              0   \n",
       "4           0       1  ...       0       0       0       0              0   \n",
       "7           0       0  ...       0       0       1       0              1   \n",
       "8           0       0  ...       0       0       1       0              1   \n",
       "9           1       0  ...       1       0       0       0              0   \n",
       "...       ...     ...  ...     ...     ...     ...     ...            ...   \n",
       "4337        0       0  ...       0       1       0       0              0   \n",
       "4338        1       0  ...       0       0       0       1              1   \n",
       "4339        0       0  ...       0       1       0       0              0   \n",
       "4342        0       0  ...       0       1       0       0              0   \n",
       "4344        1       0  ...       0       0       0       1              1   \n",
       "\n",
       "      Engine Type_1  Engine Type_2  Engine Type_3  Registration_0  \\\n",
       "0                 0              0              1               0   \n",
       "4                 0              0              1               0   \n",
       "7                 0              0              0               0   \n",
       "8                 0              0              0               0   \n",
       "9                 1              0              0               1   \n",
       "...             ...            ...            ...             ...   \n",
       "4337              0              0              1               0   \n",
       "4338              0              0              0               0   \n",
       "4339              0              0              1               0   \n",
       "4342              0              0              1               0   \n",
       "4344              0              0              0               0   \n",
       "\n",
       "      Registration_1  \n",
       "0                  1  \n",
       "4                  1  \n",
       "7                  1  \n",
       "8                  1  \n",
       "9                  0  \n",
       "...              ...  \n",
       "4337               1  \n",
       "4338               1  \n",
       "4339               1  \n",
       "4342               1  \n",
       "4344               1  \n",
       "\n",
       "[2179 rows x 21 columns]"
      ]
     },
     "execution_count": 102,
     "metadata": {},
     "output_type": "execute_result"
    }
   ],
   "source": [
    "In"
   ]
  },
  {
   "cell_type": "code",
   "execution_count": 103,
   "metadata": {},
   "outputs": [
    {
     "data": {
      "text/plain": [
       "0        4200.0\n",
       "4       18300.0\n",
       "7       14200.0\n",
       "8       10799.0\n",
       "9        1400.0\n",
       "         ...   \n",
       "4337     6800.0\n",
       "4338    11500.0\n",
       "4339    17900.0\n",
       "4342     8000.0\n",
       "4344    13500.0\n",
       "Name: Price, Length: 2179, dtype: float64"
      ]
     },
     "execution_count": 103,
     "metadata": {},
     "output_type": "execute_result"
    }
   ],
   "source": [
    "dep"
   ]
  },
  {
   "cell_type": "code",
   "execution_count": 104,
   "metadata": {},
   "outputs": [],
   "source": [
    "X_train,X_test,y_train,y_test = train_test_split(In,dep,test_size=0.2)"
   ]
  },
  {
   "cell_type": "code",
   "execution_count": 105,
   "metadata": {},
   "outputs": [
    {
     "name": "stdout",
     "output_type": "stream",
     "text": [
      "2179 1743 436\n"
     ]
    }
   ],
   "source": [
    "print(len(In) , len(X_train), len(X_test))"
   ]
  },
  {
   "cell_type": "markdown",
   "metadata": {},
   "source": [
    "#### 15B. Perform the Linear Regression Model fit using Sklearn."
   ]
  },
  {
   "cell_type": "code",
   "execution_count": 106,
   "metadata": {},
   "outputs": [],
   "source": [
    "from sklearn.linear_model import LinearRegression\n",
    "reg = LinearRegression()"
   ]
  },
  {
   "cell_type": "code",
   "execution_count": 107,
   "metadata": {},
   "outputs": [
    {
     "data": {
      "text/plain": [
       "LinearRegression()"
      ]
     },
     "execution_count": 107,
     "metadata": {},
     "output_type": "execute_result"
    }
   ],
   "source": [
    "reg.fit(X_train,y_train)"
   ]
  },
  {
   "cell_type": "code",
   "execution_count": 108,
   "metadata": {},
   "outputs": [],
   "source": [
    "y_pred = reg.predict(X_test)"
   ]
  },
  {
   "cell_type": "code",
   "execution_count": 109,
   "metadata": {},
   "outputs": [
    {
     "name": "stdout",
     "output_type": "stream",
     "text": [
      "Y_test , X_test_predict , Error/Resdual\n",
      "4600.0 11520.127207645422 -6920.1272076454225\n",
      "10300.0 11119.287306573122 -819.2873065731219\n",
      "3900.0 1601.304510427307 2298.695489572693\n",
      "2650.0 3758.668241176254 -1108.668241176254\n",
      "6900.0 8823.575985834766 -1923.5759858347665\n",
      "2900.0 2982.1968436117304 -82.1968436117304\n",
      "13000.0 9209.944263294321 3790.055736705679\n",
      "11000.0 8716.488229700011 2283.5117702999887\n",
      "3000.0 3332.0937660998716 -332.0937660998716\n",
      "6950.0 6247.739982902811 702.2600170971891\n",
      "7400.0 8141.516426884524 -741.5164268845238\n",
      "9950.0 9430.875670618872 519.1243293811276\n",
      "8800.0 10791.32200818598 -1991.32200818598\n",
      "7500.0 8415.74216968933 -915.7421696893307\n",
      "3300.0 4923.085508686682 -1623.0855086866823\n",
      "7000.0 7592.986313242286 -592.9863132422861\n",
      "8800.0 8114.027101820032 685.9728981799681\n",
      "2999.0 6228.026358097684 -3229.0263580976844\n",
      "9700.0 8507.629437457445 1192.3705625425555\n",
      "15800.0 11865.36347495174 3934.6365250482595\n",
      "2500.0 11915.106631887393 -9415.106631887393\n",
      "12900.0 11520.474340943088 1379.5256590569115\n",
      "3500.0 4644.616951590658 -1144.6169515906577\n",
      "4700.0 13231.946242372605 -8531.946242372605\n",
      "11000.0 7837.687825430974 3162.312174569026\n",
      "10900.0 8955.4354826238 1944.5645173762005\n",
      "1500.0 1612.443941102846 -112.44394110284611\n",
      "1852.5 9296.520964553472 -7444.020964553472\n",
      "4900.0 2555.892975035281 2344.107024964719\n",
      "15200.0 8379.391780931403 6820.6082190685975\n",
      "14900.0 10211.490737101169 4688.509262898831\n",
      "10600.0 13299.729168554964 -2699.7291685549644\n",
      "7450.0 8828.411842599897 -1378.4118425998968\n",
      "6900.0 9043.877679178837 -2143.877679178837\n",
      "3600.0 4026.0086107437355 -426.0086107437355\n",
      "6500.0 6635.890176885285 -135.89017688528475\n",
      "16900.0 12169.413718304171 4730.586281695829\n",
      "9000.0 11543.818102652715 -2543.8181026527145\n",
      "8650.0 8248.381807885431 401.61819211456896\n",
      "2500.0 2492.3204110543156 7.6795889456843724\n",
      "8900.0 10778.119255626614 -1878.1192556266142\n",
      "3300.0 8623.776003400142 -5323.776003400142\n",
      "4999.0 7139.99098339433 -2140.99098339433\n",
      "9600.0 9216.909335547696 383.0906644523038\n",
      "4500.0 5091.661322803042 -591.6613228030419\n",
      "8600.0 9345.510178031302 -745.5101780313016\n",
      "7199.0 9215.691326450393 -2016.6913264503928\n",
      "7650.0 9568.073343036 -1918.0733430359996\n",
      "10200.0 10746.702737020769 -546.7027370207688\n",
      "15000.0 9349.454906816227 5650.545093183773\n",
      "12500.0 10069.019422159057 2430.9805778409427\n",
      "1550.0 367.78523468631283 1182.2147653136872\n",
      "17500.0 9260.887205878149 8239.112794121851\n",
      "10500.0 11690.999898487846 -1190.9998984878457\n",
      "6400.0 8931.487113833364 -2531.4871138333638\n",
      "10500.0 8480.241834929337 2019.7581650706634\n",
      "6999.0 7591.781359560047 -592.7813595600473\n",
      "6500.0 5744.942389030056 755.0576109699441\n",
      "7200.0 8606.630525879751 -1406.630525879751\n",
      "14600.0 10500.978968006839 4099.021031993161\n",
      "12999.0 10166.450666522967 2832.5493334770326\n",
      "9600.0 8164.212532770052 1435.7874672299477\n",
      "17999.0 9576.483766233423 8422.516233766577\n",
      "4300.0 6592.710036030616 -2292.710036030616\n",
      "13300.0 12380.69425643425 919.3057435657502\n",
      "8900.0 9200.330265599168 -300.33026559916834\n",
      "9999.0 12435.968925207017 -2436.9689252070166\n",
      "8600.0 9210.521410900132 -610.5214109001317\n",
      "18500.0 11332.761943480387 7167.238056519613\n",
      "4500.0 11438.195476467437 -6938.195476467437\n",
      "8500.0 7558.187970535961 941.8120294640394\n",
      "4200.0 12335.371248985095 -8135.371248985095\n",
      "2450.0 7416.552295068447 -4966.552295068447\n",
      "4800.0 4641.367869060368 158.63213093963168\n",
      "6700.0 8670.237059315652 -1970.237059315652\n",
      "3300.0 5991.527585550997 -2691.527585550997\n",
      "8000.0 10503.705388289156 -2503.705388289156\n",
      "12300.0 10238.824430688554 2061.1755693114465\n",
      "3100.0 9070.205359250216 -5970.205359250216\n",
      "11000.0 9791.482650366775 1208.5173496332245\n",
      "9800.0 9993.801899568285 -193.80189956828508\n",
      "12800.0 10358.072494904995 2441.9275050950055\n",
      "6999.0 8583.193605603665 -1584.1936056036648\n",
      "16030.0 12324.792808892402 3705.207191107598\n",
      "5500.0 4585.005709490453 914.9942905095468\n",
      "11500.0 10038.34446784706 1461.6555321529395\n",
      "9000.0 9410.624750817526 -410.62475081752564\n",
      "11100.0 8695.24071906269 2404.759280937311\n",
      "10396.23 10278.754846896427 117.47515310357267\n",
      "8300.0 10437.818849312025 -2137.818849312025\n",
      "6999.0 7776.018323857825 -777.0183238578247\n",
      "5700.0 6149.912254366394 -449.91225436639434\n",
      "1800.0 3125.0941088173886 -1325.0941088173886\n",
      "9300.0 11747.972495980286 -2447.972495980286\n",
      "14500.0 9497.68103123779 5002.318968762211\n",
      "7300.0 10715.977852140193 -3415.977852140193\n",
      "2500.0 3070.6718119495254 -570.6718119495254\n",
      "3700.0 8826.744560793059 -5126.744560793059\n",
      "6150.0 6689.990999882204 -539.990999882204\n",
      "12300.0 10640.341343420449 1659.6586565795515\n",
      "12700.0 10504.757529991468 2195.242470008532\n",
      "8350.0 13964.938597565368 -5614.938597565368\n",
      "4500.0 3503.8844257195587 996.1155742804413\n",
      "3200.0 8241.745326575372 -5041.745326575372\n",
      "2750.0 2963.5713891998694 -213.57138919986937\n",
      "15820.35 11451.679721437262 4368.6702785627385\n",
      "5700.0 9221.319593505874 -3521.319593505874\n",
      "9800.0 12439.733632021555 -2639.7336320215545\n",
      "6450.0 8313.515534191207 -1863.5155341912068\n",
      "9300.0 8976.864621617795 323.1353783822051\n",
      "8500.0 9292.2046266086 -792.2046266085999\n",
      "6100.0 8393.697199369433 -2293.6971993694333\n",
      "16800.0 12672.467697753704 4127.532302246296\n",
      "17900.0 10927.81000501023 6972.189994989771\n",
      "800.0 1891.1430565818255 -1091.1430565818255\n",
      "8700.0 9568.852697911287 -868.8526979112867\n",
      "18000.0 11124.957177865748 6875.042822134252\n",
      "4200.0 6713.7160952437935 -2513.7160952437935\n",
      "9800.0 12075.67483747418 -2275.67483747418\n",
      "1899.0 4808.219297723788 -2909.2192977237883\n",
      "9500.0 10849.868305899 -1349.868305898999\n",
      "1500.0 3419.294860206589 -1919.294860206589\n",
      "17900.0 12599.557609316274 5300.4423906837255\n",
      "2300.0 4772.586289793336 -2472.5862897933357\n",
      "13900.0 14553.888489403354 -653.8884894033545\n",
      "6500.0 8028.744178249295 -1528.7441782492951\n",
      "6500.0 10385.800110786322 -3885.800110786322\n",
      "7300.0 8044.483969922327 -744.4839699223267\n",
      "8200.0 10411.258725175809 -2211.2587251758086\n",
      "6950.0 9921.821527391978 -2971.8215273919777\n",
      "8200.0 7947.383370098737 252.61662990126297\n",
      "10500.0 11616.614903746691 -1116.6149037466912\n",
      "2600.0 5504.6124881240685 -2904.6124881240685\n",
      "1500.0 3014.048725367499 -1514.0487253674992\n",
      "10000.0 10533.323347225956 -533.3233472259562\n",
      "14100.0 12613.05827087874 1486.9417291212594\n",
      "15000.0 10511.328157770347 4488.671842229653\n",
      "6500.0 7269.793649278765 -769.7936492787649\n",
      "13300.0 10154.197210949642 3145.802789050358\n",
      "2900.0 3402.4401550369703 -502.4401550369703\n",
      "7600.0 8464.907884888658 -864.9078848886584\n",
      "4600.0 6506.705386370146 -1906.7053863701458\n",
      "3600.0 7783.903773779875 -4183.903773779875\n",
      "7000.0 9582.786596643007 -2582.786596643007\n",
      "5600.0 9512.23647876943 -3912.2364787694296\n",
      "4000.0 8311.060987332097 -4311.060987332097\n",
      "11700.0 8222.243173969313 3477.756826030687\n",
      "9999.0 12242.058243555077 -2243.058243555077\n",
      "10999.0 9511.984100993417 1487.015899006583\n",
      "4600.0 5798.028589830979 -1198.0285898309794\n",
      "8999.0 9877.73458179613 -878.7345817961304\n",
      "2600.0 14905.204699182887 -12305.204699182887\n",
      "3200.0 2602.1275523238055 597.8724476761945\n",
      "7500.0 8743.513302457914 -1243.5133024579136\n",
      "6300.0 6700.61221725914 -400.6122172591404\n",
      "6200.0 10952.47662468688 -4752.47662468688\n",
      "15300.0 14653.183954182521 646.8160458174789\n",
      "2700.0 3191.9825045550324 -491.9825045550324\n",
      "7300.0 8957.878125525494 -1657.8781255254944\n",
      "6900.0 8113.651485012284 -1213.651485012284\n",
      "11500.0 11296.474839300245 203.52516069975536\n",
      "12700.0 12120.997666754552 579.0023332454475\n",
      "9800.0 10150.620100049884 -350.62010004988406\n",
      "7440.0 8918.23883004691 -1478.2388300469102\n",
      "7000.0 7055.489102908903 -55.48910290890308\n",
      "7000.0 8323.982519295685 -1323.982519295685\n",
      "11900.0 10353.236638139864 1546.7633618601358\n",
      "7000.0 9178.348931313649 -2178.348931313649\n",
      "3000.0 3160.0946587931894 -160.0946587931894\n",
      "14850.0 11502.917177490777 3347.0828225092228\n",
      "17300.0 8798.846140236514 8501.153859763486\n",
      "8900.0 9226.949155555401 -326.9491555554014\n",
      "14490.0 11140.702813838345 3349.297186161655\n",
      "9999.0 8501.196641436109 1497.8033585638914\n",
      "6999.0 6722.523791604397 276.47620839560295\n",
      "15500.0 9742.946477475449 5757.053522524551\n",
      "11500.0 11714.516242986316 -214.51624298631577\n",
      "7999.0 8135.1390163128 -136.13901631279987\n",
      "15500.0 9592.275710406058 5907.724289593942\n",
      "11500.0 12643.047328287219 -1143.047328287219\n",
      "3500.0 7593.713441955113 -4093.713441955113\n",
      "9658.94 9702.71114520403 -43.77114520402938\n",
      "8500.0 10769.822119772645 -2269.8221197726452\n",
      "5000.0 3516.8141800937337 1483.1858199062663\n",
      "10700.0 10183.371765085605 516.6282349143949\n",
      "1296.75 12618.812523319479 -11322.062523319479\n",
      "9000.0 9628.708539527333 -628.7085395273334\n",
      "7150.0 8958.512186591266 -1808.512186591266\n",
      "16200.0 13731.738345566024 2468.261654433976\n",
      "10500.0 7018.249422822537 3481.750577177463\n",
      "6800.0 3226.1518767817024 3573.8481232182976\n",
      "13900.0 9923.208401129104 3976.7915988708955\n",
      "9200.0 8732.343791838484 467.6562081615157\n",
      "10100.0 8651.347810431913 1448.6521895680871\n",
      "12800.0 11499.198831487503 1300.8011685124966\n",
      "1750.0 3489.420788678174 -1739.4207886781742\n",
      "16800.0 10660.685648123854 6139.314351876146\n",
      "6900.0 7419.782252253366 -519.7822522533661\n",
      "11800.0 11618.973165500276 181.02683449972392\n",
      "3800.0 7392.3730112427975 -3592.3730112427975\n",
      "8000.0 8340.85416083646 -340.8541608364594\n",
      "2500.0 9163.451111459108 -6663.451111459108\n",
      "11800.0 8251.742289233518 3548.257710766482\n",
      "15300.0 10740.204160835845 4559.795839164155\n",
      "10700.0 8837.398306033305 1862.6016939666952\n",
      "7170.0 10769.34067390046 -3599.3406739004604\n",
      "10800.0 11452.178073487456 -652.1780734874555\n",
      "7000.0 6980.522452564419 19.477547435581073\n",
      "16999.0 12506.771420856605 4492.228579143395\n",
      "14299.0 12265.309364445522 2033.690635554478\n",
      "3650.0 3784.621415057246 -134.62141505724594\n",
      "4400.0 8200.791989624151 -3800.791989624151\n",
      "8300.0 10221.48041863348 -1921.4804186334804\n",
      "12000.0 8486.12954904411 3513.87045095589\n",
      "3999.0 7638.499482389992 -3639.4994823899924\n",
      "11800.0 10054.583218805015 1745.4167811949847\n",
      "9000.0 6067.4407152300855 2932.5592847699145\n",
      "16800.0 9230.810943008135 7569.189056991865\n",
      "2650.0 3715.6684643495837 -1065.6684643495837\n",
      "3500.0 12179.609642511507 -8679.609642511507\n",
      "11600.0 2353.508644264318 9246.491355735681\n",
      "7600.0 11156.338665340496 -3556.338665340496\n",
      "5800.0 9103.486221140047 -3303.486221140047\n",
      "4400.0 6639.83290184631 -2239.83290184631\n",
      "12900.0 9049.650682677824 3850.349317322176\n",
      "7999.0 9683.9832083001 -1684.9832083001002\n",
      "8500.0 7816.763779101793 683.2362208982067\n",
      "10500.0 10167.426280294352 332.5737197056478\n"
     ]
    },
    {
     "name": "stdout",
     "output_type": "stream",
     "text": [
      "12199.0 11882.062064825343 316.93793517465747\n",
      "1185.6 6534.487917308548 -5348.887917308548\n",
      "9300.0 8976.864621617795 323.1353783822051\n",
      "2500.0 2357.12117274671 142.87882725329018\n",
      "3100.0 3032.3087768017367 67.69122319826329\n",
      "2150.0 2444.86734875999 -294.8673487599899\n",
      "3150.0 13723.711714092331 -10573.711714092331\n",
      "5800.0 8077.016761644518 -2277.016761644518\n",
      "6950.0 10350.847907642226 -3400.8479076422263\n",
      "3000.0 9586.929293134299 -6586.929293134299\n",
      "2500.0 8871.698207844156 -6371.698207844156\n",
      "7300.0 7352.364451706575 -52.36445170657498\n",
      "6300.0 7964.244513009289 -1664.2445130092892\n",
      "9200.0 9499.954125709573 -299.9541257095734\n",
      "8999.0 11624.063403865319 -2625.063403865319\n",
      "13972.07 12640.312411732815 1331.7575882671845\n",
      "14899.0 11156.338665340496 3742.661334659504\n",
      "5500.0 6904.9898840155565 -1404.9898840155565\n",
      "6800.0 5083.997497269971 1716.002502730029\n",
      "7800.0 9552.625616066503 -1752.6256160665034\n",
      "12000.0 9116.485169474741 2883.5148305252587\n",
      "9600.0 11210.475285646904 -1610.475285646904\n",
      "4600.0 10866.47707103354 -6266.47707103354\n",
      "10900.0 10434.121041013252 465.87895898674833\n",
      "12900.0 10683.341120247118 2216.658879752882\n",
      "5900.0 6900.8667950265335 -1000.8667950265335\n",
      "4999.0 8269.151117531612 -3270.151117531612\n",
      "5300.0 3837.6919247311976 1462.3080752688024\n",
      "8000.0 10126.92431903732 -2126.92431903732\n",
      "4850.0 7850.299452290774 -3000.299452290774\n",
      "5300.0 8415.197087782768 -3115.197087782768\n",
      "13300.0 11587.483595554628 1712.5164044453722\n",
      "9800.0 9866.427842507657 -66.42784250765726\n",
      "6800.0 7407.75192551293 -607.75192551293\n",
      "11700.0 9730.289645198123 1969.7103548018767\n",
      "10200.0 10934.50777530265 -734.5077753026508\n",
      "11500.0 11951.015015533005 -451.01501553300477\n",
      "4950.0 7264.829747892362 -2314.8297478923623\n",
      "3000.0 7763.78046686673 -4763.78046686673\n",
      "3700.0 4304.042030167615 -604.0420301676149\n",
      "10200.0 8292.015645777872 1907.9843542221279\n",
      "8900.0 3200.7358224096843 5699.264177590316\n",
      "17500.0 11587.312047378586 5912.687952621414\n",
      "10500.0 6652.751319795836 3847.248680204164\n",
      "10700.0 9370.954795229562 1329.0452047704384\n",
      "8700.0 10167.811649440928 -1467.8116494409278\n",
      "9100.0 9737.813881174221 -637.813881174221\n",
      "11500.0 9290.272544213534 2209.7274557864657\n",
      "8900.0 8721.379352978807 178.62064702119278\n",
      "6500.0 7746.634989346339 -1246.6349893463394\n",
      "8700.0 9596.271001741756 -896.2710017417558\n",
      "4850.0 8493.858277244522 -3643.8582772445225\n",
      "7999.0 8464.014753084553 -465.0147530845534\n",
      "4300.0 4215.683863304099 84.31613669590115\n",
      "12500.0 8802.740161129364 3697.2598388706356\n",
      "1400.0 2644.438584942941 -1244.438584942941\n",
      "9003.15 12133.26044080859 -3130.1104408085903\n",
      "3750.0 7290.782921773354 -3540.7829217733542\n",
      "7000.0 10930.976736273546 -3930.9767362735456\n",
      "1450.0 11836.449644645174 -10386.449644645174\n",
      "7400.0 9451.90860658662 -2051.9086065866195\n",
      "7300.0 8184.516203711195 -884.516203711195\n",
      "7200.0 9380.466822609136 -2180.466822609136\n",
      "12399.0 8398.621956040442 4000.3780439595575\n",
      "9600.0 10446.92482966771 -846.9248296677106\n",
      "12900.0 10730.704851925646 2169.295148074354\n",
      "8000.0 5503.37404815974 2496.6259518402603\n",
      "8899.0 10097.026207786486 -1198.0262077864863\n",
      "6800.0 13633.76061962601 -6833.760619626009\n",
      "7500.0 9017.787749330892 -1517.7877493308915\n",
      "4200.0 4167.083639062345 32.916360937654645\n",
      "6100.0 7212.666814218162 -1112.6668142181616\n",
      "15500.0 10636.880064331608 4863.119935668392\n",
      "10700.0 11263.838107407173 -563.8381074071731\n",
      "2200.0 2648.5506223407992 -448.55062234079924\n",
      "11299.0 14555.134177669028 -3256.134177669028\n",
      "12900.0 9909.427619334328 2990.5723806656715\n",
      "7500.0 8431.481961362362 -931.4819613623622\n",
      "9200.0 8546.866853351088 653.1331466489119\n",
      "9500.0 10384.922979997344 -884.9229799973436\n",
      "2300.0 4145.66623261629 -1845.6662326162896\n",
      "12090.0 8516.743162322458 3573.2568376775416\n",
      "10100.0 13059.455498260115 -2959.455498260115\n",
      "3550.0 4134.401184614517 -584.4011846145168\n",
      "16500.0 11037.656657239324 5462.343342760676\n",
      "4500.0 7761.769824300771 -3261.769824300771\n",
      "6900.0 7198.242228294399 -298.24222829439896\n",
      "14700.0 9772.761438809173 4927.238561190827\n",
      "4500.0 7192.753041379578 -2692.7530413795776\n",
      "6400.0 8571.51419515123 -2171.5141951512305\n",
      "8450.0 8834.81856781414 -384.8185678141399\n",
      "2900.0 3084.4830624883552 -184.48306248835524\n",
      "2000.0 4438.44921555813 -2438.44921555813\n",
      "8500.0 2248.755709686475 6251.244290313525\n",
      "11450.0 11543.336656780531 -93.33665678053148\n",
      "6400.0 8553.959035522821 -2153.959035522821\n",
      "12350.0 8810.209070299006 3539.7909297009937\n",
      "7800.0 2501.4815640779443 5298.518435922056\n",
      "17950.0 12746.19235946095 5203.807640539049\n",
      "4000.0 1524.8254324542277 2475.1745675457723\n",
      "14500.0 10941.339781207142 3558.6602187928584\n",
      "3300.0 3121.5481674341754 178.4518325658246\n",
      "2650.0 12818.432141726105 -10168.432141726105\n",
      "11500.0 8055.516873231183 3444.483126768817\n",
      "12900.0 11401.179069809916 1498.8209301900843\n",
      "18600.0 13299.729168554964 5300.270831445036\n",
      "8800.0 8166.716127420534 633.2838725794663\n",
      "8500.0 7746.310746334802 753.6892536651976\n",
      "7999.0 8611.366518591094 -612.3665185910941\n",
      "8700.0 10181.207062089126 -1481.2070620891263\n",
      "9000.0 12796.127736685638 -3796.1277366856375\n",
      "7600.0 8742.879241392142 -1142.879241392142\n",
      "8900.0 8662.833055265786 237.16694473421376\n",
      "8500.0 9361.48488210007 -861.4848821000705\n",
      "5900.0 8434.63141857307 -2534.63141857307\n",
      "1500.0 7226.283256533348 -5726.283256533348\n",
      "18000.0 14131.664898303497 3868.3351016965025\n",
      "2600.0 2063.540651884914 536.459348115086\n",
      "12700.0 11821.697157687533 878.302842312467\n",
      "9600.0 10804.455000805081 -1204.455000805081\n",
      "1450.0 5715.061749652397 -4265.061749652397\n",
      "3900.0 3930.667348482936 -30.667348482936177\n",
      "7900.0 5733.5289245909735 2166.4710754090265\n",
      "8300.0 8765.013190871248 -465.0131908712483\n",
      "12900.0 9858.39584387403 3041.60415612597\n",
      "16700.0 11161.939112755577 5538.060887244423\n",
      "12700.0 9406.124037191255 3293.8759628087446\n",
      "3700.0 2435.3468730797267 1264.6531269202733\n",
      "9000.0 7942.7446245959545 1057.2553754040455\n",
      "11500.0 10283.621822119903 1216.3781778800967\n",
      "8499.0 10468.82368198595 -1969.8236819859503\n",
      "9200.0 8743.090025591564 456.909974408436\n",
      "8200.0 7124.130287150549 1075.8697128494514\n",
      "8500.0 9189.705598167906 -689.7055981679059\n",
      "11900.0 14196.880807361751 -2296.880807361751\n",
      "7200.0 7498.235423727361 -298.2354237273612\n",
      "2600.0 3651.168799109578 -1051.1687991095778\n",
      "10200.0 11261.726667100458 -1061.7266671004581\n",
      "10450.0 9925.114033387248 524.8859666127519\n",
      "5000.0 6743.389618951962 -1743.389618951962\n",
      "8500.0 8000.096871561519 499.90312843848096\n",
      "11500.0 7082.749088062543 4417.250911937457\n",
      "10399.0 5723.416398950791 4675.583601049209\n",
      "5800.0 6083.54083884116 -283.5408388411597\n",
      "4000.0 7891.4032158465525 -3891.4032158465525\n",
      "14200.0 13774.161514130148 425.83848586985187\n",
      "4650.0 7948.017431164508 -3298.017431164508\n",
      "4500.0 4484.309158693822 15.6908413061783\n",
      "8100.0 3248.188884704011 4851.811115295989\n",
      "3600.0 11589.38402294022 -7989.384022940219\n",
      "17200.0 12399.47413064729 4800.52586935271\n",
      "9999.0 7518.019662897803 2480.980337102197\n",
      "7800.0 10794.346337471397 -2994.3463374713974\n",
      "9000.0 7607.039695073617 1392.9603049263833\n",
      "12800.0 7313.805053588876 5486.194946411124\n",
      "14474.0 14975.682280382549 -501.6822803825489\n",
      "11800.0 9466.626062413163 2333.373937586837\n",
      "11900.0 10543.97874483351 1356.02125516649\n",
      "12600.0 9710.585004191651 2889.414995808349\n",
      "10400.0 9961.771711061727 438.2282889382732\n",
      "9200.0 11662.341100855678 -2462.3411008556777\n",
      "7000.0 4942.629414186267 2057.3705858137328\n",
      "14900.0 10040.157610868617 4859.842389131383\n",
      "9000.0 8909.34260908544 90.65739091456089\n",
      "5000.0 6711.518134160109 -1711.5181341601092\n",
      "6500.0 8717.827776245202 -2217.8277762452017\n",
      "9400.0 7736.327210926409 1663.672789073591\n",
      "9800.0 9151.196757217514 648.8032427824855\n",
      "3700.0 6253.001679675943 -2553.001679675943\n",
      "12950.0 11595.760624181938 1354.2393758180624\n",
      "3600.0 8686.487401208036 -5086.487401208036\n",
      "5300.0 4692.433459837088 607.5665401629121\n",
      "9250.0 10209.524054052847 -959.5240540528466\n",
      "9200.0 8582.706305144635 617.2936948553652\n",
      "9800.0 10268.258757444779 -468.2587574447789\n",
      "2500.0 2910.8488925979973 -410.8488925979973\n",
      "12650.0 10669.983748670267 1980.0162513297328\n",
      "6900.0 9084.712753009027 -2184.7127530090274\n",
      "8400.0 9925.583888325003 -1525.5838883250035\n",
      "13500.0 13080.965577607076 419.03442239292417\n",
      "7300.0 9952.826360065905 -2652.8263600659047\n",
      "10500.0 9505.438197616557 994.5618023834431\n",
      "2600.0 3832.285236065967 -1232.2852360659672\n",
      "16800.0 10565.96007911903 6234.03992088097\n",
      "7800.0 10263.660674359255 -2463.6606743592547\n",
      "16900.0 15756.989108746024 1143.0108912539763\n",
      "14800.0 12588.94573911191 2211.0542608880896\n",
      "8400.0 6472.410580566424 1927.589419433576\n",
      "9500.0 10795.431502416674 -1295.4315024166735\n",
      "9200.0 8695.24071906269 504.7592809373109\n",
      "7800.0 8507.014529911225 -707.0145299112246\n",
      "3950.0 6634.649074436964 -2684.649074436964\n",
      "2550.0 2408.6285566037877 141.37144339621227\n",
      "17500.0 11289.762166653716 6210.237833346284\n",
      "13700.0 7657.285753205884 6042.714246794116\n",
      "6800.0 9256.363170991153 -2456.3631709911533\n",
      "16950.0 13692.505977013163 3257.494022986837\n",
      "11500.0 10694.013711420266 805.9862885797338\n",
      "9200.0 10972.67169536419 -1772.6716953641899\n",
      "5700.0 6722.922279600803 -1022.9222796008034\n",
      "10900.0 8157.743508729307 2742.256491270693\n",
      "7500.0 5761.372709119763 1738.6272908802366\n",
      "14400.0 12896.691578354297 1503.3084216457028\n",
      "14500.0 9344.690656930403 5155.309343069597\n",
      "2999.0 3410.8642915525106 -411.8642915525106\n",
      "10500.0 8894.420356520237 1605.579643479763\n",
      "10800.0 8957.014389502097 1842.9856104979026\n",
      "9300.0 9006.817675120823 293.18232487917703\n"
     ]
    }
   ],
   "source": [
    "residual = []\n",
    "print(\"Y_test , X_test_predict , Error/Resdual\")\n",
    "for i in range(y_test.shape[0]):\n",
    "    print(list(y_test)[i]  , list(y_pred)[i] , (list(y_test)[i]-list(y_pred)[i]))\n",
    "    residual.append(list(y_test)[i]-list(y_pred)[i])"
   ]
  },
  {
   "cell_type": "code",
   "execution_count": 110,
   "metadata": {},
   "outputs": [
    {
     "name": "stderr",
     "output_type": "stream",
     "text": [
      "C:\\Users\\RAJAT SAHU\\anaconda3\\lib\\site-packages\\seaborn\\distributions.py:2551: FutureWarning: `distplot` is a deprecated function and will be removed in a future version. Please adapt your code to use either `displot` (a figure-level function with similar flexibility) or `histplot` (an axes-level function for histograms).\n",
      "  warnings.warn(msg, FutureWarning)\n"
     ]
    },
    {
     "data": {
      "image/png": "[encoded data removed]",
      "text/plain": [
       "<Figure size 360x144 with 1 Axes>"
      ]
     },
     "metadata": {
      "needs_background": "light"
     },
     "output_type": "display_data"
    }
   ],
   "source": [
    "plt.figure(figsize=(5,2))\n",
    "sns.distplot(residual)\n",
    "plt.show()"
   ]
  },
  {
   "cell_type": "code",
   "execution_count": 111,
   "metadata": {},
   "outputs": [
    {
     "data": {
      "text/plain": [
       "array([  -21.49988841,  1417.20637167,   153.40639811,   433.07649566,\n",
       "         885.34830234, -1632.18508189, -1793.56297182,  1398.26099998,\n",
       "         555.65585762,  2767.82453332, -1514.05087936,    17.99778194,\n",
       "        -630.54481184,   -54.50111015,  -586.72551391,   923.26369069,\n",
       "        -877.66360813,   333.44300307,  -379.04308563, -2935.63041439,\n",
       "        2935.63041439])"
      ]
     },
     "execution_count": 111,
     "metadata": {},
     "output_type": "execute_result"
    }
   ],
   "source": [
    "reg.coef_"
   ]
  },
  {
   "cell_type": "code",
   "execution_count": 112,
   "metadata": {},
   "outputs": [
    {
     "data": {
      "text/plain": [
       "7891.083842513924"
      ]
     },
     "execution_count": 112,
     "metadata": {},
     "output_type": "execute_result"
    }
   ],
   "source": [
    "reg.intercept_"
   ]
  },
  {
   "cell_type": "code",
   "execution_count": 113,
   "metadata": {},
   "outputs": [
    {
     "ename": "ValueError",
     "evalue": "The truth value of an array with more than one element is ambiguous. Use a.any() or a.all()",
     "output_type": "error",
     "traceback": [
      "\u001b[1;31m---------------------------------------------------------------------------\u001b[0m",
      "\u001b[1;31mValueError\u001b[0m                                Traceback (most recent call last)",
      "\u001b[1;32m<ipython-input-113-46eea2f81d77>\u001b[0m in \u001b[0;36m<module>\u001b[1;34m\u001b[0m\n\u001b[0;32m      1\u001b[0m \u001b[0mfig\u001b[0m\u001b[1;33m,\u001b[0m\u001b[0max\u001b[0m \u001b[1;33m=\u001b[0m \u001b[0mplt\u001b[0m\u001b[1;33m.\u001b[0m\u001b[0msubplots\u001b[0m\u001b[1;33m(\u001b[0m\u001b[1;33m)\u001b[0m\u001b[1;33m\u001b[0m\u001b[1;33m\u001b[0m\u001b[0m\n\u001b[0;32m      2\u001b[0m \u001b[0mplt\u001b[0m\u001b[1;33m.\u001b[0m\u001b[0mscatter\u001b[0m\u001b[1;33m(\u001b[0m\u001b[0my_test\u001b[0m\u001b[1;33m,\u001b[0m\u001b[0my_pred\u001b[0m\u001b[1;33m)\u001b[0m\u001b[1;33m\u001b[0m\u001b[1;33m\u001b[0m\u001b[0m\n\u001b[1;32m----> 3\u001b[1;33m \u001b[0max\u001b[0m\u001b[1;33m.\u001b[0m\u001b[0maxline\u001b[0m\u001b[1;33m(\u001b[0m  \u001b[1;33m(\u001b[0m\u001b[1;36m0\u001b[0m\u001b[1;33m,\u001b[0m \u001b[0mreg\u001b[0m\u001b[1;33m.\u001b[0m\u001b[0mintercept_\u001b[0m\u001b[1;33m)\u001b[0m\u001b[1;33m,\u001b[0m \u001b[0mslope\u001b[0m\u001b[1;33m=\u001b[0m\u001b[0mreg\u001b[0m\u001b[1;33m.\u001b[0m\u001b[0mcoef_\u001b[0m \u001b[1;33m,\u001b[0m \u001b[0mlabel\u001b[0m\u001b[1;33m=\u001b[0m\u001b[1;34m'regression line'\u001b[0m\u001b[1;33m)\u001b[0m\u001b[1;33m\u001b[0m\u001b[1;33m\u001b[0m\u001b[0m\n\u001b[0m\u001b[0;32m      4\u001b[0m \u001b[0max\u001b[0m\u001b[1;33m.\u001b[0m\u001b[0mlegend\u001b[0m\u001b[1;33m(\u001b[0m\u001b[1;33m)\u001b[0m\u001b[1;33m\u001b[0m\u001b[1;33m\u001b[0m\u001b[0m\n\u001b[0;32m      5\u001b[0m \u001b[0mplt\u001b[0m\u001b[1;33m.\u001b[0m\u001b[0mshow\u001b[0m\u001b[1;33m(\u001b[0m\u001b[1;33m)\u001b[0m\u001b[1;33m\u001b[0m\u001b[1;33m\u001b[0m\u001b[0m\n",
      "\u001b[1;32m~\\anaconda3\\lib\\site-packages\\matplotlib\\axes\\_axes.py\u001b[0m in \u001b[0;36maxline\u001b[1;34m(self, xy1, xy2, slope, **kwargs)\u001b[0m\n\u001b[0;32m    987\u001b[0m \u001b[1;33m\u001b[0m\u001b[0m\n\u001b[0;32m    988\u001b[0m         \u001b[0mdatalim\u001b[0m \u001b[1;33m=\u001b[0m \u001b[1;33m[\u001b[0m\u001b[0mxy1\u001b[0m\u001b[1;33m]\u001b[0m \u001b[1;32mif\u001b[0m \u001b[0mxy2\u001b[0m \u001b[1;32mis\u001b[0m \u001b[1;32mNone\u001b[0m \u001b[1;32melse\u001b[0m \u001b[1;33m[\u001b[0m\u001b[0mxy1\u001b[0m\u001b[1;33m,\u001b[0m \u001b[0mxy2\u001b[0m\u001b[1;33m]\u001b[0m\u001b[1;33m\u001b[0m\u001b[1;33m\u001b[0m\u001b[0m\n\u001b[1;32m--> 989\u001b[1;33m         \u001b[1;33m(\u001b[0m\u001b[0mx1\u001b[0m\u001b[1;33m,\u001b[0m \u001b[0my1\u001b[0m\u001b[1;33m)\u001b[0m\u001b[1;33m,\u001b[0m \u001b[1;33m(\u001b[0m\u001b[0mx2\u001b[0m\u001b[1;33m,\u001b[0m \u001b[0my2\u001b[0m\u001b[1;33m)\u001b[0m \u001b[1;33m=\u001b[0m \u001b[0m_to_points\u001b[0m\u001b[1;33m(\u001b[0m\u001b[0mxy1\u001b[0m\u001b[1;33m,\u001b[0m \u001b[0mxy2\u001b[0m\u001b[1;33m,\u001b[0m \u001b[0mslope\u001b[0m\u001b[1;33m)\u001b[0m\u001b[1;33m\u001b[0m\u001b[1;33m\u001b[0m\u001b[0m\n\u001b[0m\u001b[0;32m    990\u001b[0m         \u001b[0mline\u001b[0m \u001b[1;33m=\u001b[0m \u001b[0mmlines\u001b[0m\u001b[1;33m.\u001b[0m\u001b[0m_AxLine\u001b[0m\u001b[1;33m(\u001b[0m\u001b[1;33m[\u001b[0m\u001b[0mx1\u001b[0m\u001b[1;33m,\u001b[0m \u001b[0mx2\u001b[0m\u001b[1;33m]\u001b[0m\u001b[1;33m,\u001b[0m \u001b[1;33m[\u001b[0m\u001b[0my1\u001b[0m\u001b[1;33m,\u001b[0m \u001b[0my2\u001b[0m\u001b[1;33m]\u001b[0m\u001b[1;33m,\u001b[0m \u001b[1;33m**\u001b[0m\u001b[0mkwargs\u001b[0m\u001b[1;33m)\u001b[0m\u001b[1;33m\u001b[0m\u001b[1;33m\u001b[0m\u001b[0m\n\u001b[0;32m    991\u001b[0m         \u001b[1;31m# Like add_line, but correctly handling data limits.\u001b[0m\u001b[1;33m\u001b[0m\u001b[1;33m\u001b[0m\u001b[1;33m\u001b[0m\u001b[0m\n",
      "\u001b[1;32m~\\anaconda3\\lib\\site-packages\\matplotlib\\axes\\_axes.py\u001b[0m in \u001b[0;36m_to_points\u001b[1;34m(xy1, xy2, slope)\u001b[0m\n\u001b[0;32m    976\u001b[0m             \u001b[1;32mif\u001b[0m \u001b[0mxy2\u001b[0m \u001b[1;32mis\u001b[0m \u001b[1;32mNone\u001b[0m\u001b[1;33m:\u001b[0m\u001b[1;33m\u001b[0m\u001b[1;33m\u001b[0m\u001b[0m\n\u001b[0;32m    977\u001b[0m                 \u001b[0mx1\u001b[0m\u001b[1;33m,\u001b[0m \u001b[0my1\u001b[0m \u001b[1;33m=\u001b[0m \u001b[0mxy1\u001b[0m\u001b[1;33m\u001b[0m\u001b[1;33m\u001b[0m\u001b[0m\n\u001b[1;32m--> 978\u001b[1;33m                 \u001b[0mxy2\u001b[0m \u001b[1;33m=\u001b[0m \u001b[1;33m(\u001b[0m\u001b[0mx1\u001b[0m\u001b[1;33m,\u001b[0m \u001b[0my1\u001b[0m \u001b[1;33m+\u001b[0m \u001b[1;36m1\u001b[0m\u001b[1;33m)\u001b[0m \u001b[1;32mif\u001b[0m \u001b[0mnp\u001b[0m\u001b[1;33m.\u001b[0m\u001b[0misinf\u001b[0m\u001b[1;33m(\u001b[0m\u001b[0mslope\u001b[0m\u001b[1;33m)\u001b[0m \u001b[1;32melse\u001b[0m \u001b[1;33m(\u001b[0m\u001b[0mx1\u001b[0m \u001b[1;33m+\u001b[0m \u001b[1;36m1\u001b[0m\u001b[1;33m,\u001b[0m \u001b[0my1\u001b[0m \u001b[1;33m+\u001b[0m \u001b[0mslope\u001b[0m\u001b[1;33m)\u001b[0m\u001b[1;33m\u001b[0m\u001b[1;33m\u001b[0m\u001b[0m\n\u001b[0m\u001b[0;32m    979\u001b[0m             \u001b[1;32mreturn\u001b[0m \u001b[0mxy1\u001b[0m\u001b[1;33m,\u001b[0m \u001b[0mxy2\u001b[0m\u001b[1;33m\u001b[0m\u001b[1;33m\u001b[0m\u001b[0m\n\u001b[0;32m    980\u001b[0m \u001b[1;33m\u001b[0m\u001b[0m\n",
      "\u001b[1;31mValueError\u001b[0m: The truth value of an array with more than one element is ambiguous. Use a.any() or a.all()"
     ]
    },
    {
     "data": {
      "image/png": "[encoded data removed]",
      "text/plain": [
       "<Figure size 432x288 with 1 Axes>"
      ]
     },
     "metadata": {
      "needs_background": "light"
     },
     "output_type": "display_data"
    }
   ],
   "source": [
    "fig,ax = plt.subplots()\n",
    "plt.scatter(y_test,y_pred)\n",
    "ax.axline(  (0, reg.intercept_), slope=reg.coef_ , label='regression line')\n",
    "ax.legend()\n",
    "plt.show()"
   ]
  },
  {
   "cell_type": "code",
   "execution_count": 114,
   "metadata": {},
   "outputs": [
    {
     "data": {
      "text/plain": [
       "10385961.874171328"
      ]
     },
     "execution_count": 114,
     "metadata": {},
     "output_type": "execute_result"
    }
   ],
   "source": [
    "MSE = np.mean((y_pred-y_test)**2)\n",
    "MSE"
   ]
  },
  {
   "cell_type": "code",
   "execution_count": 115,
   "metadata": {},
   "outputs": [],
   "source": [
    "lm_coeficient = pd.DataFrame()\n",
    "lm_coeficient['Columns'] = X_train.columns\n",
    "lm_coeficient['Coeficient'] = reg.coef_"
   ]
  },
  {
   "cell_type": "code",
   "execution_count": 116,
   "metadata": {},
   "outputs": [
    {
     "data": {
      "text/html": [
       "<div>\n",
       "<style scoped>\n",
       "    .dataframe tbody tr th:only-of-type {\n",
       "        vertical-align: middle;\n",
       "    }\n",
       "\n",
       "    .dataframe tbody tr th {\n",
       "        vertical-align: top;\n",
       "    }\n",
       "\n",
       "    .dataframe thead th {\n",
       "        text-align: right;\n",
       "    }\n",
       "</style>\n",
       "<table border=\"1\" class=\"dataframe\">\n",
       "  <thead>\n",
       "    <tr style=\"text-align: right;\">\n",
       "      <th></th>\n",
       "      <th>Columns</th>\n",
       "      <th>Coeficient</th>\n",
       "    </tr>\n",
       "  </thead>\n",
       "  <tbody>\n",
       "    <tr>\n",
       "      <th>0</th>\n",
       "      <td>Mileage</td>\n",
       "      <td>-21.499888</td>\n",
       "    </tr>\n",
       "    <tr>\n",
       "      <th>1</th>\n",
       "      <td>EngineV</td>\n",
       "      <td>1417.206372</td>\n",
       "    </tr>\n",
       "    <tr>\n",
       "      <th>2</th>\n",
       "      <td>Brand_0</td>\n",
       "      <td>153.406398</td>\n",
       "    </tr>\n",
       "    <tr>\n",
       "      <th>3</th>\n",
       "      <td>Brand_1</td>\n",
       "      <td>433.076496</td>\n",
       "    </tr>\n",
       "    <tr>\n",
       "      <th>4</th>\n",
       "      <td>Brand_2</td>\n",
       "      <td>885.348302</td>\n",
       "    </tr>\n",
       "    <tr>\n",
       "      <th>5</th>\n",
       "      <td>Brand_3</td>\n",
       "      <td>-1632.185082</td>\n",
       "    </tr>\n",
       "    <tr>\n",
       "      <th>6</th>\n",
       "      <td>Brand_4</td>\n",
       "      <td>-1793.562972</td>\n",
       "    </tr>\n",
       "    <tr>\n",
       "      <th>7</th>\n",
       "      <td>Brand_5</td>\n",
       "      <td>1398.261000</td>\n",
       "    </tr>\n",
       "    <tr>\n",
       "      <th>8</th>\n",
       "      <td>Brand_6</td>\n",
       "      <td>555.655858</td>\n",
       "    </tr>\n",
       "    <tr>\n",
       "      <th>9</th>\n",
       "      <td>Body_0</td>\n",
       "      <td>2767.824533</td>\n",
       "    </tr>\n",
       "    <tr>\n",
       "      <th>10</th>\n",
       "      <td>Body_1</td>\n",
       "      <td>-1514.050879</td>\n",
       "    </tr>\n",
       "    <tr>\n",
       "      <th>11</th>\n",
       "      <td>Body_2</td>\n",
       "      <td>17.997782</td>\n",
       "    </tr>\n",
       "    <tr>\n",
       "      <th>12</th>\n",
       "      <td>Body_3</td>\n",
       "      <td>-630.544812</td>\n",
       "    </tr>\n",
       "    <tr>\n",
       "      <th>13</th>\n",
       "      <td>Body_4</td>\n",
       "      <td>-54.501110</td>\n",
       "    </tr>\n",
       "    <tr>\n",
       "      <th>14</th>\n",
       "      <td>Body_5</td>\n",
       "      <td>-586.725514</td>\n",
       "    </tr>\n",
       "    <tr>\n",
       "      <th>15</th>\n",
       "      <td>Engine Type_0</td>\n",
       "      <td>923.263691</td>\n",
       "    </tr>\n",
       "    <tr>\n",
       "      <th>16</th>\n",
       "      <td>Engine Type_1</td>\n",
       "      <td>-877.663608</td>\n",
       "    </tr>\n",
       "    <tr>\n",
       "      <th>17</th>\n",
       "      <td>Engine Type_2</td>\n",
       "      <td>333.443003</td>\n",
       "    </tr>\n",
       "    <tr>\n",
       "      <th>18</th>\n",
       "      <td>Engine Type_3</td>\n",
       "      <td>-379.043086</td>\n",
       "    </tr>\n",
       "    <tr>\n",
       "      <th>19</th>\n",
       "      <td>Registration_0</td>\n",
       "      <td>-2935.630414</td>\n",
       "    </tr>\n",
       "    <tr>\n",
       "      <th>20</th>\n",
       "      <td>Registration_1</td>\n",
       "      <td>2935.630414</td>\n",
       "    </tr>\n",
       "  </tbody>\n",
       "</table>\n",
       "</div>"
      ],
      "text/plain": [
       "           Columns   Coeficient\n",
       "0          Mileage   -21.499888\n",
       "1          EngineV  1417.206372\n",
       "2          Brand_0   153.406398\n",
       "3          Brand_1   433.076496\n",
       "4          Brand_2   885.348302\n",
       "5          Brand_3 -1632.185082\n",
       "6          Brand_4 -1793.562972\n",
       "7          Brand_5  1398.261000\n",
       "8          Brand_6   555.655858\n",
       "9           Body_0  2767.824533\n",
       "10          Body_1 -1514.050879\n",
       "11          Body_2    17.997782\n",
       "12          Body_3  -630.544812\n",
       "13          Body_4   -54.501110\n",
       "14          Body_5  -586.725514\n",
       "15   Engine Type_0   923.263691\n",
       "16   Engine Type_1  -877.663608\n",
       "17   Engine Type_2   333.443003\n",
       "18   Engine Type_3  -379.043086\n",
       "19  Registration_0 -2935.630414\n",
       "20  Registration_1  2935.630414"
      ]
     },
     "execution_count": 116,
     "metadata": {},
     "output_type": "execute_result"
    }
   ],
   "source": [
    "lm_coeficient"
   ]
  },
  {
   "cell_type": "markdown",
   "metadata": {},
   "source": [
    "#### 15C. Explain about Lasso Regression and Perform the Ridge Regression"
   ]
  },
  {
   "cell_type": "code",
   "execution_count": 117,
   "metadata": {},
   "outputs": [
    {
     "data": {
      "text/plain": [
       "Ridge(alpha=1)"
      ]
     },
     "execution_count": 117,
     "metadata": {},
     "output_type": "execute_result"
    }
   ],
   "source": [
    "from sklearn.linear_model import Ridge\n",
    "ridgeR = Ridge(alpha=1)\n",
    "ridgeR.fit(X_train,y_train)"
   ]
  },
  {
   "cell_type": "code",
   "execution_count": 118,
   "metadata": {},
   "outputs": [],
   "source": [
    "y_test_ridge = ridgeR.predict(X_test)"
   ]
  },
  {
   "cell_type": "code",
   "execution_count": 119,
   "metadata": {},
   "outputs": [
    {
     "data": {
      "text/plain": [
       "(436,)"
      ]
     },
     "execution_count": 119,
     "metadata": {},
     "output_type": "execute_result"
    }
   ],
   "source": [
    "y_test_ridge.shape"
   ]
  },
  {
   "cell_type": "code",
   "execution_count": 120,
   "metadata": {},
   "outputs": [],
   "source": [
    "lm_coefficient = pd.DataFrame()\n",
    "lm_coefficient['Columns'] = X_train.columns\n",
    "lm_coefficient['Estimate'] = pd.Series(ridgeR.coef_)"
   ]
  },
  {
   "cell_type": "code",
   "execution_count": 121,
   "metadata": {},
   "outputs": [
    {
     "data": {
      "text/html": [
       "<div>\n",
       "<style scoped>\n",
       "    .dataframe tbody tr th:only-of-type {\n",
       "        vertical-align: middle;\n",
       "    }\n",
       "\n",
       "    .dataframe tbody tr th {\n",
       "        vertical-align: top;\n",
       "    }\n",
       "\n",
       "    .dataframe thead th {\n",
       "        text-align: right;\n",
       "    }\n",
       "</style>\n",
       "<table border=\"1\" class=\"dataframe\">\n",
       "  <thead>\n",
       "    <tr style=\"text-align: right;\">\n",
       "      <th></th>\n",
       "      <th>Columns</th>\n",
       "      <th>Estimate</th>\n",
       "    </tr>\n",
       "  </thead>\n",
       "  <tbody>\n",
       "    <tr>\n",
       "      <th>0</th>\n",
       "      <td>Mileage</td>\n",
       "      <td>-21.506792</td>\n",
       "    </tr>\n",
       "    <tr>\n",
       "      <th>1</th>\n",
       "      <td>EngineV</td>\n",
       "      <td>1422.657472</td>\n",
       "    </tr>\n",
       "    <tr>\n",
       "      <th>2</th>\n",
       "      <td>Brand_0</td>\n",
       "      <td>147.375575</td>\n",
       "    </tr>\n",
       "    <tr>\n",
       "      <th>3</th>\n",
       "      <td>Brand_1</td>\n",
       "      <td>423.770836</td>\n",
       "    </tr>\n",
       "    <tr>\n",
       "      <th>4</th>\n",
       "      <td>Brand_2</td>\n",
       "      <td>879.798017</td>\n",
       "    </tr>\n",
       "    <tr>\n",
       "      <th>5</th>\n",
       "      <td>Brand_3</td>\n",
       "      <td>-1616.336291</td>\n",
       "    </tr>\n",
       "    <tr>\n",
       "      <th>6</th>\n",
       "      <td>Brand_4</td>\n",
       "      <td>-1783.836376</td>\n",
       "    </tr>\n",
       "    <tr>\n",
       "      <th>7</th>\n",
       "      <td>Brand_5</td>\n",
       "      <td>1394.189343</td>\n",
       "    </tr>\n",
       "    <tr>\n",
       "      <th>8</th>\n",
       "      <td>Brand_6</td>\n",
       "      <td>555.038895</td>\n",
       "    </tr>\n",
       "    <tr>\n",
       "      <th>9</th>\n",
       "      <td>Body_0</td>\n",
       "      <td>2738.118625</td>\n",
       "    </tr>\n",
       "    <tr>\n",
       "      <th>10</th>\n",
       "      <td>Body_1</td>\n",
       "      <td>-1502.276432</td>\n",
       "    </tr>\n",
       "    <tr>\n",
       "      <th>11</th>\n",
       "      <td>Body_2</td>\n",
       "      <td>23.837506</td>\n",
       "    </tr>\n",
       "    <tr>\n",
       "      <th>12</th>\n",
       "      <td>Body_3</td>\n",
       "      <td>-628.229548</td>\n",
       "    </tr>\n",
       "    <tr>\n",
       "      <th>13</th>\n",
       "      <td>Body_4</td>\n",
       "      <td>-52.860202</td>\n",
       "    </tr>\n",
       "    <tr>\n",
       "      <th>14</th>\n",
       "      <td>Body_5</td>\n",
       "      <td>-578.589949</td>\n",
       "    </tr>\n",
       "    <tr>\n",
       "      <th>15</th>\n",
       "      <td>Engine Type_0</td>\n",
       "      <td>919.304501</td>\n",
       "    </tr>\n",
       "    <tr>\n",
       "      <th>16</th>\n",
       "      <td>Engine Type_1</td>\n",
       "      <td>-868.919884</td>\n",
       "    </tr>\n",
       "    <tr>\n",
       "      <th>17</th>\n",
       "      <td>Engine Type_2</td>\n",
       "      <td>325.624919</td>\n",
       "    </tr>\n",
       "    <tr>\n",
       "      <th>18</th>\n",
       "      <td>Engine Type_3</td>\n",
       "      <td>-376.009535</td>\n",
       "    </tr>\n",
       "    <tr>\n",
       "      <th>19</th>\n",
       "      <td>Registration_0</td>\n",
       "      <td>-2924.062697</td>\n",
       "    </tr>\n",
       "    <tr>\n",
       "      <th>20</th>\n",
       "      <td>Registration_1</td>\n",
       "      <td>2924.062697</td>\n",
       "    </tr>\n",
       "  </tbody>\n",
       "</table>\n",
       "</div>"
      ],
      "text/plain": [
       "           Columns     Estimate\n",
       "0          Mileage   -21.506792\n",
       "1          EngineV  1422.657472\n",
       "2          Brand_0   147.375575\n",
       "3          Brand_1   423.770836\n",
       "4          Brand_2   879.798017\n",
       "5          Brand_3 -1616.336291\n",
       "6          Brand_4 -1783.836376\n",
       "7          Brand_5  1394.189343\n",
       "8          Brand_6   555.038895\n",
       "9           Body_0  2738.118625\n",
       "10          Body_1 -1502.276432\n",
       "11          Body_2    23.837506\n",
       "12          Body_3  -628.229548\n",
       "13          Body_4   -52.860202\n",
       "14          Body_5  -578.589949\n",
       "15   Engine Type_0   919.304501\n",
       "16   Engine Type_1  -868.919884\n",
       "17   Engine Type_2   325.624919\n",
       "18   Engine Type_3  -376.009535\n",
       "19  Registration_0 -2924.062697\n",
       "20  Registration_1  2924.062697"
      ]
     },
     "execution_count": 121,
     "metadata": {},
     "output_type": "execute_result"
    }
   ],
   "source": [
    "lm_coefficient"
   ]
  },
  {
   "cell_type": "markdown",
   "metadata": {},
   "source": [
    "#### 15D. Explain about Ridge Regression and Perform the Lasso Regression"
   ]
  },
  {
   "cell_type": "code",
   "execution_count": 122,
   "metadata": {},
   "outputs": [
    {
     "data": {
      "text/plain": [
       "Lasso(alpha=1)"
      ]
     },
     "execution_count": 122,
     "metadata": {},
     "output_type": "execute_result"
    }
   ],
   "source": [
    "from sklearn.linear_model import Lasso\n",
    "lassoR = Lasso(alpha=1)\n",
    "lassoR.fit(X_train,y_train)"
   ]
  },
  {
   "cell_type": "code",
   "execution_count": 123,
   "metadata": {},
   "outputs": [],
   "source": [
    "y_test_lasso = lassoR.predict(X_test)"
   ]
  },
  {
   "cell_type": "code",
   "execution_count": 124,
   "metadata": {},
   "outputs": [
    {
     "data": {
      "text/plain": [
       "(436,)"
      ]
     },
     "execution_count": 124,
     "metadata": {},
     "output_type": "execute_result"
    }
   ],
   "source": [
    "y_test_lasso.shape"
   ]
  },
  {
   "cell_type": "code",
   "execution_count": 125,
   "metadata": {},
   "outputs": [],
   "source": [
    "lm_coefficient1 = pd.DataFrame()\n",
    "lm_coefficient1['Columns'] = X_train.columns\n",
    "lm_coefficient1['Estimate'] = pd.Series(lassoR.coef_)"
   ]
  },
  {
   "cell_type": "code",
   "execution_count": 126,
   "metadata": {},
   "outputs": [
    {
     "data": {
      "text/html": [
       "<div>\n",
       "<style scoped>\n",
       "    .dataframe tbody tr th:only-of-type {\n",
       "        vertical-align: middle;\n",
       "    }\n",
       "\n",
       "    .dataframe tbody tr th {\n",
       "        vertical-align: top;\n",
       "    }\n",
       "\n",
       "    .dataframe thead th {\n",
       "        text-align: right;\n",
       "    }\n",
       "</style>\n",
       "<table border=\"1\" class=\"dataframe\">\n",
       "  <thead>\n",
       "    <tr style=\"text-align: right;\">\n",
       "      <th></th>\n",
       "      <th>Columns</th>\n",
       "      <th>Estimate</th>\n",
       "    </tr>\n",
       "  </thead>\n",
       "  <tbody>\n",
       "    <tr>\n",
       "      <th>0</th>\n",
       "      <td>Mileage</td>\n",
       "      <td>-2.149799e+01</td>\n",
       "    </tr>\n",
       "    <tr>\n",
       "      <th>1</th>\n",
       "      <td>EngineV</td>\n",
       "      <td>1.416582e+03</td>\n",
       "    </tr>\n",
       "    <tr>\n",
       "      <th>2</th>\n",
       "      <td>Brand_0</td>\n",
       "      <td>-2.613026e+02</td>\n",
       "    </tr>\n",
       "    <tr>\n",
       "      <th>3</th>\n",
       "      <td>Brand_1</td>\n",
       "      <td>0.000000e+00</td>\n",
       "    </tr>\n",
       "    <tr>\n",
       "      <th>4</th>\n",
       "      <td>Brand_2</td>\n",
       "      <td>4.482739e+02</td>\n",
       "    </tr>\n",
       "    <tr>\n",
       "      <th>5</th>\n",
       "      <td>Brand_3</td>\n",
       "      <td>-2.049672e+03</td>\n",
       "    </tr>\n",
       "    <tr>\n",
       "      <th>6</th>\n",
       "      <td>Brand_4</td>\n",
       "      <td>-2.214580e+03</td>\n",
       "    </tr>\n",
       "    <tr>\n",
       "      <th>7</th>\n",
       "      <td>Brand_5</td>\n",
       "      <td>9.594306e+02</td>\n",
       "    </tr>\n",
       "    <tr>\n",
       "      <th>8</th>\n",
       "      <td>Brand_6</td>\n",
       "      <td>1.222749e+02</td>\n",
       "    </tr>\n",
       "    <tr>\n",
       "      <th>9</th>\n",
       "      <td>Body_0</td>\n",
       "      <td>3.205150e+03</td>\n",
       "    </tr>\n",
       "    <tr>\n",
       "      <th>10</th>\n",
       "      <td>Body_1</td>\n",
       "      <td>-1.046470e+03</td>\n",
       "    </tr>\n",
       "    <tr>\n",
       "      <th>11</th>\n",
       "      <td>Body_2</td>\n",
       "      <td>4.710754e+02</td>\n",
       "    </tr>\n",
       "    <tr>\n",
       "      <th>12</th>\n",
       "      <td>Body_3</td>\n",
       "      <td>-1.737240e+02</td>\n",
       "    </tr>\n",
       "    <tr>\n",
       "      <th>13</th>\n",
       "      <td>Body_4</td>\n",
       "      <td>3.912113e+02</td>\n",
       "    </tr>\n",
       "    <tr>\n",
       "      <th>14</th>\n",
       "      <td>Body_5</td>\n",
       "      <td>-1.190187e+02</td>\n",
       "    </tr>\n",
       "    <tr>\n",
       "      <th>15</th>\n",
       "      <td>Engine Type_0</td>\n",
       "      <td>1.292244e+03</td>\n",
       "    </tr>\n",
       "    <tr>\n",
       "      <th>16</th>\n",
       "      <td>Engine Type_1</td>\n",
       "      <td>-4.923127e+02</td>\n",
       "    </tr>\n",
       "    <tr>\n",
       "      <th>17</th>\n",
       "      <td>Engine Type_2</td>\n",
       "      <td>6.758424e+02</td>\n",
       "    </tr>\n",
       "    <tr>\n",
       "      <th>18</th>\n",
       "      <td>Engine Type_3</td>\n",
       "      <td>-3.371584e-01</td>\n",
       "    </tr>\n",
       "    <tr>\n",
       "      <th>19</th>\n",
       "      <td>Registration_0</td>\n",
       "      <td>-5.856621e+03</td>\n",
       "    </tr>\n",
       "    <tr>\n",
       "      <th>20</th>\n",
       "      <td>Registration_1</td>\n",
       "      <td>1.224232e-10</td>\n",
       "    </tr>\n",
       "  </tbody>\n",
       "</table>\n",
       "</div>"
      ],
      "text/plain": [
       "           Columns      Estimate\n",
       "0          Mileage -2.149799e+01\n",
       "1          EngineV  1.416582e+03\n",
       "2          Brand_0 -2.613026e+02\n",
       "3          Brand_1  0.000000e+00\n",
       "4          Brand_2  4.482739e+02\n",
       "5          Brand_3 -2.049672e+03\n",
       "6          Brand_4 -2.214580e+03\n",
       "7          Brand_5  9.594306e+02\n",
       "8          Brand_6  1.222749e+02\n",
       "9           Body_0  3.205150e+03\n",
       "10          Body_1 -1.046470e+03\n",
       "11          Body_2  4.710754e+02\n",
       "12          Body_3 -1.737240e+02\n",
       "13          Body_4  3.912113e+02\n",
       "14          Body_5 -1.190187e+02\n",
       "15   Engine Type_0  1.292244e+03\n",
       "16   Engine Type_1 -4.923127e+02\n",
       "17   Engine Type_2  6.758424e+02\n",
       "18   Engine Type_3 -3.371584e-01\n",
       "19  Registration_0 -5.856621e+03\n",
       "20  Registration_1  1.224232e-10"
      ]
     },
     "execution_count": 126,
     "metadata": {},
     "output_type": "execute_result"
    }
   ],
   "source": [
    "lm_coefficient1"
   ]
  },
  {
   "cell_type": "markdown",
   "metadata": {},
   "source": [
    "### Give the Conclusions about the Model fits for What you Observe."
   ]
  },
  {
   "cell_type": "code",
   "execution_count": 127,
   "metadata": {},
   "outputs": [],
   "source": [
    "### Interpretations"
   ]
  },
  {
   "cell_type": "code",
   "execution_count": 128,
   "metadata": {},
   "outputs": [
    {
     "data": {
      "text/html": [
       "<div>\n",
       "<style scoped>\n",
       "    .dataframe tbody tr th:only-of-type {\n",
       "        vertical-align: middle;\n",
       "    }\n",
       "\n",
       "    .dataframe tbody tr th {\n",
       "        vertical-align: top;\n",
       "    }\n",
       "\n",
       "    .dataframe thead th {\n",
       "        text-align: right;\n",
       "    }\n",
       "</style>\n",
       "<table border=\"1\" class=\"dataframe\">\n",
       "  <thead>\n",
       "    <tr style=\"text-align: right;\">\n",
       "      <th></th>\n",
       "      <th>Mileage</th>\n",
       "      <th>EngineV</th>\n",
       "      <th>Brand_0</th>\n",
       "      <th>Brand_1</th>\n",
       "      <th>Brand_2</th>\n",
       "      <th>Brand_3</th>\n",
       "      <th>Brand_4</th>\n",
       "      <th>Brand_5</th>\n",
       "      <th>Brand_6</th>\n",
       "      <th>Body_0</th>\n",
       "      <th>...</th>\n",
       "      <th>Body_2</th>\n",
       "      <th>Body_3</th>\n",
       "      <th>Body_4</th>\n",
       "      <th>Body_5</th>\n",
       "      <th>Engine Type_0</th>\n",
       "      <th>Engine Type_1</th>\n",
       "      <th>Engine Type_2</th>\n",
       "      <th>Engine Type_3</th>\n",
       "      <th>Registration_0</th>\n",
       "      <th>Registration_1</th>\n",
       "    </tr>\n",
       "  </thead>\n",
       "  <tbody>\n",
       "    <tr>\n",
       "      <th>0</th>\n",
       "      <td>277</td>\n",
       "      <td>2.0</td>\n",
       "      <td>0</td>\n",
       "      <td>1</td>\n",
       "      <td>0</td>\n",
       "      <td>0</td>\n",
       "      <td>0</td>\n",
       "      <td>0</td>\n",
       "      <td>0</td>\n",
       "      <td>0</td>\n",
       "      <td>...</td>\n",
       "      <td>0</td>\n",
       "      <td>1</td>\n",
       "      <td>0</td>\n",
       "      <td>0</td>\n",
       "      <td>0</td>\n",
       "      <td>0</td>\n",
       "      <td>0</td>\n",
       "      <td>1</td>\n",
       "      <td>0</td>\n",
       "      <td>1</td>\n",
       "    </tr>\n",
       "    <tr>\n",
       "      <th>4</th>\n",
       "      <td>120</td>\n",
       "      <td>2.0</td>\n",
       "      <td>0</td>\n",
       "      <td>0</td>\n",
       "      <td>0</td>\n",
       "      <td>0</td>\n",
       "      <td>0</td>\n",
       "      <td>1</td>\n",
       "      <td>0</td>\n",
       "      <td>1</td>\n",
       "      <td>...</td>\n",
       "      <td>0</td>\n",
       "      <td>0</td>\n",
       "      <td>0</td>\n",
       "      <td>0</td>\n",
       "      <td>0</td>\n",
       "      <td>0</td>\n",
       "      <td>0</td>\n",
       "      <td>1</td>\n",
       "      <td>0</td>\n",
       "      <td>1</td>\n",
       "    </tr>\n",
       "  </tbody>\n",
       "</table>\n",
       "<p>2 rows × 21 columns</p>\n",
       "</div>"
      ],
      "text/plain": [
       "   Mileage  EngineV  Brand_0  Brand_1  Brand_2  Brand_3  Brand_4  Brand_5  \\\n",
       "0      277      2.0        0        1        0        0        0        0   \n",
       "4      120      2.0        0        0        0        0        0        1   \n",
       "\n",
       "   Brand_6  Body_0  ...  Body_2  Body_3  Body_4  Body_5  Engine Type_0  \\\n",
       "0        0       0  ...       0       1       0       0              0   \n",
       "4        0       1  ...       0       0       0       0              0   \n",
       "\n",
       "   Engine Type_1  Engine Type_2  Engine Type_3  Registration_0  Registration_1  \n",
       "0              0              0              1               0               1  \n",
       "4              0              0              1               0               1  \n",
       "\n",
       "[2 rows x 21 columns]"
      ]
     },
     "execution_count": 128,
     "metadata": {},
     "output_type": "execute_result"
    }
   ],
   "source": [
    "In.head(2)"
   ]
  },
  {
   "cell_type": "markdown",
   "metadata": {},
   "source": [
    "####  array(['BMW' : 0, 'Mercedes-Benz' : 1, 'Audi' : 2, 'Toyota' : 3, 'Renault' : 4, 'Volkswagen' : 5,'Mitsubishi' : 6], dtype=object)\n",
    "\n",
    "####  array(['sedan' : 0, 'van' : 1, 'crossover' : 2, 'vagon' : 3, 'other' : 4, 'hatch' : 5],dtype=object)\n",
    "\n",
    "####  array(['Petrol' :0, 'Diesel' : 1, 'Gas' : 2, 'Other' : 3], dtype=object)\n",
    "\n",
    "####  array(['yes' : 0, 'no' : 1], dtype=object)"
   ]
  },
  {
   "cell_type": "markdown",
   "metadata": {},
   "source": [
    "#### Note: Above mentioned in the array, we are following the labling."
   ]
  },
  {
   "cell_type": "code",
   "execution_count": 129,
   "metadata": {},
   "outputs": [
    {
     "data": {
      "text/plain": [
       "array([1, 5, 0, 4, 6, 3, 2])"
      ]
     },
     "execution_count": 129,
     "metadata": {},
     "output_type": "execute_result"
    }
   ],
   "source": [
    "### Labling and assingment\n",
    "df['Brand'].unique()"
   ]
  },
  {
   "cell_type": "code",
   "execution_count": 131,
   "metadata": {},
   "outputs": [
    {
     "data": {
      "text/plain": [
       "array([3, 0, 4, 2, 1, 5])"
      ]
     },
     "execution_count": 131,
     "metadata": {},
     "output_type": "execute_result"
    }
   ],
   "source": [
    "df['Body'].unique()"
   ]
  },
  {
   "cell_type": "code",
   "execution_count": 132,
   "metadata": {},
   "outputs": [
    {
     "data": {
      "text/plain": [
       "array([3, 0, 1, 2])"
      ]
     },
     "execution_count": 132,
     "metadata": {},
     "output_type": "execute_result"
    }
   ],
   "source": [
    "df['EngineType'].unique()"
   ]
  },
  {
   "cell_type": "code",
   "execution_count": 133,
   "metadata": {},
   "outputs": [
    {
     "data": {
      "text/plain": [
       "array([1, 0])"
      ]
     },
     "execution_count": 133,
     "metadata": {},
     "output_type": "execute_result"
    }
   ],
   "source": [
    "df['Registration'].unique()"
   ]
  },
  {
   "cell_type": "code",
   "execution_count": 134,
   "metadata": {},
   "outputs": [
    {
     "data": {
      "text/html": [
       "<div>\n",
       "<style scoped>\n",
       "    .dataframe tbody tr th:only-of-type {\n",
       "        vertical-align: middle;\n",
       "    }\n",
       "\n",
       "    .dataframe tbody tr th {\n",
       "        vertical-align: top;\n",
       "    }\n",
       "\n",
       "    .dataframe thead th {\n",
       "        text-align: right;\n",
       "    }\n",
       "</style>\n",
       "<table border=\"1\" class=\"dataframe\">\n",
       "  <thead>\n",
       "    <tr style=\"text-align: right;\">\n",
       "      <th></th>\n",
       "      <th>Mileage</th>\n",
       "      <th>EngineV</th>\n",
       "      <th>Brand_0</th>\n",
       "      <th>Brand_1</th>\n",
       "      <th>Brand_2</th>\n",
       "      <th>Brand_3</th>\n",
       "      <th>Brand_4</th>\n",
       "      <th>Brand_5</th>\n",
       "      <th>Brand_6</th>\n",
       "      <th>Body_0</th>\n",
       "      <th>...</th>\n",
       "      <th>Body_2</th>\n",
       "      <th>Body_3</th>\n",
       "      <th>Body_4</th>\n",
       "      <th>Body_5</th>\n",
       "      <th>Engine Type_0</th>\n",
       "      <th>Engine Type_1</th>\n",
       "      <th>Engine Type_2</th>\n",
       "      <th>Engine Type_3</th>\n",
       "      <th>Registration_0</th>\n",
       "      <th>Registration_1</th>\n",
       "    </tr>\n",
       "  </thead>\n",
       "  <tbody>\n",
       "    <tr>\n",
       "      <th>0</th>\n",
       "      <td>277</td>\n",
       "      <td>2.0</td>\n",
       "      <td>0</td>\n",
       "      <td>1</td>\n",
       "      <td>0</td>\n",
       "      <td>0</td>\n",
       "      <td>0</td>\n",
       "      <td>0</td>\n",
       "      <td>0</td>\n",
       "      <td>0</td>\n",
       "      <td>...</td>\n",
       "      <td>0</td>\n",
       "      <td>1</td>\n",
       "      <td>0</td>\n",
       "      <td>0</td>\n",
       "      <td>0</td>\n",
       "      <td>0</td>\n",
       "      <td>0</td>\n",
       "      <td>1</td>\n",
       "      <td>0</td>\n",
       "      <td>1</td>\n",
       "    </tr>\n",
       "    <tr>\n",
       "      <th>4</th>\n",
       "      <td>120</td>\n",
       "      <td>2.0</td>\n",
       "      <td>0</td>\n",
       "      <td>0</td>\n",
       "      <td>0</td>\n",
       "      <td>0</td>\n",
       "      <td>0</td>\n",
       "      <td>1</td>\n",
       "      <td>0</td>\n",
       "      <td>1</td>\n",
       "      <td>...</td>\n",
       "      <td>0</td>\n",
       "      <td>0</td>\n",
       "      <td>0</td>\n",
       "      <td>0</td>\n",
       "      <td>0</td>\n",
       "      <td>0</td>\n",
       "      <td>0</td>\n",
       "      <td>1</td>\n",
       "      <td>0</td>\n",
       "      <td>1</td>\n",
       "    </tr>\n",
       "  </tbody>\n",
       "</table>\n",
       "<p>2 rows × 21 columns</p>\n",
       "</div>"
      ],
      "text/plain": [
       "   Mileage  EngineV  Brand_0  Brand_1  Brand_2  Brand_3  Brand_4  Brand_5  \\\n",
       "0      277      2.0        0        1        0        0        0        0   \n",
       "4      120      2.0        0        0        0        0        0        1   \n",
       "\n",
       "   Brand_6  Body_0  ...  Body_2  Body_3  Body_4  Body_5  Engine Type_0  \\\n",
       "0        0       0  ...       0       1       0       0              0   \n",
       "4        0       1  ...       0       0       0       0              0   \n",
       "\n",
       "   Engine Type_1  Engine Type_2  Engine Type_3  Registration_0  Registration_1  \n",
       "0              0              0              1               0               1  \n",
       "4              0              0              1               0               1  \n",
       "\n",
       "[2 rows x 21 columns]"
      ]
     },
     "execution_count": 134,
     "metadata": {},
     "output_type": "execute_result"
    }
   ],
   "source": [
    "In.head(2)"
   ]
  },
  {
   "cell_type": "markdown",
   "metadata": {},
   "source": [
    "### We want to Predict"
   ]
  },
  {
   "cell_type": "markdown",
   "metadata": {},
   "source": [
    "#### I want to Predict : Car features should be - \n",
    "\n",
    "####  Mileage : 100 , EngineV : 2.0 , Brand : Renault (4) , Body : sedan (0) , EngineType : Gas (2) , Registration : Yes (1)"
   ]
  },
  {
   "cell_type": "code",
   "execution_count": 138,
   "metadata": {},
   "outputs": [
    {
     "data": {
      "text/plain": [
       "array([4218.88735815])"
      ]
     },
     "execution_count": 138,
     "metadata": {},
     "output_type": "execute_result"
    }
   ],
   "source": [
    "reg.predict([[500,2.0,0,0,0,0,1,0,0,1,0,0,0,0,0,0,0,1,0,0,1]])"
   ]
  }
 ],
 "metadata": {
  "kernelspec": {
   "display_name": "Python 3",
   "language": "python",
   "name": "python3"
  },
  "language_info": {
   "codemirror_mode": {
    "name": "ipython",
    "version": 3
   },
   "file_extension": ".py",
   "mimetype": "text/x-python",
   "name": "python",
   "nbconvert_exporter": "python",
   "pygments_lexer": "ipython3",
   "version": "3.8.5"
  }
 },
 "nbformat": 4,
 "nbformat_minor": 2
}
